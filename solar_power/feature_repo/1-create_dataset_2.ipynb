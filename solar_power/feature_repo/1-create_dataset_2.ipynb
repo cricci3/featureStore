{
 "cells": [
  {
   "cell_type": "code",
   "execution_count": 1,
   "metadata": {
    "collapsed": true
   },
   "outputs": [],
   "source": [
    "import pandas as pd\n",
    "from feast import FeatureStore\n",
    "from feast.infra.offline_stores.file_source import SavedDatasetFileStorage"
   ]
  },
  {
   "cell_type": "code",
   "execution_count": 2,
   "outputs": [],
   "source": [
    "# Getting the FS\n",
    "store = FeatureStore(repo_path=\".\")"
   ],
   "metadata": {
    "collapsed": false
   }
  },
  {
   "cell_type": "code",
   "execution_count": 3,
   "outputs": [],
   "source": [
    "# Reading the target as an entity DataFrame\n",
    "entity_df = pd.read_parquet(path=r\"data/target_df_2.parquet\")\n",
    "training_data = store.get_historical_features(\n",
    "    entity_df=entity_df,\n",
    "    features=[\n",
    "        \"df1_2_feature_view:Gender\",\n",
    "        \"df1_2_feature_view:Age\",\n",
    "        \"df2_2_feature_view:CreditScore\",\n",
    "        \"df2_2_feature_view:Tenure\",\n",
    "        \"df2_2_feature_view:Balance\",\n",
    "        \"df2_2_feature_view:EstimatedSalary\",\n",
    "        \"df3_2_feature_view:NumOfProducts\",\n",
    "        \"df3_2_feature_view:HasCrCard\",\n",
    "        \"df3_2_feature_view:IsActiveMember\",\n",
    "        \"df4_2_feature_view:Geography_France\",\n",
    "        \"df4_2_feature_view:Geography_Germany\",\n",
    "        \"df4_2_feature_view:Geography_Spain\"\n",
    "    ]\n",
    ")"
   ],
   "metadata": {
    "collapsed": false
   }
  },
  {
   "cell_type": "code",
   "execution_count": 4,
   "outputs": [
    {
     "name": "stderr",
     "output_type": "stream",
     "text": [
      "C:\\Users\\claud\\AppData\\Local\\Programs\\Python\\Python311\\Lib\\site-packages\\feast\\feature_store.py:1125: RuntimeWarning: Saving dataset is an experimental feature. This API is unstable and it could and most probably will be changed in the future. We do not guarantee that future changes will maintain backward compatibility.\n",
      "  warnings.warn(\n"
     ]
    },
    {
     "data": {
      "text/plain": "        Balance  CreditScore  Geography_Germany           event_timestamp  \\\n0          0.00          712              False 2023-01-01 00:00:00+00:00   \n1          0.00          812              False 2023-01-01 00:00:00+00:00   \n2          0.00          802              False 2023-01-01 00:00:00+00:00   \n3          0.00          590              False 2023-01-01 00:00:00+00:00   \n4     158468.76          666               True 2023-01-01 00:00:00+00:00   \n...         ...          ...                ...                       ...   \n9995  105525.65          518              False 2023-12-31 00:00:00+00:00   \n9996       0.00          572              False 2023-12-31 00:00:00+00:00   \n9997       0.00          720              False 2023-12-31 00:00:00+00:00   \n9998  104077.19          850              False 2023-12-31 00:00:00+00:00   \n9999  158351.02          523              False 2023-12-31 00:00:00+00:00   \n\n      EstimatedSalary  NumOfProducts  Gender  HasCrCard  USER_ID  Tenure  \\\n0           183235.33              2  Female          1     5313       8   \n1            66926.83              3  Female          1     1677       8   \n2            57764.65              2    Male          0     3238       7   \n3           104730.52              2    Male          1     7664       9   \n4            93266.01              1  Female          0     7387       2   \n...               ...            ...     ...        ...      ...     ...   \n9995         73418.29              2  Female          1      880       9   \n9996           555.28              2  Female          1     8220       2   \n9997        142956.48              2    Male          1     5533       9   \n9998         68594.00              2    Male          0     1484       1   \n9999        155304.53              2    Male          1     9459       8   \n\n      Geography_Spain  IsActiveMember  Age  Exited  Geography_France  \n0                True               0   48       0             False  \n1                True               0   44       1             False  \n2                True               1   38       0             False  \n3               False               1   39       0              True  \n4               False               1   37       0             False  \n...               ...             ...  ...     ...               ...  \n9995            False               1   45       0              True  \n9996            False               1   39       0              True  \n9997            False               1   33       0              True  \n9998            False               1   36       0              True  \n9999            False               0   36       0              True  \n\n[10000 rows x 15 columns]",
      "text/html": "<div>\n<style scoped>\n    .dataframe tbody tr th:only-of-type {\n        vertical-align: middle;\n    }\n\n    .dataframe tbody tr th {\n        vertical-align: top;\n    }\n\n    .dataframe thead th {\n        text-align: right;\n    }\n</style>\n<table border=\"1\" class=\"dataframe\">\n  <thead>\n    <tr style=\"text-align: right;\">\n      <th></th>\n      <th>Balance</th>\n      <th>CreditScore</th>\n      <th>Geography_Germany</th>\n      <th>event_timestamp</th>\n      <th>EstimatedSalary</th>\n      <th>NumOfProducts</th>\n      <th>Gender</th>\n      <th>HasCrCard</th>\n      <th>USER_ID</th>\n      <th>Tenure</th>\n      <th>Geography_Spain</th>\n      <th>IsActiveMember</th>\n      <th>Age</th>\n      <th>Exited</th>\n      <th>Geography_France</th>\n    </tr>\n  </thead>\n  <tbody>\n    <tr>\n      <th>0</th>\n      <td>0.00</td>\n      <td>712</td>\n      <td>False</td>\n      <td>2023-01-01 00:00:00+00:00</td>\n      <td>183235.33</td>\n      <td>2</td>\n      <td>Female</td>\n      <td>1</td>\n      <td>5313</td>\n      <td>8</td>\n      <td>True</td>\n      <td>0</td>\n      <td>48</td>\n      <td>0</td>\n      <td>False</td>\n    </tr>\n    <tr>\n      <th>1</th>\n      <td>0.00</td>\n      <td>812</td>\n      <td>False</td>\n      <td>2023-01-01 00:00:00+00:00</td>\n      <td>66926.83</td>\n      <td>3</td>\n      <td>Female</td>\n      <td>1</td>\n      <td>1677</td>\n      <td>8</td>\n      <td>True</td>\n      <td>0</td>\n      <td>44</td>\n      <td>1</td>\n      <td>False</td>\n    </tr>\n    <tr>\n      <th>2</th>\n      <td>0.00</td>\n      <td>802</td>\n      <td>False</td>\n      <td>2023-01-01 00:00:00+00:00</td>\n      <td>57764.65</td>\n      <td>2</td>\n      <td>Male</td>\n      <td>0</td>\n      <td>3238</td>\n      <td>7</td>\n      <td>True</td>\n      <td>1</td>\n      <td>38</td>\n      <td>0</td>\n      <td>False</td>\n    </tr>\n    <tr>\n      <th>3</th>\n      <td>0.00</td>\n      <td>590</td>\n      <td>False</td>\n      <td>2023-01-01 00:00:00+00:00</td>\n      <td>104730.52</td>\n      <td>2</td>\n      <td>Male</td>\n      <td>1</td>\n      <td>7664</td>\n      <td>9</td>\n      <td>False</td>\n      <td>1</td>\n      <td>39</td>\n      <td>0</td>\n      <td>True</td>\n    </tr>\n    <tr>\n      <th>4</th>\n      <td>158468.76</td>\n      <td>666</td>\n      <td>True</td>\n      <td>2023-01-01 00:00:00+00:00</td>\n      <td>93266.01</td>\n      <td>1</td>\n      <td>Female</td>\n      <td>0</td>\n      <td>7387</td>\n      <td>2</td>\n      <td>False</td>\n      <td>1</td>\n      <td>37</td>\n      <td>0</td>\n      <td>False</td>\n    </tr>\n    <tr>\n      <th>...</th>\n      <td>...</td>\n      <td>...</td>\n      <td>...</td>\n      <td>...</td>\n      <td>...</td>\n      <td>...</td>\n      <td>...</td>\n      <td>...</td>\n      <td>...</td>\n      <td>...</td>\n      <td>...</td>\n      <td>...</td>\n      <td>...</td>\n      <td>...</td>\n      <td>...</td>\n    </tr>\n    <tr>\n      <th>9995</th>\n      <td>105525.65</td>\n      <td>518</td>\n      <td>False</td>\n      <td>2023-12-31 00:00:00+00:00</td>\n      <td>73418.29</td>\n      <td>2</td>\n      <td>Female</td>\n      <td>1</td>\n      <td>880</td>\n      <td>9</td>\n      <td>False</td>\n      <td>1</td>\n      <td>45</td>\n      <td>0</td>\n      <td>True</td>\n    </tr>\n    <tr>\n      <th>9996</th>\n      <td>0.00</td>\n      <td>572</td>\n      <td>False</td>\n      <td>2023-12-31 00:00:00+00:00</td>\n      <td>555.28</td>\n      <td>2</td>\n      <td>Female</td>\n      <td>1</td>\n      <td>8220</td>\n      <td>2</td>\n      <td>False</td>\n      <td>1</td>\n      <td>39</td>\n      <td>0</td>\n      <td>True</td>\n    </tr>\n    <tr>\n      <th>9997</th>\n      <td>0.00</td>\n      <td>720</td>\n      <td>False</td>\n      <td>2023-12-31 00:00:00+00:00</td>\n      <td>142956.48</td>\n      <td>2</td>\n      <td>Male</td>\n      <td>1</td>\n      <td>5533</td>\n      <td>9</td>\n      <td>False</td>\n      <td>1</td>\n      <td>33</td>\n      <td>0</td>\n      <td>True</td>\n    </tr>\n    <tr>\n      <th>9998</th>\n      <td>104077.19</td>\n      <td>850</td>\n      <td>False</td>\n      <td>2023-12-31 00:00:00+00:00</td>\n      <td>68594.00</td>\n      <td>2</td>\n      <td>Male</td>\n      <td>0</td>\n      <td>1484</td>\n      <td>1</td>\n      <td>False</td>\n      <td>1</td>\n      <td>36</td>\n      <td>0</td>\n      <td>True</td>\n    </tr>\n    <tr>\n      <th>9999</th>\n      <td>158351.02</td>\n      <td>523</td>\n      <td>False</td>\n      <td>2023-12-31 00:00:00+00:00</td>\n      <td>155304.53</td>\n      <td>2</td>\n      <td>Male</td>\n      <td>1</td>\n      <td>9459</td>\n      <td>8</td>\n      <td>False</td>\n      <td>0</td>\n      <td>36</td>\n      <td>0</td>\n      <td>True</td>\n    </tr>\n  </tbody>\n</table>\n<p>10000 rows × 15 columns</p>\n</div>"
     },
     "execution_count": 4,
     "metadata": {},
     "output_type": "execute_result"
    }
   ],
   "source": [
    "# Storing the dataset as a local file\n",
    "dataset = store.create_saved_dataset(\n",
    "    from_=training_data,\n",
    "    name=\"churn_dataset\",\n",
    "    storage=SavedDatasetFileStorage(r\"data\\churn_dataset.parquet\")\n",
    ")\n",
    "dataset.to_df()"
   ],
   "metadata": {
    "collapsed": false
   }
  }
 ],
 "metadata": {
  "kernelspec": {
   "display_name": "Python 3",
   "language": "python",
   "name": "python3"
  },
  "language_info": {
   "codemirror_mode": {
    "name": "ipython",
    "version": 2
   },
   "file_extension": ".py",
   "mimetype": "text/x-python",
   "name": "python",
   "nbconvert_exporter": "python",
   "pygments_lexer": "ipython2",
   "version": "2.7.6"
  }
 },
 "nbformat": 4,
 "nbformat_minor": 0
}
