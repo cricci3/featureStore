{
 "cells": [
  {
   "cell_type": "code",
   "execution_count": 1,
   "metadata": {
    "collapsed": true
   },
   "outputs": [],
   "source": [
    "import pandas as pd\n",
    "from feast import FeatureStore\n",
    "from feast.infra.offline_stores.file_source import SavedDatasetFileStorage"
   ]
  },
  {
   "cell_type": "code",
   "execution_count": 2,
   "outputs": [],
   "source": [
    "# Getting the FS\n",
    "store = FeatureStore(repo_path=\".\")"
   ],
   "metadata": {
    "collapsed": false
   }
  },
  {
   "cell_type": "code",
   "execution_count": 3,
   "outputs": [],
   "source": [
    "# Reading the target as an entity DataFrame\n",
    "entity_df = pd.read_parquet(path=r\"data/target_df_2.parquet\")\n",
    "training_data = store.get_historical_features(\n",
    "    entity_df=entity_df,\n",
    "    features=[\n",
    "        \"df1_2_feature_view:Gender\",\n",
    "        \"df1_2_feature_view:Age\",\n",
    "        \"df2_2_feature_view:CreditScore\",\n",
    "        \"df2_2_feature_view:Tenure\",\n",
    "        \"df2_2_feature_view:Balance\",\n",
    "        \"df2_2_feature_view:EstimatedSalary\",\n",
    "        \"df3_2_feature_view:NumOfProducts\",\n",
    "        \"df3_2_feature_view:HasCrCard\",\n",
    "        \"df3_2_feature_view:IsActiveMember\",\n",
    "        \"df4_2_feature_view:Geography_France\",\n",
    "        \"df4_2_feature_view:Geography_Germany\",\n",
    "        \"df4_2_feature_view:Geography_Spain\"\n",
    "    ]\n",
    ")"
   ],
   "metadata": {
    "collapsed": false
   }
  },
  {
   "cell_type": "code",
   "execution_count": 0,
   "outputs": [],
   "source": [
    "# Storing the dataset as a local file\n",
    "dataset = store.create_saved_dataset(\n",
    "    from_=training_data,\n",
    "    name=\"churn_dataset\",\n",
    "    storage=SavedDatasetFileStorage(r\"data\\churn_dataset.parquet\")\n",
    ")"
   ],
   "metadata": {
    "collapsed": false
   }
  },
  {
   "cell_type": "code",
   "execution_count": 7,
   "outputs": [
    {
     "data": {
      "text/plain": "   EstimatedSalary  HasCrCard  IsActiveMember  CreditScore  Exited  Age  \\\n0        193309.58          0               0          613       0   40   \n1         45026.23          1               0          581       1   44   \n2        111402.97          1               1          544       1   64   \n3         78896.59          0               1          810       0   32   \n4          5669.31          1               0          850       1   45   \n\n   NumOfProducts  Tenure    Balance  Geography_France  USER_ID  \\\n0              1       7  124339.90              True     9195   \n1              2       7  189318.16             False     7283   \n2              1       3  124043.80              True     1520   \n3              2       9  120879.73              True     8200   \n4              4       5  174088.30             False     4167   \n\n   Geography_Spain  Geography_Germany  Gender           event_timestamp  \n0            False              False       1 2023-01-01 00:00:00+00:00  \n1             True              False       0 2023-01-01 00:00:00+00:00  \n2            False              False       0 2023-01-01 00:00:00+00:00  \n3            False              False       1 2023-01-01 00:00:00+00:00  \n4             True              False       0 2023-01-01 00:00:00+00:00  ",
      "text/html": "<div>\n<style scoped>\n    .dataframe tbody tr th:only-of-type {\n        vertical-align: middle;\n    }\n\n    .dataframe tbody tr th {\n        vertical-align: top;\n    }\n\n    .dataframe thead th {\n        text-align: right;\n    }\n</style>\n<table border=\"1\" class=\"dataframe\">\n  <thead>\n    <tr style=\"text-align: right;\">\n      <th></th>\n      <th>EstimatedSalary</th>\n      <th>HasCrCard</th>\n      <th>IsActiveMember</th>\n      <th>CreditScore</th>\n      <th>Exited</th>\n      <th>Age</th>\n      <th>NumOfProducts</th>\n      <th>Tenure</th>\n      <th>Balance</th>\n      <th>Geography_France</th>\n      <th>USER_ID</th>\n      <th>Geography_Spain</th>\n      <th>Geography_Germany</th>\n      <th>Gender</th>\n      <th>event_timestamp</th>\n    </tr>\n  </thead>\n  <tbody>\n    <tr>\n      <th>0</th>\n      <td>193309.58</td>\n      <td>0</td>\n      <td>0</td>\n      <td>613</td>\n      <td>0</td>\n      <td>40</td>\n      <td>1</td>\n      <td>7</td>\n      <td>124339.90</td>\n      <td>True</td>\n      <td>9195</td>\n      <td>False</td>\n      <td>False</td>\n      <td>1</td>\n      <td>2023-01-01 00:00:00+00:00</td>\n    </tr>\n    <tr>\n      <th>1</th>\n      <td>45026.23</td>\n      <td>1</td>\n      <td>0</td>\n      <td>581</td>\n      <td>1</td>\n      <td>44</td>\n      <td>2</td>\n      <td>7</td>\n      <td>189318.16</td>\n      <td>False</td>\n      <td>7283</td>\n      <td>True</td>\n      <td>False</td>\n      <td>0</td>\n      <td>2023-01-01 00:00:00+00:00</td>\n    </tr>\n    <tr>\n      <th>2</th>\n      <td>111402.97</td>\n      <td>1</td>\n      <td>1</td>\n      <td>544</td>\n      <td>1</td>\n      <td>64</td>\n      <td>1</td>\n      <td>3</td>\n      <td>124043.80</td>\n      <td>True</td>\n      <td>1520</td>\n      <td>False</td>\n      <td>False</td>\n      <td>0</td>\n      <td>2023-01-01 00:00:00+00:00</td>\n    </tr>\n    <tr>\n      <th>3</th>\n      <td>78896.59</td>\n      <td>0</td>\n      <td>1</td>\n      <td>810</td>\n      <td>0</td>\n      <td>32</td>\n      <td>2</td>\n      <td>9</td>\n      <td>120879.73</td>\n      <td>True</td>\n      <td>8200</td>\n      <td>False</td>\n      <td>False</td>\n      <td>1</td>\n      <td>2023-01-01 00:00:00+00:00</td>\n    </tr>\n    <tr>\n      <th>4</th>\n      <td>5669.31</td>\n      <td>1</td>\n      <td>0</td>\n      <td>850</td>\n      <td>1</td>\n      <td>45</td>\n      <td>4</td>\n      <td>5</td>\n      <td>174088.30</td>\n      <td>False</td>\n      <td>4167</td>\n      <td>True</td>\n      <td>False</td>\n      <td>0</td>\n      <td>2023-01-01 00:00:00+00:00</td>\n    </tr>\n  </tbody>\n</table>\n</div>"
     },
     "execution_count": 7,
     "metadata": {},
     "output_type": "execute_result"
    }
   ],
   "source": [
    "dataset.to_df().head()"
   ],
   "metadata": {
    "collapsed": false
   }
  },
  {
   "cell_type": "code",
   "execution_count": 5,
   "outputs": [
    {
     "data": {
      "text/plain": "EstimatedSalary                  float64\nHasCrCard                          int64\nIsActiveMember                     int64\nCreditScore                        int64\nExited                             int64\nAge                                int64\nNumOfProducts                      int64\nTenure                             int64\nBalance                          float64\nGeography_France                    bool\nUSER_ID                            int64\nGeography_Spain                     bool\nGeography_Germany                   bool\nGender                             int64\nevent_timestamp      datetime64[ns, UTC]\ndtype: object"
     },
     "execution_count": 5,
     "metadata": {},
     "output_type": "execute_result"
    }
   ],
   "source": [
    "dataset.to_df().dtypes"
   ],
   "metadata": {
    "collapsed": false
   }
  },
  {
   "cell_type": "code",
   "execution_count": 6,
   "outputs": [
    {
     "data": {
      "text/plain": "EstimatedSalary      0\nHasCrCard            0\nIsActiveMember       0\nCreditScore          0\nExited               0\nAge                  0\nNumOfProducts        0\nTenure               0\nBalance              0\nGeography_France     0\nUSER_ID              0\nGeography_Spain      0\nGeography_Germany    0\nGender               0\nevent_timestamp      0\ndtype: int64"
     },
     "execution_count": 6,
     "metadata": {},
     "output_type": "execute_result"
    }
   ],
   "source": [
    "# Verifica dei valori nulli\n",
    "null_counts = dataset.to_df().isnull().sum()\n",
    "null_counts"
   ],
   "metadata": {
    "collapsed": false
   }
  }
 ],
 "metadata": {
  "kernelspec": {
   "display_name": "Python 3",
   "language": "python",
   "name": "python3"
  },
  "language_info": {
   "codemirror_mode": {
    "name": "ipython",
    "version": 2
   },
   "file_extension": ".py",
   "mimetype": "text/x-python",
   "name": "python",
   "nbconvert_exporter": "python",
   "pygments_lexer": "ipython2",
   "version": "2.7.6"
  }
 },
 "nbformat": 4,
 "nbformat_minor": 0
}
