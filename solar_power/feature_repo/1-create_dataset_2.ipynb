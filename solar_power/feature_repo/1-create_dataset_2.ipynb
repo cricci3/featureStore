{
 "cells": [
  {
   "cell_type": "code",
   "execution_count": 1,
   "metadata": {
    "collapsed": true
   },
   "outputs": [],
   "source": [
    "import pandas as pd\n",
    "from feast import FeatureStore\n",
    "from feast.infra.offline_stores.file_source import SavedDatasetFileStorage"
   ]
  },
  {
   "cell_type": "code",
   "execution_count": 2,
   "metadata": {
    "collapsed": false
   },
   "outputs": [],
   "source": [
    "# Getting the FS\n",
    "store = FeatureStore(repo_path=\".\")"
   ]
  },
  {
   "cell_type": "code",
   "execution_count": 3,
   "metadata": {
    "collapsed": false
   },
   "outputs": [],
   "source": [
    "# Reading the target as an entity DataFrame\n",
    "entity_df = pd.read_parquet(path=r\"data/target_df_2.parquet\")\n",
    "training_data = store.get_historical_features(\n",
    "    entity_df=entity_df,\n",
    "    features=[\n",
    "        \"df1_2_feature_view:Gender\",\n",
    "        \"df1_2_feature_view:Age\",\n",
    "        \"df2_2_feature_view:CreditScore\",\n",
    "        \"df2_2_feature_view:Tenure\",\n",
    "        \"df2_2_feature_view:Balance\",\n",
    "        \"df2_2_feature_view:EstimatedSalary\",\n",
    "        \"df3_2_feature_view:NumOfProducts\",\n",
    "        \"df3_2_feature_view:HasCrCard\",\n",
    "        \"df3_2_feature_view:IsActiveMember\",\n",
    "        \"df4_2_feature_view:Geography_France\",\n",
    "        \"df4_2_feature_view:Geography_Germany\",\n",
    "        \"df4_2_feature_view:Geography_Spain\"\n",
    "    ]\n",
    ")"
   ]
  },
  {
   "cell_type": "code",
   "execution_count": 4,
   "metadata": {
    "collapsed": false
   },
   "outputs": [
    {
     "name": "stderr",
     "output_type": "stream",
     "text": [
      "C:\\Users\\claud\\AppData\\Local\\Programs\\Python\\Python311\\Lib\\site-packages\\feast\\feature_store.py:1125: RuntimeWarning: Saving dataset is an experimental feature. This API is unstable and it could and most probably will be changed in the future. We do not guarantee that future changes will maintain backward compatibility.\n",
      "  warnings.warn(\n"
     ]
    }
   ],
   "source": [
    "# Storing the dataset as a local file\n",
    "dataset = store.create_saved_dataset(\n",
    "    from_=training_data,\n",
    "    name=\"churn_dataset\",\n",
    "    storage=SavedDatasetFileStorage(r\"data\\churn_dataset.parquet\")\n",
    ")"
   ]
  },
  {
   "cell_type": "code",
   "execution_count": 5,
   "metadata": {
    "collapsed": false
   },
   "outputs": [
    {
     "data": {
      "text/plain": "   IsActiveMember  Tenure  USER_ID  EstimatedSalary  Exited  NumOfProducts  \\\n0               0       7     9195        193309.58       0              1   \n1               0       7     7283         45026.23       1              2   \n2               1       3     1520        111402.97       1              1   \n3               1       9     8200         78896.59       0              2   \n4               0       5     4167          5669.31       1              4   \n\n   Gender           event_timestamp    Balance  Geography_Spain  CreditScore  \\\n0       1 2023-01-01 00:00:00+00:00  124339.90            False          613   \n1       0 2023-01-01 00:00:00+00:00  189318.16             True          581   \n2       0 2023-01-01 00:00:00+00:00  124043.80            False          544   \n3       1 2023-01-01 00:00:00+00:00  120879.73            False          810   \n4       0 2023-01-01 00:00:00+00:00  174088.30             True          850   \n\n   Age  Geography_France  HasCrCard  Geography_Germany  \n0   40              True          0              False  \n1   44             False          1              False  \n2   64              True          1              False  \n3   32              True          0              False  \n4   45             False          1              False  ",
      "text/html": "<div>\n<style scoped>\n    .dataframe tbody tr th:only-of-type {\n        vertical-align: middle;\n    }\n\n    .dataframe tbody tr th {\n        vertical-align: top;\n    }\n\n    .dataframe thead th {\n        text-align: right;\n    }\n</style>\n<table border=\"1\" class=\"dataframe\">\n  <thead>\n    <tr style=\"text-align: right;\">\n      <th></th>\n      <th>IsActiveMember</th>\n      <th>Tenure</th>\n      <th>USER_ID</th>\n      <th>EstimatedSalary</th>\n      <th>Exited</th>\n      <th>NumOfProducts</th>\n      <th>Gender</th>\n      <th>event_timestamp</th>\n      <th>Balance</th>\n      <th>Geography_Spain</th>\n      <th>CreditScore</th>\n      <th>Age</th>\n      <th>Geography_France</th>\n      <th>HasCrCard</th>\n      <th>Geography_Germany</th>\n    </tr>\n  </thead>\n  <tbody>\n    <tr>\n      <th>0</th>\n      <td>0</td>\n      <td>7</td>\n      <td>9195</td>\n      <td>193309.58</td>\n      <td>0</td>\n      <td>1</td>\n      <td>1</td>\n      <td>2023-01-01 00:00:00+00:00</td>\n      <td>124339.90</td>\n      <td>False</td>\n      <td>613</td>\n      <td>40</td>\n      <td>True</td>\n      <td>0</td>\n      <td>False</td>\n    </tr>\n    <tr>\n      <th>1</th>\n      <td>0</td>\n      <td>7</td>\n      <td>7283</td>\n      <td>45026.23</td>\n      <td>1</td>\n      <td>2</td>\n      <td>0</td>\n      <td>2023-01-01 00:00:00+00:00</td>\n      <td>189318.16</td>\n      <td>True</td>\n      <td>581</td>\n      <td>44</td>\n      <td>False</td>\n      <td>1</td>\n      <td>False</td>\n    </tr>\n    <tr>\n      <th>2</th>\n      <td>1</td>\n      <td>3</td>\n      <td>1520</td>\n      <td>111402.97</td>\n      <td>1</td>\n      <td>1</td>\n      <td>0</td>\n      <td>2023-01-01 00:00:00+00:00</td>\n      <td>124043.80</td>\n      <td>False</td>\n      <td>544</td>\n      <td>64</td>\n      <td>True</td>\n      <td>1</td>\n      <td>False</td>\n    </tr>\n    <tr>\n      <th>3</th>\n      <td>1</td>\n      <td>9</td>\n      <td>8200</td>\n      <td>78896.59</td>\n      <td>0</td>\n      <td>2</td>\n      <td>1</td>\n      <td>2023-01-01 00:00:00+00:00</td>\n      <td>120879.73</td>\n      <td>False</td>\n      <td>810</td>\n      <td>32</td>\n      <td>True</td>\n      <td>0</td>\n      <td>False</td>\n    </tr>\n    <tr>\n      <th>4</th>\n      <td>0</td>\n      <td>5</td>\n      <td>4167</td>\n      <td>5669.31</td>\n      <td>1</td>\n      <td>4</td>\n      <td>0</td>\n      <td>2023-01-01 00:00:00+00:00</td>\n      <td>174088.30</td>\n      <td>True</td>\n      <td>850</td>\n      <td>45</td>\n      <td>False</td>\n      <td>1</td>\n      <td>False</td>\n    </tr>\n  </tbody>\n</table>\n</div>"
     },
     "execution_count": 5,
     "metadata": {},
     "output_type": "execute_result"
    }
   ],
   "source": [
    "dataset.to_df().head()"
   ]
  },
  {
   "cell_type": "code",
   "execution_count": 6,
   "metadata": {
    "collapsed": false
   },
   "outputs": [
    {
     "data": {
      "text/plain": "IsActiveMember                     int64\nTenure                             int64\nUSER_ID                            int64\nEstimatedSalary                  float64\nExited                             int64\nNumOfProducts                      int64\nGender                             int64\nevent_timestamp      datetime64[ns, UTC]\nBalance                          float64\nGeography_Spain                     bool\nCreditScore                        int64\nAge                                int64\nGeography_France                    bool\nHasCrCard                          int64\nGeography_Germany                   bool\ndtype: object"
     },
     "execution_count": 6,
     "metadata": {},
     "output_type": "execute_result"
    }
   ],
   "source": [
    "dataset.to_df().dtypes"
   ]
  },
  {
   "cell_type": "code",
   "execution_count": 7,
   "metadata": {
    "collapsed": false
   },
   "outputs": [
    {
     "data": {
      "text/plain": "IsActiveMember       0\nTenure               0\nUSER_ID              0\nEstimatedSalary      0\nExited               0\nNumOfProducts        0\nGender               0\nevent_timestamp      0\nBalance              0\nGeography_Spain      0\nCreditScore          0\nAge                  0\nGeography_France     0\nHasCrCard            0\nGeography_Germany    0\ndtype: int64"
     },
     "execution_count": 7,
     "metadata": {},
     "output_type": "execute_result"
    }
   ],
   "source": [
    "# Verifica dei valori nulli\n",
    "null_counts = dataset.to_df().isnull().sum()\n",
    "null_counts"
   ]
  }
 ],
 "metadata": {
  "kernelspec": {
   "display_name": "Python 3",
   "language": "python",
   "name": "python3"
  },
  "language_info": {
   "codemirror_mode": {
    "name": "ipython",
    "version": 3
   },
   "file_extension": ".py",
   "mimetype": "text/x-python",
   "name": "python",
   "nbconvert_exporter": "python",
   "pygments_lexer": "ipython3",
   "version": "3.11.9"
  }
 },
 "nbformat": 4,
 "nbformat_minor": 0
}
