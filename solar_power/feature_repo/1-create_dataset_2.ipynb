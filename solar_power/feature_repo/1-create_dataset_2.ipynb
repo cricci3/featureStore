{
 "cells": [
  {
   "cell_type": "code",
   "execution_count": 1,
   "metadata": {
    "collapsed": true
   },
   "outputs": [],
   "source": [
    "import pandas as pd\n",
    "from feast import FeatureStore\n",
    "from feast.infra.offline_stores.file_source import SavedDatasetFileStorage"
   ]
  },
  {
   "cell_type": "code",
   "execution_count": 2,
   "outputs": [],
   "source": [
    "# Getting the FS\n",
    "store = FeatureStore(repo_path=\".\")"
   ],
   "metadata": {
    "collapsed": false
   }
  },
  {
   "cell_type": "code",
   "execution_count": 3,
   "outputs": [],
   "source": [
    "# Reading the target as an entity DataFrame\n",
    "entity_df = pd.read_parquet(path=r\"data/target_df_2.parquet\")\n",
    "training_data = store.get_historical_features(\n",
    "    entity_df=entity_df,\n",
    "    features=[\n",
    "        \"df1_2_feature_view:Gender\",\n",
    "        \"df1_2_feature_view:Age\",\n",
    "        \"df2_2_feature_view:CreditScore\",\n",
    "        \"df2_2_feature_view:Tenure\",\n",
    "        \"df2_2_feature_view:Balance\",\n",
    "        \"df2_2_feature_view:EstimatedSalary\",\n",
    "        \"df3_2_feature_view:NumOfProducts\",\n",
    "        \"df3_2_feature_view:HasCrCard\",\n",
    "        \"df3_2_feature_view:IsActiveMember\"\n",
    "        # \"df4_2_feature_view:Geography_France\",\n",
    "        # \"df4_2_feature_view:Geography_Germany\",\n",
    "        #\"df4_2_feature_view:Geography_Spain\"\n",
    "    ]\n",
    ")"
   ],
   "metadata": {
    "collapsed": false
   }
  },
  {
   "cell_type": "code",
   "execution_count": 4,
   "outputs": [
    {
     "name": "stderr",
     "output_type": "stream",
     "text": [
      "C:\\Users\\claud\\AppData\\Local\\Programs\\Python\\Python311\\Lib\\site-packages\\feast\\feature_store.py:1125: RuntimeWarning: Saving dataset is an experimental feature. This API is unstable and it could and most probably will be changed in the future. We do not guarantee that future changes will maintain backward compatibility.\n",
      "  warnings.warn(\n"
     ]
    },
    {
     "data": {
      "text/plain": "      HasCrCard  Tenure  IsActiveMember           event_timestamp  USER_ID  \\\n0             1       7               1 2023-01-01 00:00:00+00:00     5908   \n1             1       7               0 2023-01-01 00:00:00+00:00     7241   \n2             1       2               1 2023-01-01 00:00:00+00:00     8706   \n3             1       7               0 2023-01-01 00:00:00+00:00     2931   \n4             1       5               0 2023-01-01 00:00:00+00:00     2670   \n...         ...     ...             ...                       ...      ...   \n9995          1       7               0 2023-12-31 00:00:00+00:00      689   \n9996          1       4               0 2023-12-31 00:00:00+00:00     8163   \n9997          1       8               0 2023-12-31 00:00:00+00:00      740   \n9998          1       3               0 2023-12-31 00:00:00+00:00     1671   \n9999          1      10               0 2023-12-31 00:00:00+00:00     2846   \n\n        Balance  Exited  NumOfProducts  Age  CreditScore  Gender  \\\n0     132044.60       0              2   66          526    Male   \n1      98877.95       0              1   32          600  Female   \n2      79126.17       0              1   35          742  Female   \n3     115930.87       0              1   42          663    Male   \n4      97445.49       0              2   19          614  Female   \n...         ...     ...            ...  ...          ...     ...   \n9995  136294.97       1              1   51          625  Female   \n9996  137003.68       0              1   27          621    Male   \n9997   95059.02       0              2   28          692  Female   \n9998  114739.92       1              1   24          559    Male   \n9999  103583.05       1              1   45          599    Male   \n\n      EstimatedSalary  \n0           158365.89  \n1           132973.21  \n2           126997.53  \n3            19862.78  \n4           122823.34  \n...               ...  \n9995         38867.46  \n9996         21254.06  \n9997         44420.18  \n9998         85891.02  \n9999        132127.69  \n\n[10000 rows x 12 columns]",
      "text/html": "<div>\n<style scoped>\n    .dataframe tbody tr th:only-of-type {\n        vertical-align: middle;\n    }\n\n    .dataframe tbody tr th {\n        vertical-align: top;\n    }\n\n    .dataframe thead th {\n        text-align: right;\n    }\n</style>\n<table border=\"1\" class=\"dataframe\">\n  <thead>\n    <tr style=\"text-align: right;\">\n      <th></th>\n      <th>HasCrCard</th>\n      <th>Tenure</th>\n      <th>IsActiveMember</th>\n      <th>event_timestamp</th>\n      <th>USER_ID</th>\n      <th>Balance</th>\n      <th>Exited</th>\n      <th>NumOfProducts</th>\n      <th>Age</th>\n      <th>CreditScore</th>\n      <th>Gender</th>\n      <th>EstimatedSalary</th>\n    </tr>\n  </thead>\n  <tbody>\n    <tr>\n      <th>0</th>\n      <td>1</td>\n      <td>7</td>\n      <td>1</td>\n      <td>2023-01-01 00:00:00+00:00</td>\n      <td>5908</td>\n      <td>132044.60</td>\n      <td>0</td>\n      <td>2</td>\n      <td>66</td>\n      <td>526</td>\n      <td>Male</td>\n      <td>158365.89</td>\n    </tr>\n    <tr>\n      <th>1</th>\n      <td>1</td>\n      <td>7</td>\n      <td>0</td>\n      <td>2023-01-01 00:00:00+00:00</td>\n      <td>7241</td>\n      <td>98877.95</td>\n      <td>0</td>\n      <td>1</td>\n      <td>32</td>\n      <td>600</td>\n      <td>Female</td>\n      <td>132973.21</td>\n    </tr>\n    <tr>\n      <th>2</th>\n      <td>1</td>\n      <td>2</td>\n      <td>1</td>\n      <td>2023-01-01 00:00:00+00:00</td>\n      <td>8706</td>\n      <td>79126.17</td>\n      <td>0</td>\n      <td>1</td>\n      <td>35</td>\n      <td>742</td>\n      <td>Female</td>\n      <td>126997.53</td>\n    </tr>\n    <tr>\n      <th>3</th>\n      <td>1</td>\n      <td>7</td>\n      <td>0</td>\n      <td>2023-01-01 00:00:00+00:00</td>\n      <td>2931</td>\n      <td>115930.87</td>\n      <td>0</td>\n      <td>1</td>\n      <td>42</td>\n      <td>663</td>\n      <td>Male</td>\n      <td>19862.78</td>\n    </tr>\n    <tr>\n      <th>4</th>\n      <td>1</td>\n      <td>5</td>\n      <td>0</td>\n      <td>2023-01-01 00:00:00+00:00</td>\n      <td>2670</td>\n      <td>97445.49</td>\n      <td>0</td>\n      <td>2</td>\n      <td>19</td>\n      <td>614</td>\n      <td>Female</td>\n      <td>122823.34</td>\n    </tr>\n    <tr>\n      <th>...</th>\n      <td>...</td>\n      <td>...</td>\n      <td>...</td>\n      <td>...</td>\n      <td>...</td>\n      <td>...</td>\n      <td>...</td>\n      <td>...</td>\n      <td>...</td>\n      <td>...</td>\n      <td>...</td>\n      <td>...</td>\n    </tr>\n    <tr>\n      <th>9995</th>\n      <td>1</td>\n      <td>7</td>\n      <td>0</td>\n      <td>2023-12-31 00:00:00+00:00</td>\n      <td>689</td>\n      <td>136294.97</td>\n      <td>1</td>\n      <td>1</td>\n      <td>51</td>\n      <td>625</td>\n      <td>Female</td>\n      <td>38867.46</td>\n    </tr>\n    <tr>\n      <th>9996</th>\n      <td>1</td>\n      <td>4</td>\n      <td>0</td>\n      <td>2023-12-31 00:00:00+00:00</td>\n      <td>8163</td>\n      <td>137003.68</td>\n      <td>0</td>\n      <td>1</td>\n      <td>27</td>\n      <td>621</td>\n      <td>Male</td>\n      <td>21254.06</td>\n    </tr>\n    <tr>\n      <th>9997</th>\n      <td>1</td>\n      <td>8</td>\n      <td>0</td>\n      <td>2023-12-31 00:00:00+00:00</td>\n      <td>740</td>\n      <td>95059.02</td>\n      <td>0</td>\n      <td>2</td>\n      <td>28</td>\n      <td>692</td>\n      <td>Female</td>\n      <td>44420.18</td>\n    </tr>\n    <tr>\n      <th>9998</th>\n      <td>1</td>\n      <td>3</td>\n      <td>0</td>\n      <td>2023-12-31 00:00:00+00:00</td>\n      <td>1671</td>\n      <td>114739.92</td>\n      <td>1</td>\n      <td>1</td>\n      <td>24</td>\n      <td>559</td>\n      <td>Male</td>\n      <td>85891.02</td>\n    </tr>\n    <tr>\n      <th>9999</th>\n      <td>1</td>\n      <td>10</td>\n      <td>0</td>\n      <td>2023-12-31 00:00:00+00:00</td>\n      <td>2846</td>\n      <td>103583.05</td>\n      <td>1</td>\n      <td>1</td>\n      <td>45</td>\n      <td>599</td>\n      <td>Male</td>\n      <td>132127.69</td>\n    </tr>\n  </tbody>\n</table>\n<p>10000 rows × 12 columns</p>\n</div>"
     },
     "execution_count": 4,
     "metadata": {},
     "output_type": "execute_result"
    }
   ],
   "source": [
    "# Storing the dataset as a local file\n",
    "dataset = store.create_saved_dataset(\n",
    "    from_=training_data,\n",
    "    name=\"churn_dataset\",\n",
    "    storage=SavedDatasetFileStorage(r\"data\\churn_dataset.parquet\")\n",
    ")\n",
    "dataset.to_df()"
   ],
   "metadata": {
    "collapsed": false
   }
  }
 ],
 "metadata": {
  "kernelspec": {
   "display_name": "Python 3",
   "language": "python",
   "name": "python3"
  },
  "language_info": {
   "codemirror_mode": {
    "name": "ipython",
    "version": 2
   },
   "file_extension": ".py",
   "mimetype": "text/x-python",
   "name": "python",
   "nbconvert_exporter": "python",
   "pygments_lexer": "ipython2",
   "version": "2.7.6"
  }
 },
 "nbformat": 4,
 "nbformat_minor": 0
}
