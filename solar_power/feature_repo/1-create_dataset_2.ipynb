{
 "cells": [
  {
   "cell_type": "code",
   "execution_count": 1,
   "metadata": {
    "collapsed": true
   },
   "outputs": [],
   "source": [
    "import pandas as pd\n",
    "from feast import FeatureStore\n",
    "from feast.infra.offline_stores.file_source import SavedDatasetFileStorage"
   ]
  },
  {
   "cell_type": "code",
   "execution_count": 2,
   "metadata": {
    "collapsed": false
   },
   "outputs": [],
   "source": [
    "# Getting the FS\n",
    "store = FeatureStore(repo_path=\".\")"
   ]
  },
  {
   "cell_type": "code",
   "execution_count": 3,
   "metadata": {
    "collapsed": false
   },
   "outputs": [],
   "source": [
    "# Reading the target as an entity DataFrame\n",
    "entity_df = pd.read_parquet(path=r\"data/target_df_2.parquet\")\n",
    "training_data = store.get_historical_features(\n",
    "    entity_df=entity_df,\n",
    "    features=[\n",
    "        \"df1_2_feature_view:Gender\",\n",
    "        \"df1_2_feature_view:Age\",\n",
    "        \"df2_2_feature_view:CreditScore\",\n",
    "        \"df2_2_feature_view:Tenure\",\n",
    "        \"df2_2_feature_view:Balance\",\n",
    "        \"df2_2_feature_view:EstimatedSalary\",\n",
    "        \"df3_2_feature_view:NumOfProducts\",\n",
    "        \"df3_2_feature_view:HasCrCard\",\n",
    "        \"df3_2_feature_view:IsActiveMember\",\n",
    "        \"df4_2_feature_view:Geography_France\",\n",
    "        \"df4_2_feature_view:Geography_Germany\",\n",
    "        \"df4_2_feature_view:Geography_Spain\"\n",
    "    ]\n",
    ")"
   ]
  },
  {
   "cell_type": "code",
   "execution_count": 4,
   "metadata": {
    "collapsed": false
   },
   "outputs": [
    {
     "name": "stderr",
     "output_type": "stream",
     "text": [
      "C:\\Users\\damia\\AppData\\Roaming\\Python\\Python311\\site-packages\\feast\\feature_store.py:1125: RuntimeWarning: Saving dataset is an experimental feature. This API is unstable and it could and most probably will be changed in the future. We do not guarantee that future changes will maintain backward compatibility.\n",
      "  warnings.warn(\n"
     ]
    }
   ],
   "source": [
    "# Storing the dataset as a local file\n",
    "dataset = store.create_saved_dataset(\n",
    "    from_=training_data,\n",
    "    name=\"churn_dataset\",\n",
    "    storage=SavedDatasetFileStorage(r\"data\\churn_dataset.parquet\")\n",
    ")"
   ]
  },
  {
   "cell_type": "code",
   "execution_count": 5,
   "metadata": {
    "collapsed": false
   },
   "outputs": [
    {
     "data": {
      "text/html": [
       "<div>\n",
       "<style scoped>\n",
       "    .dataframe tbody tr th:only-of-type {\n",
       "        vertical-align: middle;\n",
       "    }\n",
       "\n",
       "    .dataframe tbody tr th {\n",
       "        vertical-align: top;\n",
       "    }\n",
       "\n",
       "    .dataframe thead th {\n",
       "        text-align: right;\n",
       "    }\n",
       "</style>\n",
       "<table border=\"1\" class=\"dataframe\">\n",
       "  <thead>\n",
       "    <tr style=\"text-align: right;\">\n",
       "      <th></th>\n",
       "      <th>USER_ID</th>\n",
       "      <th>Age</th>\n",
       "      <th>event_timestamp</th>\n",
       "      <th>HasCrCard</th>\n",
       "      <th>IsActiveMember</th>\n",
       "      <th>Exited</th>\n",
       "      <th>CreditScore</th>\n",
       "      <th>Geography_Germany</th>\n",
       "      <th>Balance</th>\n",
       "      <th>Geography_Spain</th>\n",
       "      <th>NumOfProducts</th>\n",
       "      <th>Tenure</th>\n",
       "      <th>Geography_France</th>\n",
       "      <th>EstimatedSalary</th>\n",
       "      <th>Gender</th>\n",
       "    </tr>\n",
       "  </thead>\n",
       "  <tbody>\n",
       "    <tr>\n",
       "      <th>0</th>\n",
       "      <td>906</td>\n",
       "      <td>45</td>\n",
       "      <td>2023-01-01 00:00:00+00:00</td>\n",
       "      <td>1</td>\n",
       "      <td>1</td>\n",
       "      <td>1</td>\n",
       "      <td>672</td>\n",
       "      <td>False</td>\n",
       "      <td>0.00</td>\n",
       "      <td>False</td>\n",
       "      <td>1</td>\n",
       "      <td>9</td>\n",
       "      <td>True</td>\n",
       "      <td>92027.69</td>\n",
       "      <td>0</td>\n",
       "    </tr>\n",
       "    <tr>\n",
       "      <th>1</th>\n",
       "      <td>908</td>\n",
       "      <td>46</td>\n",
       "      <td>2023-01-01 00:00:00+00:00</td>\n",
       "      <td>1</td>\n",
       "      <td>0</td>\n",
       "      <td>1</td>\n",
       "      <td>516</td>\n",
       "      <td>False</td>\n",
       "      <td>104947.72</td>\n",
       "      <td>False</td>\n",
       "      <td>1</td>\n",
       "      <td>1</td>\n",
       "      <td>True</td>\n",
       "      <td>115789.25</td>\n",
       "      <td>0</td>\n",
       "    </tr>\n",
       "    <tr>\n",
       "      <th>2</th>\n",
       "      <td>590</td>\n",
       "      <td>47</td>\n",
       "      <td>2023-01-01 00:00:00+00:00</td>\n",
       "      <td>0</td>\n",
       "      <td>0</td>\n",
       "      <td>1</td>\n",
       "      <td>519</td>\n",
       "      <td>False</td>\n",
       "      <td>157296.02</td>\n",
       "      <td>True</td>\n",
       "      <td>2</td>\n",
       "      <td>6</td>\n",
       "      <td>False</td>\n",
       "      <td>147278.43</td>\n",
       "      <td>0</td>\n",
       "    </tr>\n",
       "    <tr>\n",
       "      <th>3</th>\n",
       "      <td>176</td>\n",
       "      <td>35</td>\n",
       "      <td>2023-01-01 00:00:00+00:00</td>\n",
       "      <td>1</td>\n",
       "      <td>1</td>\n",
       "      <td>0</td>\n",
       "      <td>484</td>\n",
       "      <td>False</td>\n",
       "      <td>133868.21</td>\n",
       "      <td>True</td>\n",
       "      <td>1</td>\n",
       "      <td>7</td>\n",
       "      <td>False</td>\n",
       "      <td>27286.10</td>\n",
       "      <td>0</td>\n",
       "    </tr>\n",
       "    <tr>\n",
       "      <th>4</th>\n",
       "      <td>9369</td>\n",
       "      <td>28</td>\n",
       "      <td>2023-01-01 00:00:00+00:00</td>\n",
       "      <td>1</td>\n",
       "      <td>0</td>\n",
       "      <td>0</td>\n",
       "      <td>737</td>\n",
       "      <td>False</td>\n",
       "      <td>0.00</td>\n",
       "      <td>False</td>\n",
       "      <td>2</td>\n",
       "      <td>8</td>\n",
       "      <td>True</td>\n",
       "      <td>106390.01</td>\n",
       "      <td>1</td>\n",
       "    </tr>\n",
       "  </tbody>\n",
       "</table>\n",
       "</div>"
      ],
      "text/plain": [
       "   USER_ID  Age           event_timestamp  HasCrCard  IsActiveMember  Exited  \\\n",
       "0      906   45 2023-01-01 00:00:00+00:00          1               1       1   \n",
       "1      908   46 2023-01-01 00:00:00+00:00          1               0       1   \n",
       "2      590   47 2023-01-01 00:00:00+00:00          0               0       1   \n",
       "3      176   35 2023-01-01 00:00:00+00:00          1               1       0   \n",
       "4     9369   28 2023-01-01 00:00:00+00:00          1               0       0   \n",
       "\n",
       "   CreditScore  Geography_Germany    Balance  Geography_Spain  NumOfProducts  \\\n",
       "0          672              False       0.00            False              1   \n",
       "1          516              False  104947.72            False              1   \n",
       "2          519              False  157296.02             True              2   \n",
       "3          484              False  133868.21             True              1   \n",
       "4          737              False       0.00            False              2   \n",
       "\n",
       "   Tenure  Geography_France  EstimatedSalary  Gender  \n",
       "0       9              True         92027.69       0  \n",
       "1       1              True        115789.25       0  \n",
       "2       6             False        147278.43       0  \n",
       "3       7             False         27286.10       0  \n",
       "4       8              True        106390.01       1  "
      ]
     },
     "execution_count": 5,
     "metadata": {},
     "output_type": "execute_result"
    }
   ],
   "source": [
    "dataset.to_df().head()"
   ]
  },
  {
   "cell_type": "code",
   "execution_count": 6,
   "metadata": {
    "collapsed": false
   },
   "outputs": [
    {
     "data": {
      "text/plain": [
       "USER_ID                            int64\n",
       "Age                                int64\n",
       "event_timestamp      datetime64[ns, UTC]\n",
       "HasCrCard                          int64\n",
       "IsActiveMember                     int64\n",
       "Exited                             int64\n",
       "CreditScore                        int64\n",
       "Geography_Germany                   bool\n",
       "Balance                          float64\n",
       "Geography_Spain                     bool\n",
       "NumOfProducts                      int64\n",
       "Tenure                             int64\n",
       "Geography_France                    bool\n",
       "EstimatedSalary                  float64\n",
       "Gender                             int64\n",
       "dtype: object"
      ]
     },
     "execution_count": 6,
     "metadata": {},
     "output_type": "execute_result"
    }
   ],
   "source": [
    "dataset.to_df().dtypes"
   ]
  },
  {
   "cell_type": "code",
   "execution_count": 7,
   "metadata": {
    "collapsed": false
   },
   "outputs": [
    {
     "data": {
      "text/plain": [
       "USER_ID              0\n",
       "Age                  0\n",
       "event_timestamp      0\n",
       "HasCrCard            0\n",
       "IsActiveMember       0\n",
       "Exited               0\n",
       "CreditScore          0\n",
       "Geography_Germany    0\n",
       "Balance              0\n",
       "Geography_Spain      0\n",
       "NumOfProducts        0\n",
       "Tenure               0\n",
       "Geography_France     0\n",
       "EstimatedSalary      0\n",
       "Gender               0\n",
       "dtype: int64"
      ]
     },
     "execution_count": 7,
     "metadata": {},
     "output_type": "execute_result"
    }
   ],
   "source": [
    "# Verifica dei valori nulli\n",
    "null_counts = dataset.to_df().isnull().sum()\n",
    "null_counts"
   ]
  }
 ],
 "metadata": {
  "kernelspec": {
   "display_name": "Python 3",
   "language": "python",
   "name": "python3"
  },
  "language_info": {
   "codemirror_mode": {
    "name": "ipython",
    "version": 3
   },
   "file_extension": ".py",
   "mimetype": "text/x-python",
   "name": "python",
   "nbconvert_exporter": "python",
   "pygments_lexer": "ipython3",
   "version": "3.11.9"
  }
 },
 "nbformat": 4,
 "nbformat_minor": 0
}
