{
 "cells": [
  {
   "cell_type": "code",
   "execution_count": 3,
   "metadata": {},
   "outputs": [
    {
     "name": "stdout",
     "output_type": "stream",
     "text": [
      "Materializing \u001b[1m\u001b[32m4\u001b[0m feature views to \u001b[1m\u001b[32m2024-05-10 14:30:27+02:00\u001b[0m into the \u001b[1m\u001b[32mredis\u001b[0m online store.\n",
      "\n",
      "\u001b[1m\u001b[32mdf3_feature_view\u001b[0m from \u001b[1m\u001b[32m2024-05-10 16:27:11+02:00\u001b[0m to \u001b[1m\u001b[32m2024-05-10 14:30:27+02:00\u001b[0m:\n"
     ]
    },
    {
     "name": "stderr",
     "output_type": "stream",
     "text": [
      "0it [00:00, ?it/s]\n"
     ]
    },
    {
     "name": "stdout",
     "output_type": "stream",
     "text": [
      "\u001b[1m\u001b[32mdf1_feature_view\u001b[0m from \u001b[1m\u001b[32m2024-05-10 16:27:11+02:00\u001b[0m to \u001b[1m\u001b[32m2024-05-10 16:30:27+02:00\u001b[0m:\n"
     ]
    },
    {
     "name": "stderr",
     "output_type": "stream",
     "text": [
      "0it [00:00, ?it/s]\n"
     ]
    },
    {
     "name": "stdout",
     "output_type": "stream",
     "text": [
      "\u001b[1m\u001b[32mdf2_feature_view\u001b[0m from \u001b[1m\u001b[32m2024-05-10 16:27:11+02:00\u001b[0m to \u001b[1m\u001b[32m2024-05-10 16:30:27+02:00\u001b[0m:\n"
     ]
    },
    {
     "name": "stderr",
     "output_type": "stream",
     "text": [
      "0it [00:00, ?it/s]\n"
     ]
    },
    {
     "name": "stdout",
     "output_type": "stream",
     "text": [
      "\u001b[1m\u001b[32mtarget_feature_view\u001b[0m from \u001b[1m\u001b[32m2024-05-10 16:27:11+02:00\u001b[0m to \u001b[1m\u001b[32m2024-05-10 16:30:27+02:00\u001b[0m:\n"
     ]
    },
    {
     "name": "stderr",
     "output_type": "stream",
     "text": [
      "0it [00:00, ?it/s]\n"
     ]
    }
   ],
   "source": [
    "# Importing dependencies\n",
    "from feast import FeatureStore\n",
    "from datetime import datetime, timedelta\n",
    "\n",
    "# Getting our FeatureStore\n",
    "store = FeatureStore(repo_path=\".\")\n",
    "\n",
    "store.materialize_incremental(end_date = datetime.now())"
   ]
  },
  {
   "cell_type": "code",
   "execution_count": 6,
   "metadata": {},
   "outputs": [
    {
     "data": {
      "text/html": [
       "<div>\n",
       "<style scoped>\n",
       "    .dataframe tbody tr th:only-of-type {\n",
       "        vertical-align: middle;\n",
       "    }\n",
       "\n",
       "    .dataframe tbody tr th {\n",
       "        vertical-align: top;\n",
       "    }\n",
       "\n",
       "    .dataframe thead th {\n",
       "        text-align: right;\n",
       "    }\n",
       "</style>\n",
       "<table border=\"1\" class=\"dataframe\">\n",
       "  <thead>\n",
       "    <tr style=\"text-align: right;\">\n",
       "      <th></th>\n",
       "      <th>DATA_ID</th>\n",
       "      <th>SOURCE_KEY</th>\n",
       "      <th>PLANT_ID</th>\n",
       "      <th>AC_POWER</th>\n",
       "      <th>DC_POWER</th>\n",
       "      <th>DAILY_YIELD</th>\n",
       "      <th>TOTAL_YIELD</th>\n",
       "    </tr>\n",
       "  </thead>\n",
       "  <tbody>\n",
       "    <tr>\n",
       "      <th>0</th>\n",
       "      <td>68774</td>\n",
       "      <td>None</td>\n",
       "      <td>None</td>\n",
       "      <td>None</td>\n",
       "      <td>None</td>\n",
       "      <td>None</td>\n",
       "      <td>None</td>\n",
       "    </tr>\n",
       "    <tr>\n",
       "      <th>1</th>\n",
       "      <td>68773</td>\n",
       "      <td>None</td>\n",
       "      <td>None</td>\n",
       "      <td>None</td>\n",
       "      <td>None</td>\n",
       "      <td>None</td>\n",
       "      <td>None</td>\n",
       "    </tr>\n",
       "  </tbody>\n",
       "</table>\n",
       "</div>"
      ],
      "text/plain": [
       "   DATA_ID SOURCE_KEY PLANT_ID AC_POWER DC_POWER DAILY_YIELD TOTAL_YIELD\n",
       "0    68774       None     None     None     None        None        None\n",
       "1    68773       None     None     None     None        None        None"
      ]
     },
     "execution_count": 6,
     "metadata": {},
     "output_type": "execute_result"
    }
   ],
   "source": [
    "from feast import FeatureStore\n",
    "import pandas as pd\n",
    "# Getting our FeatureStore\n",
    "store = FeatureStore(repo_path=\".\")\n",
    "\n",
    "# Defining our features names\n",
    "features=[\n",
    "        \"df1_feature_view:PLANT_ID\",\n",
    "        \"df1_feature_view:SOURCE_KEY\",\n",
    "        \"df2_feature_view:DC_POWER\",\n",
    "        \"df2_feature_view:AC_POWER\",\n",
    "        \"df3_feature_view:DAILY_YIELD\",\n",
    "        \"df3_feature_view:TOTAL_YIELD\"\n",
    "    ]\n",
    "\n",
    "# Getting the latest features\n",
    "features = store.get_online_features(\n",
    "    features=features,    \n",
    "    entity_rows=[{\"DATA_ID\": 68774}, {\"DATA_ID\": 68773}]\n",
    ").to_dict()\n",
    "\n",
    "# Converting the features to a DataFrame\n",
    "features_df = pd.DataFrame.from_dict(data=features)\n",
    "\n",
    "features_df.head()\n",
    "\n"
   ]
  }
 ],
 "metadata": {
  "kernelspec": {
   "display_name": "Python 3",
   "language": "python",
   "name": "python3"
  },
  "language_info": {
   "codemirror_mode": {
    "name": "ipython",
    "version": 3
   },
   "file_extension": ".py",
   "mimetype": "text/x-python",
   "name": "python",
   "nbconvert_exporter": "python",
   "pygments_lexer": "ipython3",
   "version": "3.9.1"
  }
 },
 "nbformat": 4,
 "nbformat_minor": 2
}
