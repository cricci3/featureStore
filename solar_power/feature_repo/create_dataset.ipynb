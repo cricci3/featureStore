{
 "cells": [
  {
   "cell_type": "code",
   "execution_count": 4,
   "metadata": {
    "collapsed": false
   },
   "outputs": [],
   "source": [
    "import pandas as pd\n",
    "from feast import FeatureStore\n",
    "from feast.infra.offline_stores.file_source import SavedDatasetFileStorage"
   ]
  },
  {
   "cell_type": "code",
   "execution_count": 5,
   "metadata": {
    "collapsed": false
   },
   "outputs": [],
   "source": [
    "# Getting the FS\n",
    "store = FeatureStore(repo_path=\".\")\n",
    "\n",
    "# Reading the target as an entity DataFrame\n",
    "entity_df = pd.read_parquet(path=r\"data/target_df.parquet\")"
   ]
  },
  {
   "cell_type": "code",
   "execution_count": 6,
   "metadata": {
    "collapsed": false
   },
   "outputs": [],
   "source": [
    "training_data = store.get_historical_features(\n",
    "    entity_df=entity_df,\n",
    "    features=[\n",
    "        \"df1_feature_view:PLANT_ID\",\n",
    "        \"df1_feature_view:SOURCE_KEY\",\n",
    "        \"df2_feature_view:DC_POWER\",\n",
    "        \"df2_feature_view:AC_POWER\",\n",
    "        \"df3_feature_view:DAILY_YIELD\",\n",
    "        \"df3_feature_view:TOTAL_YIELD\"\n",
    "    ]\n",
    ")\n"
   ]
  },
  {
   "cell_type": "code",
   "execution_count": 7,
   "metadata": {
    "collapsed": false
   },
   "outputs": [
    {
     "name": "stderr",
     "output_type": "stream",
     "text": [
      "C:\\Users\\claud\\AppData\\Local\\Programs\\Python\\Python311\\Lib\\site-packages\\feast\\feature_store.py:1125: RuntimeWarning: Saving dataset is an experimental feature. This API is unstable and it could and most probably will be changed in the future. We do not guarantee that future changes will maintain backward compatibility.\n",
      "  warnings.warn(\n"
     ]
    }
   ],
   "source": [
    "# Storing the dataset as a local file\n",
    "dataset = store.create_saved_dataset(\n",
    "    from_=training_data,\n",
    "    name=\"solar_power_dataset\",\n",
    "    storage=SavedDatasetFileStorage(r\"data\\solar_power_dataset.parquet\")\n",
    ")"
   ]
  },
  {
   "cell_type": "code",
   "execution_count": 8,
   "metadata": {},
   "outputs": [
    {
     "data": {
      "text/plain": "       DC_POWER       SOURCE_KEY  DAILY_YIELD           event_timestamp  \\\n0           0.0  1BY6WEcLGh8j5v7        0.000 2020-05-15 00:00:00+00:00   \n1           0.0  1IF53ai7Xc0U56Y        0.000 2020-05-15 00:00:00+00:00   \n2           0.0  bvBOhCH3iADSZry        0.000 2020-05-15 00:00:00+00:00   \n3           0.0  3PZuoBAID5Wc2HD        0.000 2020-05-15 00:00:00+00:00   \n4           0.0  7JYdWkrLSPkdwr4        0.000 2020-05-15 00:00:00+00:00   \n...         ...              ...          ...                       ...   \n68773       0.0  wCURE6d3bPkepu2     5147.625 2020-06-17 23:45:00+00:00   \n68774       0.0  bvBOhCH3iADSZry     5460.000 2020-06-17 23:45:00+00:00   \n68775       0.0  VHMLBKoKgIrUVDU     6007.000 2020-06-17 23:45:00+00:00   \n68776       0.0  uHbuxQJl8lW7ozc     5967.000 2020-06-17 23:45:00+00:00   \n68777       0.0  zVJPv84UY57bAof     5910.000 2020-06-17 23:45:00+00:00   \n\n       AC_POWER  PLANT_ID  TARGET  DATA_ID  TOTAL_YIELD  \n0           0.0   4135001       0        0    6259559.0  \n1           0.0   4135001       0        1    6183645.0  \n2           0.0   4135001       0       10    6316803.0  \n3           0.0   4135001       0        2    6987759.0  \n4           0.0   4135001       0        3    7602960.0  \n...         ...       ...     ...      ...          ...  \n68773       0.0   4135001       0    68774    7028601.0  \n68774       0.0   4135001       0    68767    6539009.0  \n68775       0.0   4135001       0    68761    7456208.0  \n68776       0.0   4135001       0    68773    7287002.0  \n68777       0.0   4135001       0    68777    7363272.0  \n\n[68778 rows x 9 columns]",
      "text/html": "<div>\n<style scoped>\n    .dataframe tbody tr th:only-of-type {\n        vertical-align: middle;\n    }\n\n    .dataframe tbody tr th {\n        vertical-align: top;\n    }\n\n    .dataframe thead th {\n        text-align: right;\n    }\n</style>\n<table border=\"1\" class=\"dataframe\">\n  <thead>\n    <tr style=\"text-align: right;\">\n      <th></th>\n      <th>DC_POWER</th>\n      <th>SOURCE_KEY</th>\n      <th>DAILY_YIELD</th>\n      <th>event_timestamp</th>\n      <th>AC_POWER</th>\n      <th>PLANT_ID</th>\n      <th>TARGET</th>\n      <th>DATA_ID</th>\n      <th>TOTAL_YIELD</th>\n    </tr>\n  </thead>\n  <tbody>\n    <tr>\n      <th>0</th>\n      <td>0.0</td>\n      <td>1BY6WEcLGh8j5v7</td>\n      <td>0.000</td>\n      <td>2020-05-15 00:00:00+00:00</td>\n      <td>0.0</td>\n      <td>4135001</td>\n      <td>0</td>\n      <td>0</td>\n      <td>6259559.0</td>\n    </tr>\n    <tr>\n      <th>1</th>\n      <td>0.0</td>\n      <td>1IF53ai7Xc0U56Y</td>\n      <td>0.000</td>\n      <td>2020-05-15 00:00:00+00:00</td>\n      <td>0.0</td>\n      <td>4135001</td>\n      <td>0</td>\n      <td>1</td>\n      <td>6183645.0</td>\n    </tr>\n    <tr>\n      <th>2</th>\n      <td>0.0</td>\n      <td>bvBOhCH3iADSZry</td>\n      <td>0.000</td>\n      <td>2020-05-15 00:00:00+00:00</td>\n      <td>0.0</td>\n      <td>4135001</td>\n      <td>0</td>\n      <td>10</td>\n      <td>6316803.0</td>\n    </tr>\n    <tr>\n      <th>3</th>\n      <td>0.0</td>\n      <td>3PZuoBAID5Wc2HD</td>\n      <td>0.000</td>\n      <td>2020-05-15 00:00:00+00:00</td>\n      <td>0.0</td>\n      <td>4135001</td>\n      <td>0</td>\n      <td>2</td>\n      <td>6987759.0</td>\n    </tr>\n    <tr>\n      <th>4</th>\n      <td>0.0</td>\n      <td>7JYdWkrLSPkdwr4</td>\n      <td>0.000</td>\n      <td>2020-05-15 00:00:00+00:00</td>\n      <td>0.0</td>\n      <td>4135001</td>\n      <td>0</td>\n      <td>3</td>\n      <td>7602960.0</td>\n    </tr>\n    <tr>\n      <th>...</th>\n      <td>...</td>\n      <td>...</td>\n      <td>...</td>\n      <td>...</td>\n      <td>...</td>\n      <td>...</td>\n      <td>...</td>\n      <td>...</td>\n      <td>...</td>\n    </tr>\n    <tr>\n      <th>68773</th>\n      <td>0.0</td>\n      <td>wCURE6d3bPkepu2</td>\n      <td>5147.625</td>\n      <td>2020-06-17 23:45:00+00:00</td>\n      <td>0.0</td>\n      <td>4135001</td>\n      <td>0</td>\n      <td>68774</td>\n      <td>7028601.0</td>\n    </tr>\n    <tr>\n      <th>68774</th>\n      <td>0.0</td>\n      <td>bvBOhCH3iADSZry</td>\n      <td>5460.000</td>\n      <td>2020-06-17 23:45:00+00:00</td>\n      <td>0.0</td>\n      <td>4135001</td>\n      <td>0</td>\n      <td>68767</td>\n      <td>6539009.0</td>\n    </tr>\n    <tr>\n      <th>68775</th>\n      <td>0.0</td>\n      <td>VHMLBKoKgIrUVDU</td>\n      <td>6007.000</td>\n      <td>2020-06-17 23:45:00+00:00</td>\n      <td>0.0</td>\n      <td>4135001</td>\n      <td>0</td>\n      <td>68761</td>\n      <td>7456208.0</td>\n    </tr>\n    <tr>\n      <th>68776</th>\n      <td>0.0</td>\n      <td>uHbuxQJl8lW7ozc</td>\n      <td>5967.000</td>\n      <td>2020-06-17 23:45:00+00:00</td>\n      <td>0.0</td>\n      <td>4135001</td>\n      <td>0</td>\n      <td>68773</td>\n      <td>7287002.0</td>\n    </tr>\n    <tr>\n      <th>68777</th>\n      <td>0.0</td>\n      <td>zVJPv84UY57bAof</td>\n      <td>5910.000</td>\n      <td>2020-06-17 23:45:00+00:00</td>\n      <td>0.0</td>\n      <td>4135001</td>\n      <td>0</td>\n      <td>68777</td>\n      <td>7363272.0</td>\n    </tr>\n  </tbody>\n</table>\n<p>68778 rows × 9 columns</p>\n</div>"
     },
     "execution_count": 8,
     "metadata": {},
     "output_type": "execute_result"
    }
   ],
   "source": [
    "dataset.to_df()"
   ]
  }
 ],
 "metadata": {
  "kernelspec": {
   "display_name": "Python 3",
   "language": "python",
   "name": "python3"
  },
  "language_info": {
   "codemirror_mode": {
    "name": "ipython",
    "version": 3
   },
   "file_extension": ".py",
   "mimetype": "text/x-python",
   "name": "python",
   "nbconvert_exporter": "python",
   "pygments_lexer": "ipython3",
   "version": "3.9.1"
  }
 },
 "nbformat": 4,
 "nbformat_minor": 0
}
