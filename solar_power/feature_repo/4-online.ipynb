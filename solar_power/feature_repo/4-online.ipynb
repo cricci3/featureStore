{
 "cells": [
  {
   "cell_type": "code",
   "execution_count": 2,
   "metadata": {},
   "outputs": [],
   "source": [
    "from datetime import datetime, timedelta\n",
    "from sklearn.linear_model import LogisticRegression\n",
    "from feast import FeatureStore\n",
    "import pandas as pd\n",
    "from joblib import load"
   ]
  },
  {
   "cell_type": "code",
   "execution_count": 3,
   "metadata": {
    "collapsed": false
   },
   "outputs": [],
   "source": [
    "# Getting our FeatureStore\n",
    "store = FeatureStore(repo_path=\".\")"
   ]
  },
  {
   "cell_type": "code",
   "execution_count": 4,
   "metadata": {},
   "outputs": [],
   "source": [
    "# Defining our features names\n",
    "features=[\n",
    "    \"df1_feature_view:Gender\",\n",
    "    \"df1_feature_view:Age\",\n",
    "    \"df2_feature_view:CreditScore\",\n",
    "    \"df2_feature_view:Tenure\",\n",
    "    \"df2_feature_view:Balance\",\n",
    "    \"df2_feature_view:EstimatedSalary\",\n",
    "    \"df3_feature_view:NumOfProducts\",\n",
    "    \"df3_feature_view:HasCrCard\",\n",
    "    \"df3_feature_view:IsActiveMember\",\n",
    "    \"df4_feature_view:Geography_France\",\n",
    "    \"df4_feature_view:Geography_Germany\",\n",
    "    \"df4_feature_view:Geography_Spain\"\n",
    "    ]\n",
    "\n",
    "# Getting the latest features - we request the features data for two rows, 1085 (daily hours) and 1 (night hours)\n",
    "features = store.get_online_features(\n",
    "    features=features,    \n",
    "    entity_rows=[{\"USER_ID\": 1}, {\"USER_ID\": 1085}]\n",
    ").to_dict()\n",
    "# get_online_features returns an OnlineResponse object - use to_dict to convert the feature values to a Python dictionary"
   ]
  },
  {
   "cell_type": "code",
   "execution_count": 5,
   "metadata": {
    "collapsed": false
   },
   "outputs": [
    {
     "data": {
      "text/html": [
       "<div>\n",
       "<style scoped>\n",
       "    .dataframe tbody tr th:only-of-type {\n",
       "        vertical-align: middle;\n",
       "    }\n",
       "\n",
       "    .dataframe tbody tr th {\n",
       "        vertical-align: top;\n",
       "    }\n",
       "\n",
       "    .dataframe thead th {\n",
       "        text-align: right;\n",
       "    }\n",
       "</style>\n",
       "<table border=\"1\" class=\"dataframe\">\n",
       "  <thead>\n",
       "    <tr style=\"text-align: right;\">\n",
       "      <th></th>\n",
       "      <th>USER_ID</th>\n",
       "      <th>Age</th>\n",
       "      <th>Gender</th>\n",
       "      <th>CreditScore</th>\n",
       "      <th>Balance</th>\n",
       "      <th>EstimatedSalary</th>\n",
       "      <th>Tenure</th>\n",
       "      <th>HasCrCard</th>\n",
       "      <th>IsActiveMember</th>\n",
       "      <th>NumOfProducts</th>\n",
       "      <th>Geography_Germany</th>\n",
       "      <th>Geography_Spain</th>\n",
       "      <th>Geography_France</th>\n",
       "    </tr>\n",
       "  </thead>\n",
       "  <tbody>\n",
       "    <tr>\n",
       "      <th>0</th>\n",
       "      <td>1</td>\n",
       "      <td>42</td>\n",
       "      <td>0</td>\n",
       "      <td>619</td>\n",
       "      <td>0.0</td>\n",
       "      <td>101348.88</td>\n",
       "      <td>2</td>\n",
       "      <td>1</td>\n",
       "      <td>1</td>\n",
       "      <td>1</td>\n",
       "      <td>False</td>\n",
       "      <td>False</td>\n",
       "      <td>True</td>\n",
       "    </tr>\n",
       "    <tr>\n",
       "      <th>1</th>\n",
       "      <td>1085</td>\n",
       "      <td>24</td>\n",
       "      <td>1</td>\n",
       "      <td>796</td>\n",
       "      <td>0.0</td>\n",
       "      <td>61349.37</td>\n",
       "      <td>8</td>\n",
       "      <td>1</td>\n",
       "      <td>0</td>\n",
       "      <td>2</td>\n",
       "      <td>False</td>\n",
       "      <td>False</td>\n",
       "      <td>True</td>\n",
       "    </tr>\n",
       "  </tbody>\n",
       "</table>\n",
       "</div>"
      ],
      "text/plain": [
       "   USER_ID  Age  Gender  CreditScore  Balance  EstimatedSalary  Tenure  \\\n",
       "0        1   42       0          619      0.0        101348.88       2   \n",
       "1     1085   24       1          796      0.0         61349.37       8   \n",
       "\n",
       "   HasCrCard  IsActiveMember  NumOfProducts  Geography_Germany  \\\n",
       "0          1               1              1              False   \n",
       "1          1               0              2              False   \n",
       "\n",
       "   Geography_Spain  Geography_France  \n",
       "0            False              True  \n",
       "1            False              True  "
      ]
     },
     "execution_count": 5,
     "metadata": {},
     "output_type": "execute_result"
    }
   ],
   "source": [
    "# Converting the features to a DataFrame\n",
    "features_df = pd.DataFrame.from_dict(data=features)\n",
    "\n",
    "features_df.head()"
   ]
  },
  {
   "cell_type": "code",
   "execution_count": 6,
   "metadata": {
    "collapsed": false
   },
   "outputs": [
    {
     "name": "stdout",
     "output_type": "stream",
     "text": [
      "[0 0]\n"
     ]
    }
   ],
   "source": [
    "\n",
    "# Carica il modello salvato\n",
    "reg = load(\"model_2.joblib\")\n",
    "\n",
    "# Carica l'ordine delle colonne dal file di testo\n",
    "with open(\"columns_order2.txt\", \"r\") as file:\n",
    "    columns_order = [line.strip() for line in file]\n",
    "\n",
    "# Prepara il DataFrame delle feature per la predizione, assicurando che l'ordine sia corretto\n",
    "# Rimuovi la colonna \"USER_ID\" e riordina le colonne secondo \"columns_order\"\n",
    "features_df_ordered = features_df.drop(\"USER_ID\", axis=1)[columns_order]\n",
    "\n",
    "# Fai le predizioni utilizzando il modello caricato\n",
    "predictions = reg.predict(features_df_ordered)\n",
    "\n",
    "# Stampa o ritorna le predizioni\n",
    "print(predictions)\n"
   ]
  },
  {
   "cell_type": "code",
   "execution_count": 7,
   "metadata": {},
   "outputs": [
    {
     "name": "stdout",
     "output_type": "stream",
     "text": [
      "[1 0]\n"
     ]
    }
   ],
   "source": [
    "\n",
    "# Carica il modello salvato\n",
    "model1 = load(\"random_forest_model.pkl\")\n",
    "\n",
    "# Carica l'ordine delle colonne dal file di testo\n",
    "with open(\"columns_order.txt\", \"r\") as file:\n",
    "    columns_order = [line.strip() for line in file]\n",
    "\n",
    "# Prepara il DataFrame delle feature per la predizione, assicurando che l'ordine sia corretto\n",
    "# Rimuovi la colonna \"USER_ID\" e riordina le colonne secondo \"columns_order\"\n",
    "features_df_ordered = features_df.drop(\"USER_ID\", axis=1)[columns_order]\n",
    "\n",
    "# Fai le predizioni utilizzando il modello caricato\n",
    "predictions = model1.predict(features_df_ordered)\n",
    "\n",
    "# Stampa o ritorna le predizioni\n",
    "print(predictions)\n"
   ]
  }
 ],
 "metadata": {
  "kernelspec": {
   "display_name": "Python 3",
   "language": "python",
   "name": "python3"
  },
  "language_info": {
   "codemirror_mode": {
    "name": "ipython",
    "version": 3
   },
   "file_extension": ".py",
   "mimetype": "text/x-python",
   "name": "python",
   "nbconvert_exporter": "python",
   "pygments_lexer": "ipython3",
   "version": "3.11.9"
  }
 },
 "nbformat": 4,
 "nbformat_minor": 2
}
