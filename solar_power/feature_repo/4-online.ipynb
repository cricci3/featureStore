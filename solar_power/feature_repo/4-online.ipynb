{
 "cells": [
  {
   "cell_type": "code",
   "execution_count": 1,
   "metadata": {},
   "outputs": [],
   "source": [
    "from datetime import datetime, timedelta\n",
    "from feast import FeatureStore\n",
    "import pandas as pd\n",
    "from joblib import load"
   ]
  },
  {
   "cell_type": "code",
   "execution_count": 2,
   "outputs": [],
   "source": [
    "# Getting our FeatureStore\n",
    "store = FeatureStore(repo_path=\".\")"
   ],
   "metadata": {
    "collapsed": false
   }
  },
  {
   "cell_type": "code",
   "execution_count": 3,
   "metadata": {},
   "outputs": [],
   "source": [
    "# Defining our features names\n",
    "features=[\n",
    "        \"df1_feature_view:PLANT_ID\",\n",
    "        \"df2_feature_view:DC_POWER\",\n",
    "        \"df2_feature_view:AC_POWER\",\n",
    "        \"df3_feature_view:DAILY_YIELD\",\n",
    "        \"df3_feature_view:TOTAL_YIELD\"\n",
    "    ]\n",
    "\n",
    "# Getting the latest features - we request the features data for two rows, 1085 (daily hours) and 1 (night hours)\n",
    "features = store.get_online_features(\n",
    "    features=features,    \n",
    "    entity_rows=[{\"DATA_ID\": 1}, {\"DATA_ID\": 1085}]\n",
    ").to_dict()\n",
    "# get_online_features returns an OnlineResponse object - use to_dict to convert the feature values to a Python dictionary"
   ]
  },
  {
   "cell_type": "code",
   "execution_count": 4,
   "outputs": [
    {
     "data": {
      "text/plain": "   DATA_ID  PLANT_ID    AC_POWER  DC_POWER  TOTAL_YIELD  DAILY_YIELD\n0        1   4135001    0.000000       0.0    6183645.0     0.000000\n1     1085   4135001  921.614258    9432.0    7209522.5  3114.571533",
      "text/html": "<div>\n<style scoped>\n    .dataframe tbody tr th:only-of-type {\n        vertical-align: middle;\n    }\n\n    .dataframe tbody tr th {\n        vertical-align: top;\n    }\n\n    .dataframe thead th {\n        text-align: right;\n    }\n</style>\n<table border=\"1\" class=\"dataframe\">\n  <thead>\n    <tr style=\"text-align: right;\">\n      <th></th>\n      <th>DATA_ID</th>\n      <th>PLANT_ID</th>\n      <th>AC_POWER</th>\n      <th>DC_POWER</th>\n      <th>TOTAL_YIELD</th>\n      <th>DAILY_YIELD</th>\n    </tr>\n  </thead>\n  <tbody>\n    <tr>\n      <th>0</th>\n      <td>1</td>\n      <td>4135001</td>\n      <td>0.000000</td>\n      <td>0.0</td>\n      <td>6183645.0</td>\n      <td>0.000000</td>\n    </tr>\n    <tr>\n      <th>1</th>\n      <td>1085</td>\n      <td>4135001</td>\n      <td>921.614258</td>\n      <td>9432.0</td>\n      <td>7209522.5</td>\n      <td>3114.571533</td>\n    </tr>\n  </tbody>\n</table>\n</div>"
     },
     "execution_count": 4,
     "metadata": {},
     "output_type": "execute_result"
    }
   ],
   "source": [
    "# Converting the features to a DataFrame\n",
    "features_df = pd.DataFrame.from_dict(data=features)\n",
    "\n",
    "features_df.head()"
   ],
   "metadata": {
    "collapsed": false
   }
  },
  {
   "cell_type": "code",
   "execution_count": 5,
   "outputs": [
    {
     "data": {
      "text/plain": "array([0, 1], dtype=int64)"
     },
     "execution_count": 5,
     "metadata": {},
     "output_type": "execute_result"
    }
   ],
   "source": [
    "# Load logistic regressor and do inference with it\n",
    "reg = load(\"model.joblib\")\n",
    "predictions = reg.predict(\n",
    "    features_df[sorted(features_df.drop(\"DATA_ID\", axis=1))])\n",
    "predictions"
   ],
   "metadata": {
    "collapsed": false
   }
  }
 ],
 "metadata": {
  "kernelspec": {
   "display_name": "Python 3",
   "language": "python",
   "name": "python3"
  },
  "language_info": {
   "codemirror_mode": {
    "name": "ipython",
    "version": 3
   },
   "file_extension": ".py",
   "mimetype": "text/x-python",
   "name": "python",
   "nbconvert_exporter": "python",
   "pygments_lexer": "ipython3",
   "version": "3.9.1"
  }
 },
 "nbformat": 4,
 "nbformat_minor": 2
}
