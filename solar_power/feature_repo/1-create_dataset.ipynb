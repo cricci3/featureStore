{
 "cells": [
  {
   "cell_type": "code",
   "execution_count": 33,
   "metadata": {
    "collapsed": true
   },
   "outputs": [],
   "source": [
    "import pandas as pd\n",
    "from feast import FeatureStore\n",
    "from feast.infra.offline_stores.file_source import SavedDatasetFileStorage"
   ]
  },
  {
   "cell_type": "code",
   "execution_count": 34,
   "metadata": {
    "collapsed": false
   },
   "outputs": [],
   "source": [
    "# Getting the FS\n",
    "store = FeatureStore(repo_path=\".\")"
   ]
  },
  {
   "cell_type": "code",
   "execution_count": 35,
   "metadata": {
    "collapsed": false
   },
   "outputs": [],
   "source": [
    "# Reading the target as an entity DataFrame\n",
    "entity_df = pd.read_parquet(path=r\"data/target_df.parquet\")\n",
    "training_data = store.get_historical_features(\n",
    "    entity_df=entity_df,\n",
    "    features=[\n",
    "        \"df1_feature_view:Gender\",\n",
    "        \"df1_feature_view:Age\",\n",
    "        \"df2_feature_view:CreditScore\",\n",
    "        \"df2_feature_view:Tenure\",\n",
    "        \"df2_feature_view:Balance\",\n",
    "        \"df2_feature_view:EstimatedSalary\",\n",
    "        \"df3_feature_view:NumOfProducts\",\n",
    "        \"df3_feature_view:HasCrCard\",\n",
    "        \"df3_feature_view:IsActiveMember\",\n",
    "        \"df4_feature_view:Geography_France\",\n",
    "        \"df4_feature_view:Geography_Germany\",\n",
    "        \"df4_feature_view:Geography_Spain\"\n",
    "    ]\n",
    ")"
   ]
  },
  {
   "cell_type": "code",
   "execution_count": 36,
   "metadata": {
    "collapsed": false
   },
   "outputs": [
    {
     "name": "stderr",
     "output_type": "stream",
     "text": [
      "C:\\Users\\damia\\AppData\\Roaming\\Python\\Python311\\site-packages\\feast\\feature_store.py:1125: RuntimeWarning: Saving dataset is an experimental feature. This API is unstable and it could and most probably will be changed in the future. We do not guarantee that future changes will maintain backward compatibility.\n",
      "  warnings.warn(\n"
     ]
    }
   ],
   "source": [
    "# Storing the dataset as a local file\n",
    "dataset = store.create_saved_dataset(\n",
    "    from_=training_data,\n",
    "    name=\"churn_dataset\",\n",
    "    storage=SavedDatasetFileStorage(r\"data\\churn_dataset.parquet\")\n",
    ")"
   ]
  },
  {
   "cell_type": "code",
   "execution_count": 37,
   "metadata": {
    "collapsed": false
   },
   "outputs": [
    {
     "data": {
      "text/html": [
       "<div>\n",
       "<style scoped>\n",
       "    .dataframe tbody tr th:only-of-type {\n",
       "        vertical-align: middle;\n",
       "    }\n",
       "\n",
       "    .dataframe tbody tr th {\n",
       "        vertical-align: top;\n",
       "    }\n",
       "\n",
       "    .dataframe thead th {\n",
       "        text-align: right;\n",
       "    }\n",
       "</style>\n",
       "<table border=\"1\" class=\"dataframe\">\n",
       "  <thead>\n",
       "    <tr style=\"text-align: right;\">\n",
       "      <th></th>\n",
       "      <th>CreditScore</th>\n",
       "      <th>EstimatedSalary</th>\n",
       "      <th>Age</th>\n",
       "      <th>Tenure</th>\n",
       "      <th>HasCrCard</th>\n",
       "      <th>Geography_France</th>\n",
       "      <th>USER_ID</th>\n",
       "      <th>Geography_Germany</th>\n",
       "      <th>Balance</th>\n",
       "      <th>IsActiveMember</th>\n",
       "      <th>Geography_Spain</th>\n",
       "      <th>event_timestamp</th>\n",
       "      <th>NumOfProducts</th>\n",
       "      <th>Gender</th>\n",
       "      <th>Exited</th>\n",
       "    </tr>\n",
       "  </thead>\n",
       "  <tbody>\n",
       "    <tr>\n",
       "      <th>0</th>\n",
       "      <td>629</td>\n",
       "      <td>116748.14</td>\n",
       "      <td>39</td>\n",
       "      <td>5</td>\n",
       "      <td>0</td>\n",
       "      <td>False</td>\n",
       "      <td>4523</td>\n",
       "      <td>False</td>\n",
       "      <td>0.00</td>\n",
       "      <td>0</td>\n",
       "      <td>True</td>\n",
       "      <td>2023-01-01 00:00:00+00:00</td>\n",
       "      <td>2</td>\n",
       "      <td>1</td>\n",
       "      <td>0</td>\n",
       "    </tr>\n",
       "    <tr>\n",
       "      <th>1</th>\n",
       "      <td>513</td>\n",
       "      <td>49915.52</td>\n",
       "      <td>45</td>\n",
       "      <td>0</td>\n",
       "      <td>1</td>\n",
       "      <td>True</td>\n",
       "      <td>6222</td>\n",
       "      <td>False</td>\n",
       "      <td>164649.52</td>\n",
       "      <td>0</td>\n",
       "      <td>False</td>\n",
       "      <td>2023-01-01 00:00:00+00:00</td>\n",
       "      <td>3</td>\n",
       "      <td>0</td>\n",
       "      <td>1</td>\n",
       "    </tr>\n",
       "    <tr>\n",
       "      <th>2</th>\n",
       "      <td>757</td>\n",
       "      <td>64539.64</td>\n",
       "      <td>36</td>\n",
       "      <td>1</td>\n",
       "      <td>0</td>\n",
       "      <td>False</td>\n",
       "      <td>9922</td>\n",
       "      <td>True</td>\n",
       "      <td>65349.71</td>\n",
       "      <td>0</td>\n",
       "      <td>False</td>\n",
       "      <td>2023-01-01 00:00:00+00:00</td>\n",
       "      <td>1</td>\n",
       "      <td>1</td>\n",
       "      <td>0</td>\n",
       "    </tr>\n",
       "    <tr>\n",
       "      <th>3</th>\n",
       "      <td>515</td>\n",
       "      <td>147955.91</td>\n",
       "      <td>48</td>\n",
       "      <td>5</td>\n",
       "      <td>0</td>\n",
       "      <td>True</td>\n",
       "      <td>9514</td>\n",
       "      <td>False</td>\n",
       "      <td>129387.94</td>\n",
       "      <td>1</td>\n",
       "      <td>False</td>\n",
       "      <td>2023-01-01 00:00:00+00:00</td>\n",
       "      <td>1</td>\n",
       "      <td>1</td>\n",
       "      <td>1</td>\n",
       "    </tr>\n",
       "    <tr>\n",
       "      <th>4</th>\n",
       "      <td>643</td>\n",
       "      <td>67979.35</td>\n",
       "      <td>35</td>\n",
       "      <td>2</td>\n",
       "      <td>0</td>\n",
       "      <td>False</td>\n",
       "      <td>7767</td>\n",
       "      <td>False</td>\n",
       "      <td>0.00</td>\n",
       "      <td>0</td>\n",
       "      <td>True</td>\n",
       "      <td>2023-01-01 00:00:00+00:00</td>\n",
       "      <td>2</td>\n",
       "      <td>1</td>\n",
       "      <td>0</td>\n",
       "    </tr>\n",
       "  </tbody>\n",
       "</table>\n",
       "</div>"
      ],
      "text/plain": [
       "   CreditScore  EstimatedSalary  Age  Tenure  HasCrCard  Geography_France  \\\n",
       "0          629        116748.14   39       5          0             False   \n",
       "1          513         49915.52   45       0          1              True   \n",
       "2          757         64539.64   36       1          0             False   \n",
       "3          515        147955.91   48       5          0              True   \n",
       "4          643         67979.35   35       2          0             False   \n",
       "\n",
       "   USER_ID  Geography_Germany    Balance  IsActiveMember  Geography_Spain  \\\n",
       "0     4523              False       0.00               0             True   \n",
       "1     6222              False  164649.52               0            False   \n",
       "2     9922               True   65349.71               0            False   \n",
       "3     9514              False  129387.94               1            False   \n",
       "4     7767              False       0.00               0             True   \n",
       "\n",
       "            event_timestamp  NumOfProducts  Gender  Exited  \n",
       "0 2023-01-01 00:00:00+00:00              2       1       0  \n",
       "1 2023-01-01 00:00:00+00:00              3       0       1  \n",
       "2 2023-01-01 00:00:00+00:00              1       1       0  \n",
       "3 2023-01-01 00:00:00+00:00              1       1       1  \n",
       "4 2023-01-01 00:00:00+00:00              2       1       0  "
      ]
     },
     "execution_count": 37,
     "metadata": {},
     "output_type": "execute_result"
    }
   ],
   "source": [
    "dataset.to_df().head()"
   ]
  },
  {
   "cell_type": "code",
   "execution_count": 38,
   "metadata": {
    "collapsed": false
   },
   "outputs": [
    {
     "data": {
      "text/plain": [
       "CreditScore                        int64\n",
       "EstimatedSalary                  float64\n",
       "Age                                int64\n",
       "Tenure                             int64\n",
       "HasCrCard                          int64\n",
       "Geography_France                    bool\n",
       "USER_ID                            int64\n",
       "Geography_Germany                   bool\n",
       "Balance                          float64\n",
       "IsActiveMember                     int64\n",
       "Geography_Spain                     bool\n",
       "event_timestamp      datetime64[ns, UTC]\n",
       "NumOfProducts                      int64\n",
       "Gender                             int64\n",
       "Exited                             int64\n",
       "dtype: object"
      ]
     },
     "execution_count": 38,
     "metadata": {},
     "output_type": "execute_result"
    }
   ],
   "source": [
    "dataset.to_df().dtypes"
   ]
  },
  {
   "cell_type": "code",
   "execution_count": 39,
   "metadata": {
    "collapsed": false
   },
   "outputs": [
    {
     "data": {
      "text/plain": [
       "CreditScore          0\n",
       "EstimatedSalary      0\n",
       "Age                  0\n",
       "Tenure               0\n",
       "HasCrCard            0\n",
       "Geography_France     0\n",
       "USER_ID              0\n",
       "Geography_Germany    0\n",
       "Balance              0\n",
       "IsActiveMember       0\n",
       "Geography_Spain      0\n",
       "event_timestamp      0\n",
       "NumOfProducts        0\n",
       "Gender               0\n",
       "Exited               0\n",
       "dtype: int64"
      ]
     },
     "execution_count": 39,
     "metadata": {},
     "output_type": "execute_result"
    }
   ],
   "source": [
    "# Verifica dei valori nulli\n",
    "null_counts = dataset.to_df().isnull().sum()\n",
    "null_counts"
   ]
  }
 ],
 "metadata": {
  "kernelspec": {
   "display_name": "Python 3",
   "language": "python",
   "name": "python3"
  },
  "language_info": {
   "codemirror_mode": {
    "name": "ipython",
    "version": 3
   },
   "file_extension": ".py",
   "mimetype": "text/x-python",
   "name": "python",
   "nbconvert_exporter": "python",
   "pygments_lexer": "ipython3",
   "version": "3.11.9"
  }
 },
 "nbformat": 4,
 "nbformat_minor": 0
}
