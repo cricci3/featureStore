{
 "cells": [
  {
   "cell_type": "code",
   "execution_count": 1,
   "metadata": {
    "collapsed": true
   },
   "outputs": [],
   "source": [
    "import pandas as pd\n",
    "from feast import FeatureStore\n",
    "from feast.infra.offline_stores.file_source import SavedDatasetFileStorage"
   ]
  },
  {
   "cell_type": "code",
   "execution_count": 2,
   "metadata": {
    "collapsed": false
   },
   "outputs": [],
   "source": [
    "# Getting the FS\n",
    "store = FeatureStore(repo_path=\".\")"
   ]
  },
  {
   "cell_type": "code",
   "execution_count": 3,
   "metadata": {
    "collapsed": false
   },
   "outputs": [],
   "source": [
    "# Reading the target as an entity DataFrame\n",
    "entity_df = pd.read_parquet(path=r\"data/target_df.parquet\")\n",
    "training_data = store.get_historical_features(\n",
    "    entity_df=entity_df,\n",
    "    features=[\n",
    "        \"df1_feature_view:Gender\",\n",
    "        \"df1_feature_view:Age\",\n",
    "        \"df2_feature_view:CreditScore\",\n",
    "        \"df2_feature_view:Tenure\",\n",
    "        \"df2_feature_view:Balance\",\n",
    "        \"df2_feature_view:EstimatedSalary\",\n",
    "        \"df3_feature_view:NumOfProducts\",\n",
    "        \"df3_feature_view:HasCrCard\",\n",
    "        \"df3_feature_view:IsActiveMember\",\n",
    "        \"df4_feature_view:Geography_France\",\n",
    "        \"df4_feature_view:Geography_Germany\",\n",
    "        \"df4_feature_view:Geography_Spain\"\n",
    "    ]\n",
    ")"
   ]
  },
  {
   "cell_type": "code",
   "execution_count": 4,
   "metadata": {
    "collapsed": false
   },
   "outputs": [
    {
     "name": "stderr",
     "output_type": "stream",
     "text": [
      "C:\\Users\\claud\\AppData\\Local\\Programs\\Python\\Python311\\Lib\\site-packages\\feast\\feature_store.py:1125: RuntimeWarning: Saving dataset is an experimental feature. This API is unstable and it could and most probably will be changed in the future. We do not guarantee that future changes will maintain backward compatibility.\n",
      "  warnings.warn(\n"
     ]
    }
   ],
   "source": [
    "# Storing the dataset as a local file\n",
    "dataset = store.create_saved_dataset(\n",
    "    from_=training_data,\n",
    "    name=\"churn_dataset\",\n",
    "    storage=SavedDatasetFileStorage(r\"data\\churn_dataset.parquet\")\n",
    ")"
   ]
  },
  {
   "cell_type": "code",
   "execution_count": 5,
   "metadata": {
    "collapsed": false
   },
   "outputs": [
    {
     "data": {
      "text/plain": "   Age           event_timestamp  Tenure  Geography_Spain    Balance  \\\n0   37 2023-01-01 00:00:00+00:00       6            False  131753.41   \n1   36 2023-01-01 00:00:00+00:00       6            False  147137.74   \n2   49 2023-01-01 00:00:00+00:00       3            False       0.00   \n3   33 2023-01-01 00:00:00+00:00       5            False       0.00   \n4   43 2023-01-01 00:00:00+00:00      10            False  105301.50   \n\n   HasCrCard  EstimatedSalary  NumOfProducts  IsActiveMember  CreditScore  \\\n0          1         86894.67              1               0          648   \n1          1         33687.90              1               1          699   \n2          1        142917.54              2               1          611   \n3          1        122949.71              2               0          635   \n4          1         78941.59              1               1          818   \n\n   Geography_Germany  USER_ID  Exited  Geography_France  Gender  \n0               True     9417       0             False       1  \n1               True     6186       0             False       1  \n2              False      792       0              True       1  \n3              False     9133       0              True       0  \n4               True     9145       0             False       1  ",
      "text/html": "<div>\n<style scoped>\n    .dataframe tbody tr th:only-of-type {\n        vertical-align: middle;\n    }\n\n    .dataframe tbody tr th {\n        vertical-align: top;\n    }\n\n    .dataframe thead th {\n        text-align: right;\n    }\n</style>\n<table border=\"1\" class=\"dataframe\">\n  <thead>\n    <tr style=\"text-align: right;\">\n      <th></th>\n      <th>Age</th>\n      <th>event_timestamp</th>\n      <th>Tenure</th>\n      <th>Geography_Spain</th>\n      <th>Balance</th>\n      <th>HasCrCard</th>\n      <th>EstimatedSalary</th>\n      <th>NumOfProducts</th>\n      <th>IsActiveMember</th>\n      <th>CreditScore</th>\n      <th>Geography_Germany</th>\n      <th>USER_ID</th>\n      <th>Exited</th>\n      <th>Geography_France</th>\n      <th>Gender</th>\n    </tr>\n  </thead>\n  <tbody>\n    <tr>\n      <th>0</th>\n      <td>37</td>\n      <td>2023-01-01 00:00:00+00:00</td>\n      <td>6</td>\n      <td>False</td>\n      <td>131753.41</td>\n      <td>1</td>\n      <td>86894.67</td>\n      <td>1</td>\n      <td>0</td>\n      <td>648</td>\n      <td>True</td>\n      <td>9417</td>\n      <td>0</td>\n      <td>False</td>\n      <td>1</td>\n    </tr>\n    <tr>\n      <th>1</th>\n      <td>36</td>\n      <td>2023-01-01 00:00:00+00:00</td>\n      <td>6</td>\n      <td>False</td>\n      <td>147137.74</td>\n      <td>1</td>\n      <td>33687.90</td>\n      <td>1</td>\n      <td>1</td>\n      <td>699</td>\n      <td>True</td>\n      <td>6186</td>\n      <td>0</td>\n      <td>False</td>\n      <td>1</td>\n    </tr>\n    <tr>\n      <th>2</th>\n      <td>49</td>\n      <td>2023-01-01 00:00:00+00:00</td>\n      <td>3</td>\n      <td>False</td>\n      <td>0.00</td>\n      <td>1</td>\n      <td>142917.54</td>\n      <td>2</td>\n      <td>1</td>\n      <td>611</td>\n      <td>False</td>\n      <td>792</td>\n      <td>0</td>\n      <td>True</td>\n      <td>1</td>\n    </tr>\n    <tr>\n      <th>3</th>\n      <td>33</td>\n      <td>2023-01-01 00:00:00+00:00</td>\n      <td>5</td>\n      <td>False</td>\n      <td>0.00</td>\n      <td>1</td>\n      <td>122949.71</td>\n      <td>2</td>\n      <td>0</td>\n      <td>635</td>\n      <td>False</td>\n      <td>9133</td>\n      <td>0</td>\n      <td>True</td>\n      <td>0</td>\n    </tr>\n    <tr>\n      <th>4</th>\n      <td>43</td>\n      <td>2023-01-01 00:00:00+00:00</td>\n      <td>10</td>\n      <td>False</td>\n      <td>105301.50</td>\n      <td>1</td>\n      <td>78941.59</td>\n      <td>1</td>\n      <td>1</td>\n      <td>818</td>\n      <td>True</td>\n      <td>9145</td>\n      <td>0</td>\n      <td>False</td>\n      <td>1</td>\n    </tr>\n  </tbody>\n</table>\n</div>"
     },
     "execution_count": 5,
     "metadata": {},
     "output_type": "execute_result"
    }
   ],
   "source": [
    "dataset.to_df().head()"
   ]
  },
  {
   "cell_type": "code",
   "execution_count": 6,
   "metadata": {
    "collapsed": false
   },
   "outputs": [
    {
     "data": {
      "text/plain": "Age                                int64\nevent_timestamp      datetime64[ns, UTC]\nTenure                             int64\nGeography_Spain                     bool\nBalance                          float64\nHasCrCard                          int64\nEstimatedSalary                  float64\nNumOfProducts                      int64\nIsActiveMember                     int64\nCreditScore                        int64\nGeography_Germany                   bool\nUSER_ID                            int64\nExited                             int64\nGeography_France                    bool\nGender                             int64\ndtype: object"
     },
     "execution_count": 6,
     "metadata": {},
     "output_type": "execute_result"
    }
   ],
   "source": [
    "dataset.to_df().dtypes"
   ]
  },
  {
   "cell_type": "markdown",
   "source": [
    "### Data visualization"
   ],
   "metadata": {
    "collapsed": false
   }
  },
  {
   "cell_type": "code",
   "execution_count": 7,
   "metadata": {
    "collapsed": false
   },
   "outputs": [
    {
     "data": {
      "text/plain": "Age                  0\nevent_timestamp      0\nTenure               0\nGeography_Spain      0\nBalance              0\nHasCrCard            0\nEstimatedSalary      0\nNumOfProducts        0\nIsActiveMember       0\nCreditScore          0\nGeography_Germany    0\nUSER_ID              0\nExited               0\nGeography_France     0\nGender               0\ndtype: int64"
     },
     "execution_count": 7,
     "metadata": {},
     "output_type": "execute_result"
    }
   ],
   "source": [
    "# Verifica dei valori nulli\n",
    "null_counts = dataset.to_df().isnull().sum()\n",
    "null_counts"
   ]
  }
 ],
 "metadata": {
  "kernelspec": {
   "display_name": "Python 3",
   "language": "python",
   "name": "python3"
  },
  "language_info": {
   "codemirror_mode": {
    "name": "ipython",
    "version": 3
   },
   "file_extension": ".py",
   "mimetype": "text/x-python",
   "name": "python",
   "nbconvert_exporter": "python",
   "pygments_lexer": "ipython3",
   "version": "3.11.9"
  }
 },
 "nbformat": 4,
 "nbformat_minor": 0
}
