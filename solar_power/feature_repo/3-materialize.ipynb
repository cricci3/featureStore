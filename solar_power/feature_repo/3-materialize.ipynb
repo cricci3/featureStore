{
 "cells": [
  {
   "cell_type": "code",
   "execution_count": 1,
   "metadata": {
    "collapsed": true
   },
   "outputs": [],
   "source": [
    "# Importing dependencies\n",
    "from feast import FeatureStore\n",
    "from datetime import datetime, timedelta"
   ]
  },
  {
   "cell_type": "code",
   "execution_count": 2,
   "outputs": [
    {
     "name": "stdout",
     "output_type": "stream",
     "text": [
      "Materializing \u001B[1m\u001B[32m9\u001B[0m feature views to \u001B[1m\u001B[32m2024-05-17 16:45:50+02:00\u001B[0m into the \u001B[1m\u001B[32mredis\u001B[0m online store.\n",
      "\n",
      "\u001B[1m\u001B[32mdf1_2_feature_view\u001B[0m from \u001B[1m\u001B[32m2018-11-25 14:45:50+01:00\u001B[0m to \u001B[1m\u001B[32m2024-05-17 16:45:50+02:00\u001B[0m:\n"
     ]
    },
    {
     "name": "stderr",
     "output_type": "stream",
     "text": [
      "100%|██████████████████████████████████████████████████████| 10000/10000 [00:00<00:00, 20470.73it/s]\n"
     ]
    },
    {
     "name": "stdout",
     "output_type": "stream",
     "text": [
      "\u001B[1m\u001B[32mdf4_2_feature_view\u001B[0m from \u001B[1m\u001B[32m2018-11-25 14:45:51+01:00\u001B[0m to \u001B[1m\u001B[32m2024-05-17 18:45:50+02:00\u001B[0m:\n"
     ]
    },
    {
     "name": "stderr",
     "output_type": "stream",
     "text": [
      "100%|██████████████████████████████████████████████████████| 10000/10000 [00:00<00:00, 22105.01it/s]\n"
     ]
    },
    {
     "name": "stdout",
     "output_type": "stream",
     "text": [
      "\u001B[1m\u001B[32mtarget_2_feature_view\u001B[0m from \u001B[1m\u001B[32m2018-11-25 14:45:51+01:00\u001B[0m to \u001B[1m\u001B[32m2024-05-17 18:45:50+02:00\u001B[0m:\n"
     ]
    },
    {
     "name": "stderr",
     "output_type": "stream",
     "text": [
      "100%|██████████████████████████████████████████████████████| 10000/10000 [00:00<00:00, 25011.41it/s]\n"
     ]
    },
    {
     "name": "stdout",
     "output_type": "stream",
     "text": [
      "\u001B[1m\u001B[32mdf3_2_feature_view\u001B[0m from \u001B[1m\u001B[32m2018-11-25 14:45:52+01:00\u001B[0m to \u001B[1m\u001B[32m2024-05-17 18:45:50+02:00\u001B[0m:\n"
     ]
    },
    {
     "name": "stderr",
     "output_type": "stream",
     "text": [
      "100%|██████████████████████████████████████████████████████| 10000/10000 [00:00<00:00, 21447.56it/s]\n"
     ]
    },
    {
     "name": "stdout",
     "output_type": "stream",
     "text": [
      "\u001B[1m\u001B[32mdf3_feature_view\u001B[0m from \u001B[1m\u001B[32m2018-11-25 14:45:52+01:00\u001B[0m to \u001B[1m\u001B[32m2024-05-17 18:45:50+02:00\u001B[0m:\n"
     ]
    },
    {
     "name": "stderr",
     "output_type": "stream",
     "text": [
      "100%|██████████████████████████████████████████████████████| 68778/68778 [00:02<00:00, 24496.12it/s]\n"
     ]
    },
    {
     "name": "stdout",
     "output_type": "stream",
     "text": [
      "\u001B[1m\u001B[32mtarget_feature_view\u001B[0m from \u001B[1m\u001B[32m2018-11-25 14:45:55+01:00\u001B[0m to \u001B[1m\u001B[32m2024-05-17 18:45:50+02:00\u001B[0m:\n"
     ]
    },
    {
     "name": "stderr",
     "output_type": "stream",
     "text": [
      "100%|██████████████████████████████████████████████████████| 68778/68778 [00:02<00:00, 27723.35it/s]\n"
     ]
    },
    {
     "name": "stdout",
     "output_type": "stream",
     "text": [
      "\u001B[1m\u001B[32mdf2_2_feature_view\u001B[0m from \u001B[1m\u001B[32m2018-11-25 14:45:58+01:00\u001B[0m to \u001B[1m\u001B[32m2024-05-17 18:45:50+02:00\u001B[0m:\n"
     ]
    },
    {
     "name": "stderr",
     "output_type": "stream",
     "text": [
      "100%|██████████████████████████████████████████████████████| 10000/10000 [00:00<00:00, 17989.73it/s]\n"
     ]
    },
    {
     "name": "stdout",
     "output_type": "stream",
     "text": [
      "\u001B[1m\u001B[32mdf2_feature_view\u001B[0m from \u001B[1m\u001B[32m2018-11-25 14:45:59+01:00\u001B[0m to \u001B[1m\u001B[32m2024-05-17 18:45:50+02:00\u001B[0m:\n"
     ]
    },
    {
     "name": "stderr",
     "output_type": "stream",
     "text": [
      "100%|██████████████████████████████████████████████████████| 68778/68778 [00:02<00:00, 23978.63it/s]\n"
     ]
    },
    {
     "name": "stdout",
     "output_type": "stream",
     "text": [
      "\u001B[1m\u001B[32mdf1_feature_view\u001B[0m from \u001B[1m\u001B[32m2018-11-25 14:46:02+01:00\u001B[0m to \u001B[1m\u001B[32m2024-05-17 18:45:50+02:00\u001B[0m:\n"
     ]
    },
    {
     "name": "stderr",
     "output_type": "stream",
     "text": [
      "100%|██████████████████████████████████████████████████████| 68778/68778 [00:02<00:00, 23473.20it/s]\n"
     ]
    }
   ],
   "source": [
    "# Getting our FeatureStore\n",
    "store = FeatureStore(repo_path=\".\")\n",
    "\n",
    "# Code for loading features to online store between two dates\n",
    "\"\"\"store.materialize(\n",
    "    end_date=datetime.now() - timedelta(days=401),\n",
    "    start_date=datetime.now() - timedelta(days=501))\"\"\"\n",
    "\n",
    "# Loading the latest features after a previous materialize call or from the beginning of time\n",
    "store.materialize_incremental(end_date=datetime.now())"
   ],
   "metadata": {
    "collapsed": false
   }
  }
 ],
 "metadata": {
  "kernelspec": {
   "display_name": "Python 3",
   "language": "python",
   "name": "python3"
  },
  "language_info": {
   "codemirror_mode": {
    "name": "ipython",
    "version": 2
   },
   "file_extension": ".py",
   "mimetype": "text/x-python",
   "name": "python",
   "nbconvert_exporter": "python",
   "pygments_lexer": "ipython2",
   "version": "2.7.6"
  }
 },
 "nbformat": 4,
 "nbformat_minor": 0
}
