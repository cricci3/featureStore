{
 "cells": [
  {
   "cell_type": "code",
   "execution_count": null,
   "metadata": {
    "collapsed": true
   },
   "outputs": [],
   "source": [
    "from datetime import datetime, timedelta\n",
    "from feast import FeatureStore\n",
    "import pandas as pd\n",
    "from joblib import load"
   ]
  },
  {
   "cell_type": "code",
   "execution_count": null,
   "outputs": [],
   "source": [
    "# Getting our FeatureStore\n",
    "store = FeatureStore(repo_path=\".\")\n",
    "# Defining our features names\n",
    "features = [\n",
    "    \"df1_feature_view:PLANT_ID\",\n",
    "    \"df2_feature_view:DC_POWER\",\n",
    "    \"df2_feature_view:AC_POWER\",\n",
    "    \"df3_feature_view:DAILY_YIELD\",\n",
    "    \"df3_feature_view:TOTAL_YIELD\"\n",
    "]"
   ],
   "metadata": {
    "collapsed": false
   }
  },
  {
   "cell_type": "code",
   "execution_count": null,
   "outputs": [],
   "source": [
    "# Getting the latest features - we request the features data for two rows, 1085 (daily hours) and 1 (night hours)\n",
    "features = store.get_online_features(\n",
    "    features=features,\n",
    "    entity_rows=[{\"DATA_ID\": 1}, {\"DATA_ID\": 1085}]\n",
    ").to_dict()"
   ],
   "metadata": {
    "collapsed": false
   }
  },
  {
   "cell_type": "code",
   "execution_count": null,
   "outputs": [],
   "source": [
    "# get_online_features returns an OnlineResponse object - use to_dict to convert the feature values to a Python dictionary\n",
    "# Converting the features to a DataFrame\n",
    "features_df = pd.DataFrame.from_dict(data=features)"
   ],
   "metadata": {
    "collapsed": false
   }
  },
  {
   "cell_type": "code",
   "execution_count": null,
   "outputs": [],
   "source": [
    "features_df.head()\n",
    "# Load logistic regressor and do inference with it\n",
    "reg = load(\"model.joblib\")\n",
    "predictions = reg.predict(\n",
    "    features_df[sorted(features_df.drop(\"DATA_ID\", axis=1))])\n",
    "predictions"
   ],
   "metadata": {
    "collapsed": false
   }
  }
 ],
 "metadata": {
  "kernelspec": {
   "display_name": "Python 3",
   "language": "python",
   "name": "python3"
  },
  "language_info": {
   "codemirror_mode": {
    "name": "ipython",
    "version": 2
   },
   "file_extension": ".py",
   "mimetype": "text/x-python",
   "name": "python",
   "nbconvert_exporter": "python",
   "pygments_lexer": "ipython2",
   "version": "2.7.6"
  }
 },
 "nbformat": 4,
 "nbformat_minor": 0
}
