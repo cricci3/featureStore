{
 "cells": [
  {
   "cell_type": "code",
   "execution_count": 133,
   "metadata": {
    "collapsed": true
   },
   "outputs": [],
   "source": [
    "from feast import FeatureStore\n",
    "from sklearn.model_selection import train_test_split,RandomizedSearchCV \n",
    "from sklearn.metrics import accuracy_score,classification_report \n",
    "from joblib import dump\n",
    "from sklearn.ensemble import RandomForestClassifier\n",
    "from sklearn.metrics import roc_curve, roc_auc_score\n",
    "import matplotlib.pyplot as plt\n",
    "from joblib import load"
   ]
  },
  {
   "cell_type": "code",
   "execution_count": 134,
   "metadata": {
    "collapsed": false
   },
   "outputs": [],
   "source": [
    "# Getting our FeatureStore\n",
    "store = FeatureStore(repo_path=\".\")"
   ]
  },
  {
   "cell_type": "code",
   "execution_count": 135,
   "metadata": {
    "collapsed": false
   },
   "outputs": [
    {
     "name": "stderr",
     "output_type": "stream",
     "text": [
      "C:\\Users\\damia\\AppData\\Roaming\\Python\\Python311\\site-packages\\feast\\feature_store.py:1178: RuntimeWarning: Retrieving datasets is an experimental feature. This API is unstable and it could and most probably will be changed in the future. We do not guarantee that future changes will maintain backward compatibility.\n",
      "  warnings.warn(\n"
     ]
    },
    {
     "data": {
      "text/html": [
       "<div>\n",
       "<style scoped>\n",
       "    .dataframe tbody tr th:only-of-type {\n",
       "        vertical-align: middle;\n",
       "    }\n",
       "\n",
       "    .dataframe tbody tr th {\n",
       "        vertical-align: top;\n",
       "    }\n",
       "\n",
       "    .dataframe thead th {\n",
       "        text-align: right;\n",
       "    }\n",
       "</style>\n",
       "<table border=\"1\" class=\"dataframe\">\n",
       "  <thead>\n",
       "    <tr style=\"text-align: right;\">\n",
       "      <th></th>\n",
       "      <th>EstimatedSalary</th>\n",
       "      <th>Geography_Spain</th>\n",
       "      <th>Gender</th>\n",
       "      <th>HasCrCard</th>\n",
       "      <th>Tenure</th>\n",
       "      <th>CreditScore</th>\n",
       "      <th>Geography_France</th>\n",
       "      <th>USER_ID</th>\n",
       "      <th>event_timestamp</th>\n",
       "      <th>NumOfProducts</th>\n",
       "      <th>Age</th>\n",
       "      <th>IsActiveMember</th>\n",
       "      <th>Balance</th>\n",
       "      <th>Exited</th>\n",
       "      <th>Geography_Germany</th>\n",
       "    </tr>\n",
       "  </thead>\n",
       "  <tbody>\n",
       "    <tr>\n",
       "      <th>0</th>\n",
       "      <td>18922.18</td>\n",
       "      <td>False</td>\n",
       "      <td>0</td>\n",
       "      <td>1</td>\n",
       "      <td>4</td>\n",
       "      <td>792</td>\n",
       "      <td>False</td>\n",
       "      <td>3618</td>\n",
       "      <td>2023-01-01 00:00:00+00:00</td>\n",
       "      <td>1</td>\n",
       "      <td>29</td>\n",
       "      <td>0</td>\n",
       "      <td>107601.79</td>\n",
       "      <td>1</td>\n",
       "      <td>True</td>\n",
       "    </tr>\n",
       "    <tr>\n",
       "      <th>1</th>\n",
       "      <td>136643.84</td>\n",
       "      <td>False</td>\n",
       "      <td>0</td>\n",
       "      <td>0</td>\n",
       "      <td>3</td>\n",
       "      <td>686</td>\n",
       "      <td>True</td>\n",
       "      <td>3152</td>\n",
       "      <td>2023-01-01 00:00:00+00:00</td>\n",
       "      <td>1</td>\n",
       "      <td>39</td>\n",
       "      <td>0</td>\n",
       "      <td>111695.62</td>\n",
       "      <td>0</td>\n",
       "      <td>False</td>\n",
       "    </tr>\n",
       "    <tr>\n",
       "      <th>2</th>\n",
       "      <td>195771.95</td>\n",
       "      <td>False</td>\n",
       "      <td>0</td>\n",
       "      <td>1</td>\n",
       "      <td>9</td>\n",
       "      <td>572</td>\n",
       "      <td>False</td>\n",
       "      <td>4195</td>\n",
       "      <td>2023-01-01 00:00:00+00:00</td>\n",
       "      <td>1</td>\n",
       "      <td>54</td>\n",
       "      <td>1</td>\n",
       "      <td>97382.53</td>\n",
       "      <td>0</td>\n",
       "      <td>True</td>\n",
       "    </tr>\n",
       "    <tr>\n",
       "      <th>3</th>\n",
       "      <td>142454.77</td>\n",
       "      <td>False</td>\n",
       "      <td>1</td>\n",
       "      <td>0</td>\n",
       "      <td>6</td>\n",
       "      <td>643</td>\n",
       "      <td>True</td>\n",
       "      <td>8080</td>\n",
       "      <td>2023-01-01 00:00:00+00:00</td>\n",
       "      <td>2</td>\n",
       "      <td>37</td>\n",
       "      <td>0</td>\n",
       "      <td>0.00</td>\n",
       "      <td>0</td>\n",
       "      <td>False</td>\n",
       "    </tr>\n",
       "    <tr>\n",
       "      <th>4</th>\n",
       "      <td>8908.00</td>\n",
       "      <td>True</td>\n",
       "      <td>1</td>\n",
       "      <td>1</td>\n",
       "      <td>1</td>\n",
       "      <td>587</td>\n",
       "      <td>False</td>\n",
       "      <td>2599</td>\n",
       "      <td>2023-01-01 00:00:00+00:00</td>\n",
       "      <td>2</td>\n",
       "      <td>48</td>\n",
       "      <td>1</td>\n",
       "      <td>0.00</td>\n",
       "      <td>0</td>\n",
       "      <td>False</td>\n",
       "    </tr>\n",
       "    <tr>\n",
       "      <th>...</th>\n",
       "      <td>...</td>\n",
       "      <td>...</td>\n",
       "      <td>...</td>\n",
       "      <td>...</td>\n",
       "      <td>...</td>\n",
       "      <td>...</td>\n",
       "      <td>...</td>\n",
       "      <td>...</td>\n",
       "      <td>...</td>\n",
       "      <td>...</td>\n",
       "      <td>...</td>\n",
       "      <td>...</td>\n",
       "      <td>...</td>\n",
       "      <td>...</td>\n",
       "      <td>...</td>\n",
       "    </tr>\n",
       "    <tr>\n",
       "      <th>9995</th>\n",
       "      <td>186105.99</td>\n",
       "      <td>False</td>\n",
       "      <td>0</td>\n",
       "      <td>1</td>\n",
       "      <td>7</td>\n",
       "      <td>764</td>\n",
       "      <td>True</td>\n",
       "      <td>1195</td>\n",
       "      <td>2023-12-31 00:00:00+00:00</td>\n",
       "      <td>2</td>\n",
       "      <td>24</td>\n",
       "      <td>0</td>\n",
       "      <td>0.00</td>\n",
       "      <td>0</td>\n",
       "      <td>False</td>\n",
       "    </tr>\n",
       "    <tr>\n",
       "      <th>9996</th>\n",
       "      <td>92053.75</td>\n",
       "      <td>False</td>\n",
       "      <td>1</td>\n",
       "      <td>1</td>\n",
       "      <td>3</td>\n",
       "      <td>850</td>\n",
       "      <td>False</td>\n",
       "      <td>4492</td>\n",
       "      <td>2023-12-31 00:00:00+00:00</td>\n",
       "      <td>1</td>\n",
       "      <td>61</td>\n",
       "      <td>1</td>\n",
       "      <td>141784.02</td>\n",
       "      <td>0</td>\n",
       "      <td>True</td>\n",
       "    </tr>\n",
       "    <tr>\n",
       "      <th>9997</th>\n",
       "      <td>182867.84</td>\n",
       "      <td>False</td>\n",
       "      <td>1</td>\n",
       "      <td>1</td>\n",
       "      <td>10</td>\n",
       "      <td>744</td>\n",
       "      <td>True</td>\n",
       "      <td>9303</td>\n",
       "      <td>2023-12-31 00:00:00+00:00</td>\n",
       "      <td>2</td>\n",
       "      <td>36</td>\n",
       "      <td>1</td>\n",
       "      <td>0.00</td>\n",
       "      <td>0</td>\n",
       "      <td>False</td>\n",
       "    </tr>\n",
       "    <tr>\n",
       "      <th>9998</th>\n",
       "      <td>89874.82</td>\n",
       "      <td>False</td>\n",
       "      <td>1</td>\n",
       "      <td>1</td>\n",
       "      <td>4</td>\n",
       "      <td>850</td>\n",
       "      <td>False</td>\n",
       "      <td>6664</td>\n",
       "      <td>2023-12-31 00:00:00+00:00</td>\n",
       "      <td>1</td>\n",
       "      <td>31</td>\n",
       "      <td>1</td>\n",
       "      <td>146587.30</td>\n",
       "      <td>0</td>\n",
       "      <td>True</td>\n",
       "    </tr>\n",
       "    <tr>\n",
       "      <th>9999</th>\n",
       "      <td>45309.24</td>\n",
       "      <td>False</td>\n",
       "      <td>1</td>\n",
       "      <td>1</td>\n",
       "      <td>6</td>\n",
       "      <td>641</td>\n",
       "      <td>True</td>\n",
       "      <td>8618</td>\n",
       "      <td>2023-12-31 00:00:00+00:00</td>\n",
       "      <td>2</td>\n",
       "      <td>37</td>\n",
       "      <td>0</td>\n",
       "      <td>0.00</td>\n",
       "      <td>0</td>\n",
       "      <td>False</td>\n",
       "    </tr>\n",
       "  </tbody>\n",
       "</table>\n",
       "<p>10000 rows × 15 columns</p>\n",
       "</div>"
      ],
      "text/plain": [
       "      EstimatedSalary  Geography_Spain  Gender  HasCrCard  Tenure  \\\n",
       "0            18922.18            False       0          1       4   \n",
       "1           136643.84            False       0          0       3   \n",
       "2           195771.95            False       0          1       9   \n",
       "3           142454.77            False       1          0       6   \n",
       "4             8908.00             True       1          1       1   \n",
       "...               ...              ...     ...        ...     ...   \n",
       "9995        186105.99            False       0          1       7   \n",
       "9996         92053.75            False       1          1       3   \n",
       "9997        182867.84            False       1          1      10   \n",
       "9998         89874.82            False       1          1       4   \n",
       "9999         45309.24            False       1          1       6   \n",
       "\n",
       "      CreditScore  Geography_France  USER_ID           event_timestamp  \\\n",
       "0             792             False     3618 2023-01-01 00:00:00+00:00   \n",
       "1             686              True     3152 2023-01-01 00:00:00+00:00   \n",
       "2             572             False     4195 2023-01-01 00:00:00+00:00   \n",
       "3             643              True     8080 2023-01-01 00:00:00+00:00   \n",
       "4             587             False     2599 2023-01-01 00:00:00+00:00   \n",
       "...           ...               ...      ...                       ...   \n",
       "9995          764              True     1195 2023-12-31 00:00:00+00:00   \n",
       "9996          850             False     4492 2023-12-31 00:00:00+00:00   \n",
       "9997          744              True     9303 2023-12-31 00:00:00+00:00   \n",
       "9998          850             False     6664 2023-12-31 00:00:00+00:00   \n",
       "9999          641              True     8618 2023-12-31 00:00:00+00:00   \n",
       "\n",
       "      NumOfProducts  Age  IsActiveMember    Balance  Exited  Geography_Germany  \n",
       "0                 1   29               0  107601.79       1               True  \n",
       "1                 1   39               0  111695.62       0              False  \n",
       "2                 1   54               1   97382.53       0               True  \n",
       "3                 2   37               0       0.00       0              False  \n",
       "4                 2   48               1       0.00       0              False  \n",
       "...             ...  ...             ...        ...     ...                ...  \n",
       "9995              2   24               0       0.00       0              False  \n",
       "9996              1   61               1  141784.02       0               True  \n",
       "9997              2   36               1       0.00       0              False  \n",
       "9998              1   31               1  146587.30       0               True  \n",
       "9999              2   37               0       0.00       0              False  \n",
       "\n",
       "[10000 rows x 15 columns]"
      ]
     },
     "execution_count": 135,
     "metadata": {},
     "output_type": "execute_result"
    }
   ],
   "source": [
    "# Retrieving the saved dataset and converting it to a DataFrame\n",
    "training_df = store.get_saved_dataset(name=\"churn_dataset\").to_df()\n",
    "training_df"
   ]
  },
  {
   "cell_type": "code",
   "execution_count": 136,
   "metadata": {
    "collapsed": false
   },
   "outputs": [],
   "source": [
    "# Separating the features and labels\n",
    "labels = training_df['Exited']\n",
    "features = training_df.drop(\n",
    "    labels=['Exited', 'event_timestamp', \"USER_ID\"],\n",
    "    axis=1)"
   ]
  },
  {
   "cell_type": "code",
   "execution_count": 137,
   "metadata": {
    "collapsed": false
   },
   "outputs": [],
   "source": [
    "# Splitting the dataset into train and test sets\n",
    "X_train, X_test, y_train, y_test = train_test_split(features,\n",
    "                                                    labels,\n",
    "                                                    stratify=labels)"
   ]
  },
  {
   "cell_type": "code",
   "execution_count": 138,
   "metadata": {
    "collapsed": false
   },
   "outputs": [
    {
     "data": {
      "text/plain": [
       "Index(['Gender', 'CreditScore', 'HasCrCard', 'EstimatedSalary', 'Tenure',\n",
       "       'IsActiveMember', 'NumOfProducts', 'Geography_France',\n",
       "       'Geography_Spain', 'Age', 'Geography_Germany', 'Balance'],\n",
       "      dtype='object')"
      ]
     },
     "execution_count": 138,
     "metadata": {},
     "output_type": "execute_result"
    }
   ],
   "source": [
    "columns_order = load(r'data/columns_order.joblib')\n",
    "columns_order"
   ]
  },
  {
   "cell_type": "code",
   "execution_count": 139,
   "metadata": {
    "collapsed": false
   },
   "outputs": [],
   "source": [
    "# Riorganizza le colonne di X_test in base all'ordine delle colonne utilizzate durante l'addestramento\n",
    "X_test = X_test[columns_order]\n",
    "X_train = X_train[columns_order]"
   ]
  },
  {
   "cell_type": "markdown",
   "metadata": {
    "collapsed": false
   },
   "source": [
    "### Train - Random Forest"
   ]
  },
  {
   "cell_type": "code",
   "execution_count": 140,
   "metadata": {
    "collapsed": false
   },
   "outputs": [
    {
     "name": "stdout",
     "output_type": "stream",
     "text": [
      "              precision    recall  f1-score   support\n",
      "\n",
      "           0       0.97      0.87      0.92      2216\n",
      "           1       0.44      0.79      0.56       284\n",
      "\n",
      "    accuracy                           0.86      2500\n",
      "   macro avg       0.70      0.83      0.74      2500\n",
      "weighted avg       0.91      0.86      0.88      2500\n",
      "\n"
     ]
    }
   ],
   "source": [
    "# Inizializza il modello\n",
    "forest = RandomForestClassifier(n_estimators=100, random_state=42)\n",
    "# Addestra il modello\n",
    "forest.fit(X=X_train, y=y_train)\n",
    "# predict the mode \n",
    "y_pred = forest.predict(X_test) \n",
    "  \n",
    "# performance evaluatio metrics \n",
    "print(classification_report(y_pred, y_test)) "
   ]
  },
  {
   "cell_type": "code",
   "execution_count": 141,
   "metadata": {
    "collapsed": false
   },
   "outputs": [
    {
     "data": {
      "text/plain": [
       "['models/random_forest_model.joblib']"
      ]
     },
     "execution_count": 141,
     "metadata": {},
     "output_type": "execute_result"
    }
   ],
   "source": [
    "dump(forest, r'models/random_forest_model.joblib')"
   ]
  },
  {
   "cell_type": "code",
   "execution_count": 142,
   "metadata": {
    "collapsed": false
   },
   "outputs": [
    {
     "data": {
      "text/plain": [
       "Index(['Gender', 'CreditScore', 'HasCrCard', 'EstimatedSalary', 'Tenure',\n",
       "       'IsActiveMember', 'NumOfProducts', 'Geography_France',\n",
       "       'Geography_Spain', 'Age', 'Geography_Germany', 'Balance'],\n",
       "      dtype='object')"
      ]
     },
     "execution_count": 142,
     "metadata": {},
     "output_type": "execute_result"
    }
   ],
   "source": [
    "X_train.columns"
   ]
  },
  {
   "cell_type": "code",
   "execution_count": 143,
   "metadata": {
    "collapsed": false
   },
   "outputs": [],
   "source": [
    "# Load random forest model\n",
    "logistic = load(r'models/logistic_regression.joblib')"
   ]
  },
  {
   "cell_type": "code",
   "execution_count": 144,
   "metadata": {
    "collapsed": false
   },
   "outputs": [],
   "source": [
    "y_pred_prob_1 = forest.predict_proba(X_test)[:, 1]\n",
    "y_pred_prob_2 = logistic.predict_proba(X_test)[:, -1]"
   ]
  },
  {
   "cell_type": "code",
   "execution_count": 145,
   "metadata": {
    "collapsed": false
   },
   "outputs": [],
   "source": [
    "fpr_1, tpr_1, thresholds_1 = roc_curve(y_test, y_pred_prob_1)\n",
    "auc_1 = roc_auc_score(y_test, y_pred_prob_1)"
   ]
  },
  {
   "cell_type": "code",
   "execution_count": 146,
   "metadata": {
    "collapsed": false
   },
   "outputs": [],
   "source": [
    "fpr_2, tpr_2, thresholds_2 = roc_curve(y_test, y_pred_prob_2)\n",
    "auc_2 = roc_auc_score(y_test, y_pred_prob_2)"
   ]
  },
  {
   "cell_type": "code",
   "execution_count": 147,
   "metadata": {
    "collapsed": false
   },
   "outputs": [
    {
     "data": {
      "image/png": "[encoded data removed]",
      "text/plain": [
       "<Figure size 640x480 with 1 Axes>"
      ]
     },
     "metadata": {},
     "output_type": "display_data"
    }
   ],
   "source": [
    "plt.plot(fpr_1, tpr_1, label=f'Random Forest (AUC = {auc_1:.2f})')\n",
    "plt.plot(fpr_2, tpr_2, label=f'Logistic Regression (AUC = {auc_2:.2f})')\n",
    "plt.plot([0, 1], [0, 1], 'k--')\n",
    "plt.xlabel('False Positive Rate')\n",
    "plt.ylabel('True Positive Rate')\n",
    "plt.title('ROC Curve')\n",
    "plt.legend()\n",
    "plt.show()"
   ]
  },
  {
   "cell_type": "markdown",
   "metadata": {},
   "source": [
    "## Hyperparameter-tuning random forest"
   ]
  },
  {
   "cell_type": "code",
   "execution_count": 148,
   "metadata": {},
   "outputs": [],
   "source": [
    "rf_params = {\n",
    "    'n_estimators': [100, 200, 300], \n",
    "    'criterion': ['gini', 'entropy'],\n",
    "    'max_depth': [None, 10, 20, 30],\n",
    "    'min_samples_split': [2, 5, 10],\n",
    "    'min_samples_leaf': [1, 2, 4],\n",
    "    'max_features': ['auto', 'sqrt', 'log2']\n",
    "}"
   ]
  },
  {
   "cell_type": "code",
   "execution_count": 149,
   "metadata": {},
   "outputs": [],
   "source": [
    "rf_random_search = RandomizedSearchCV(estimator=RandomForestClassifier(random_state=42),\n",
    "                                      param_distributions=rf_params, n_iter=100, cv=5, random_state=42)\n",
    "rf_random_search.fit(X_train, y_train)"
   ]
  },
  {
   "cell_type": "code",
   "execution_count": null,
   "metadata": {},
   "outputs": [],
   "source": [
    "\n",
    "y_pred_rf_rs = rf_random_search.predict(X_test)\n",
    "print(\"\\n Random Forest Randomized Search Performance:\")\n",
    "print(\"Accuracy:\", accuracy_score(y_test, y_pred_rf_rs))\n",
    "print(\"Classification Report:\")\n",
    "print(classification_report(y_test, y_pred_rf_rs))\n",
    "\n"
   ]
  }
 ],
 "metadata": {
  "kernelspec": {
   "display_name": "Python 3",
   "language": "python",
   "name": "python3"
  },
  "language_info": {
   "codemirror_mode": {
    "name": "ipython",
    "version": 3
   },
   "file_extension": ".py",
   "mimetype": "text/x-python",
   "name": "python",
   "nbconvert_exporter": "python",
   "pygments_lexer": "ipython3",
   "version": "3.11.9"
  }
 },
 "nbformat": 4,
 "nbformat_minor": 0
}
