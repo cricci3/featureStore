{
 "cells": [
  {
   "cell_type": "code",
   "execution_count": 29,
   "metadata": {},
   "outputs": [],
   "source": [
    "from feast import FeatureStore\n",
    "import pandas as pd\n",
    "from joblib import load"
   ]
  },
  {
   "cell_type": "code",
   "execution_count": 30,
   "metadata": {
    "collapsed": false
   },
   "outputs": [],
   "source": [
    "# Getting our FeatureStore\n",
    "store = FeatureStore(repo_path=\".\")"
   ]
  },
  {
   "cell_type": "code",
   "execution_count": 31,
   "metadata": {},
   "outputs": [],
   "source": [
    "feature_service = store.get_feature_service(\"user_activity\")"
   ]
  },
  {
   "cell_type": "code",
   "execution_count": 34,
   "metadata": {
    "collapsed": false
   },
   "outputs": [],
   "source": [
    "# Getting some features for inference\n",
    "features = store.get_online_features(\n",
    "    features=feature_service,\n",
    "    entity_rows=[{\"USER_ID\": 800},  {\"USER_ID\": 1085},\n",
    "                 {\"USER_ID\": 2430}, {\"USER_ID\": 3456},\n",
    "                 {\"USER_ID\": 7608}, {\"USER_ID\": 8697}]\n",
    ").to_dict()\n",
    "# get_online_features returns an OnlineResponse object - use to_dict to convert the feature values to a Python dictionary"
   ]
  },
  {
   "cell_type": "code",
   "execution_count": 35,
   "metadata": {
    "collapsed": false
   },
   "outputs": [
    {
     "data": {
      "text/plain": "   USER_ID  Gender  Age  CreditScore  Tenure    Balance  EstimatedSalary  \\\n0      800       0   42          601       9  133636.16        103315.74   \n1     1085       1   24          796       8       0.00         61349.37   \n2     2430       1   31          816       8       0.00         28407.40   \n3     3456       1   29          842       8       0.00        123437.05   \n4     7608       0   41          838       5       0.00         81313.51   \n\n   HasCrCard  NumOfProducts  IsActiveMember  Geography_France  \\\n0          0              1               1             False   \n1          1              2               0              True   \n2          1              2               1              True   \n3          1              2               1              True   \n4          1              2               0             False   \n\n   Geography_Germany  Geography_Spain  \n0               True            False  \n1              False            False  \n2              False            False  \n3              False            False  \n4              False             True  ",
      "text/html": "<div>\n<style scoped>\n    .dataframe tbody tr th:only-of-type {\n        vertical-align: middle;\n    }\n\n    .dataframe tbody tr th {\n        vertical-align: top;\n    }\n\n    .dataframe thead th {\n        text-align: right;\n    }\n</style>\n<table border=\"1\" class=\"dataframe\">\n  <thead>\n    <tr style=\"text-align: right;\">\n      <th></th>\n      <th>USER_ID</th>\n      <th>Gender</th>\n      <th>Age</th>\n      <th>CreditScore</th>\n      <th>Tenure</th>\n      <th>Balance</th>\n      <th>EstimatedSalary</th>\n      <th>HasCrCard</th>\n      <th>NumOfProducts</th>\n      <th>IsActiveMember</th>\n      <th>Geography_France</th>\n      <th>Geography_Germany</th>\n      <th>Geography_Spain</th>\n    </tr>\n  </thead>\n  <tbody>\n    <tr>\n      <th>0</th>\n      <td>800</td>\n      <td>0</td>\n      <td>42</td>\n      <td>601</td>\n      <td>9</td>\n      <td>133636.16</td>\n      <td>103315.74</td>\n      <td>0</td>\n      <td>1</td>\n      <td>1</td>\n      <td>False</td>\n      <td>True</td>\n      <td>False</td>\n    </tr>\n    <tr>\n      <th>1</th>\n      <td>1085</td>\n      <td>1</td>\n      <td>24</td>\n      <td>796</td>\n      <td>8</td>\n      <td>0.00</td>\n      <td>61349.37</td>\n      <td>1</td>\n      <td>2</td>\n      <td>0</td>\n      <td>True</td>\n      <td>False</td>\n      <td>False</td>\n    </tr>\n    <tr>\n      <th>2</th>\n      <td>2430</td>\n      <td>1</td>\n      <td>31</td>\n      <td>816</td>\n      <td>8</td>\n      <td>0.00</td>\n      <td>28407.40</td>\n      <td>1</td>\n      <td>2</td>\n      <td>1</td>\n      <td>True</td>\n      <td>False</td>\n      <td>False</td>\n    </tr>\n    <tr>\n      <th>3</th>\n      <td>3456</td>\n      <td>1</td>\n      <td>29</td>\n      <td>842</td>\n      <td>8</td>\n      <td>0.00</td>\n      <td>123437.05</td>\n      <td>1</td>\n      <td>2</td>\n      <td>1</td>\n      <td>True</td>\n      <td>False</td>\n      <td>False</td>\n    </tr>\n    <tr>\n      <th>4</th>\n      <td>7608</td>\n      <td>0</td>\n      <td>41</td>\n      <td>838</td>\n      <td>5</td>\n      <td>0.00</td>\n      <td>81313.51</td>\n      <td>1</td>\n      <td>2</td>\n      <td>0</td>\n      <td>False</td>\n      <td>False</td>\n      <td>True</td>\n    </tr>\n  </tbody>\n</table>\n</div>"
     },
     "execution_count": 35,
     "metadata": {},
     "output_type": "execute_result"
    }
   ],
   "source": [
    "# Converting the features to a DataFrame\n",
    "features_df = pd.DataFrame.from_dict(data=features)\n",
    "features_df.head()"
   ]
  },
  {
   "cell_type": "code",
   "execution_count": 36,
   "metadata": {
    "collapsed": false
   },
   "outputs": [],
   "source": [
    "# Carica il modello salvato\n",
    "regression = load(r\"models/logistic_regression.joblib\")"
   ]
  },
  {
   "cell_type": "code",
   "execution_count": 37,
   "outputs": [],
   "source": [
    "features_df.drop('USER_ID', axis=1)\n",
    "features_df = features_df[sorted(features_df.columns)]"
   ],
   "metadata": {
    "collapsed": false
   }
  },
  {
   "cell_type": "code",
   "execution_count": 38,
   "metadata": {
    "collapsed": false
   },
   "outputs": [
    {
     "data": {
      "text/plain": "Age                  0\nBalance              0\nCreditScore          0\nEstimatedSalary      0\nGender               0\nGeography_France     0\nGeography_Germany    0\nGeography_Spain      0\nHasCrCard            0\nIsActiveMember       0\nNumOfProducts        0\nTenure               0\nUSER_ID              0\ndtype: int64"
     },
     "execution_count": 38,
     "metadata": {},
     "output_type": "execute_result"
    }
   ],
   "source": [
    "# Verifica dei valori nulli\n",
    "null_counts = features_df.isnull().sum()\n",
    "null_counts"
   ]
  },
  {
   "cell_type": "code",
   "execution_count": 26,
   "outputs": [],
   "source": [
    "desired_order = [\n",
    "    'Age', 'Balance', 'CreditScore', 'EstimatedSalary', 'Gender',\n",
    "    'Geography_France', 'Geography_Germany', 'Geography_Spain',\n",
    "    'HasCrCard', 'IsActiveMember', 'NumOfProducts', 'Tenure'\n",
    "]\n",
    "\n",
    "# Reorder the columns of the DataFrame\n",
    "features_df = features_df[desired_order]"
   ],
   "metadata": {
    "collapsed": false
   }
  },
  {
   "cell_type": "code",
   "execution_count": 27,
   "metadata": {
    "collapsed": false
   },
   "outputs": [
    {
     "data": {
      "text/plain": "array([0, 0], dtype=int64)"
     },
     "execution_count": 27,
     "metadata": {},
     "output_type": "execute_result"
    }
   ],
   "source": [
    "# Fai le predizioni utilizzando il modello caricato\n",
    "predictions = regression.predict(features_df)\n",
    "\n",
    "# Stampa o ritorna le predizioni\n",
    "predictions"
   ]
  },
  {
   "cell_type": "code",
   "execution_count": 28,
   "metadata": {},
   "outputs": [
    {
     "data": {
      "text/plain": "array([0, 0], dtype=int64)"
     },
     "execution_count": 28,
     "metadata": {},
     "output_type": "execute_result"
    }
   ],
   "source": [
    "# Carica il modello salvato\n",
    "forest = load(r\"models/random_forest_model.joblib\")\n",
    "\n",
    "# Fai le predizioni utilizzando il modello caricato\n",
    "predictions = forest.predict(features_df)\n",
    "\n",
    "predictions"
   ]
  }
 ],
 "metadata": {
  "kernelspec": {
   "display_name": "Python 3",
   "language": "python",
   "name": "python3"
  },
  "language_info": {
   "codemirror_mode": {
    "name": "ipython",
    "version": 3
   },
   "file_extension": ".py",
   "mimetype": "text/x-python",
   "name": "python",
   "nbconvert_exporter": "python",
   "pygments_lexer": "ipython3",
   "version": "3.11.9"
  }
 },
 "nbformat": 4,
 "nbformat_minor": 2
}
