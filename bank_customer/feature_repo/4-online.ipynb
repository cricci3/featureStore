{
 "cells": [
  {
   "cell_type": "code",
   "execution_count": 28,
   "metadata": {},
   "outputs": [],
   "source": [
    "from feast import FeatureStore\n",
    "import pandas as pd\n",
    "from joblib import load"
   ]
  },
  {
   "cell_type": "code",
   "execution_count": 29,
   "metadata": {
    "collapsed": false
   },
   "outputs": [],
   "source": [
    "# Getting our FeatureStore\n",
    "store = FeatureStore(repo_path=\".\")"
   ]
  },
  {
   "cell_type": "code",
   "execution_count": 30,
   "metadata": {},
   "outputs": [],
   "source": [
    "feature_service = store.get_feature_service(\"user_activity\")"
   ]
  },
  {
   "cell_type": "code",
   "execution_count": 31,
   "metadata": {
    "collapsed": false
   },
   "outputs": [],
   "source": [
    "# Getting some features for inference\n",
    "features = store.get_online_features(\n",
    "    features=feature_service,\n",
    "    entity_rows=[{\"USER_ID\": 800},  {\"USER_ID\": 1085},\n",
    "                 {\"USER_ID\": 2430}, {\"USER_ID\": 3456},\n",
    "                 {\"USER_ID\": 7608}, {\"USER_ID\": 8697},\n",
    "                 {\"USER_ID\": 801},  {\"USER_ID\": 1086},\n",
    "                 {\"USER_ID\": 2436}, {\"USER_ID\": 3455},\n",
    "                 {\"USER_ID\": 7668}, {\"USER_ID\": 8627},\n",
    "                 {\"USER_ID\": 8000}, {\"USER_ID\": 2085},\n",
    "                 {\"USER_ID\": 2630}, {\"USER_ID\": 3656},\n",
    "                 {\"USER_ID\": 7708}, {\"USER_ID\": 8197}]\n",
    ").to_dict()\n",
    "# get_online_features returns an OnlineResponse object - use to_dict to convert the feature values to a Python dictionary"
   ]
  },
  {
   "cell_type": "code",
   "execution_count": 32,
   "metadata": {
    "collapsed": false
   },
   "outputs": [
    {
     "data": {
      "text/html": [
       "<div>\n",
       "<style scoped>\n",
       "    .dataframe tbody tr th:only-of-type {\n",
       "        vertical-align: middle;\n",
       "    }\n",
       "\n",
       "    .dataframe tbody tr th {\n",
       "        vertical-align: top;\n",
       "    }\n",
       "\n",
       "    .dataframe thead th {\n",
       "        text-align: right;\n",
       "    }\n",
       "</style>\n",
       "<table border=\"1\" class=\"dataframe\">\n",
       "  <thead>\n",
       "    <tr style=\"text-align: right;\">\n",
       "      <th></th>\n",
       "      <th>USER_ID</th>\n",
       "      <th>Age</th>\n",
       "      <th>Gender</th>\n",
       "      <th>Tenure</th>\n",
       "      <th>CreditScore</th>\n",
       "      <th>EstimatedSalary</th>\n",
       "      <th>Balance</th>\n",
       "      <th>NumOfProducts</th>\n",
       "      <th>HasCrCard</th>\n",
       "      <th>IsActiveMember</th>\n",
       "      <th>Geography_Germany</th>\n",
       "      <th>Geography_France</th>\n",
       "      <th>Geography_Spain</th>\n",
       "    </tr>\n",
       "  </thead>\n",
       "  <tbody>\n",
       "    <tr>\n",
       "      <th>0</th>\n",
       "      <td>800</td>\n",
       "      <td>42</td>\n",
       "      <td>0</td>\n",
       "      <td>9</td>\n",
       "      <td>601</td>\n",
       "      <td>103315.74</td>\n",
       "      <td>133636.16</td>\n",
       "      <td>1</td>\n",
       "      <td>0</td>\n",
       "      <td>1</td>\n",
       "      <td>True</td>\n",
       "      <td>False</td>\n",
       "      <td>False</td>\n",
       "    </tr>\n",
       "    <tr>\n",
       "      <th>1</th>\n",
       "      <td>1085</td>\n",
       "      <td>24</td>\n",
       "      <td>1</td>\n",
       "      <td>8</td>\n",
       "      <td>796</td>\n",
       "      <td>61349.37</td>\n",
       "      <td>0.00</td>\n",
       "      <td>2</td>\n",
       "      <td>1</td>\n",
       "      <td>0</td>\n",
       "      <td>False</td>\n",
       "      <td>True</td>\n",
       "      <td>False</td>\n",
       "    </tr>\n",
       "    <tr>\n",
       "      <th>2</th>\n",
       "      <td>2430</td>\n",
       "      <td>31</td>\n",
       "      <td>1</td>\n",
       "      <td>8</td>\n",
       "      <td>816</td>\n",
       "      <td>28407.40</td>\n",
       "      <td>0.00</td>\n",
       "      <td>2</td>\n",
       "      <td>1</td>\n",
       "      <td>1</td>\n",
       "      <td>False</td>\n",
       "      <td>True</td>\n",
       "      <td>False</td>\n",
       "    </tr>\n",
       "    <tr>\n",
       "      <th>3</th>\n",
       "      <td>3456</td>\n",
       "      <td>29</td>\n",
       "      <td>1</td>\n",
       "      <td>8</td>\n",
       "      <td>842</td>\n",
       "      <td>123437.05</td>\n",
       "      <td>0.00</td>\n",
       "      <td>2</td>\n",
       "      <td>1</td>\n",
       "      <td>1</td>\n",
       "      <td>False</td>\n",
       "      <td>True</td>\n",
       "      <td>False</td>\n",
       "    </tr>\n",
       "    <tr>\n",
       "      <th>4</th>\n",
       "      <td>7608</td>\n",
       "      <td>41</td>\n",
       "      <td>0</td>\n",
       "      <td>5</td>\n",
       "      <td>838</td>\n",
       "      <td>81313.51</td>\n",
       "      <td>0.00</td>\n",
       "      <td>2</td>\n",
       "      <td>1</td>\n",
       "      <td>0</td>\n",
       "      <td>False</td>\n",
       "      <td>False</td>\n",
       "      <td>True</td>\n",
       "    </tr>\n",
       "  </tbody>\n",
       "</table>\n",
       "</div>"
      ],
      "text/plain": [
       "   USER_ID  Age  Gender  Tenure  CreditScore  EstimatedSalary    Balance  \\\n",
       "0      800   42       0       9          601        103315.74  133636.16   \n",
       "1     1085   24       1       8          796         61349.37       0.00   \n",
       "2     2430   31       1       8          816         28407.40       0.00   \n",
       "3     3456   29       1       8          842        123437.05       0.00   \n",
       "4     7608   41       0       5          838         81313.51       0.00   \n",
       "\n",
       "   NumOfProducts  HasCrCard  IsActiveMember  Geography_Germany  \\\n",
       "0              1          0               1               True   \n",
       "1              2          1               0              False   \n",
       "2              2          1               1              False   \n",
       "3              2          1               1              False   \n",
       "4              2          1               0              False   \n",
       "\n",
       "   Geography_France  Geography_Spain  \n",
       "0             False            False  \n",
       "1              True            False  \n",
       "2              True            False  \n",
       "3              True            False  \n",
       "4             False             True  "
      ]
     },
     "execution_count": 32,
     "metadata": {},
     "output_type": "execute_result"
    }
   ],
   "source": [
    "# Converting the features to a DataFrame\n",
    "features_df = pd.DataFrame.from_dict(data=features)\n",
    "features_df.head()"
   ]
  },
  {
   "cell_type": "code",
   "execution_count": 33,
   "metadata": {
    "collapsed": false
   },
   "outputs": [],
   "source": [
    "# Carica il modello salvato\n",
    "regression = load(r\"models/logistic_regression.joblib\")"
   ]
  },
  {
   "cell_type": "code",
   "execution_count": 34,
   "metadata": {
    "collapsed": false
   },
   "outputs": [],
   "source": [
    "features_df.drop('USER_ID', axis=1)\n",
    "features_df = features_df[sorted(features_df.columns)]"
   ]
  },
  {
   "cell_type": "code",
   "execution_count": 35,
   "metadata": {
    "collapsed": false
   },
   "outputs": [
    {
     "data": {
      "text/plain": [
       "Age                  0\n",
       "Balance              0\n",
       "CreditScore          0\n",
       "EstimatedSalary      0\n",
       "Gender               0\n",
       "Geography_France     0\n",
       "Geography_Germany    0\n",
       "Geography_Spain      0\n",
       "HasCrCard            0\n",
       "IsActiveMember       0\n",
       "NumOfProducts        0\n",
       "Tenure               0\n",
       "USER_ID              0\n",
       "dtype: int64"
      ]
     },
     "execution_count": 35,
     "metadata": {},
     "output_type": "execute_result"
    }
   ],
   "source": [
    "# Verifica dei valori nulli\n",
    "null_counts = features_df.isnull().sum()\n",
    "null_counts"
   ]
  },
  {
   "cell_type": "code",
   "execution_count": 36,
   "metadata": {
    "collapsed": false
   },
   "outputs": [],
   "source": [
    "desired_order = [\n",
    "    'Age', 'Balance', 'CreditScore', 'EstimatedSalary', 'Gender',\n",
    "    'Geography_France', 'Geography_Germany', 'Geography_Spain',\n",
    "    'HasCrCard', 'IsActiveMember', 'NumOfProducts', 'Tenure'\n",
    "]\n",
    "\n",
    "# Reorder the columns of the DataFrame\n",
    "features_df = features_df[desired_order]"
   ]
  },
  {
   "cell_type": "code",
   "execution_count": 37,
   "metadata": {
    "collapsed": false
   },
   "outputs": [
    {
     "name": "stdout",
     "output_type": "stream",
     "text": [
      "    Predictions\n",
      "0             0\n",
      "1             0\n",
      "2             0\n",
      "3             0\n",
      "4             0\n",
      "5             0\n",
      "6             0\n",
      "7             0\n",
      "8             0\n",
      "9             0\n",
      "10            0\n",
      "11            0\n",
      "12            0\n",
      "13            0\n",
      "14            0\n",
      "15            0\n",
      "16            0\n",
      "17            0\n"
     ]
    }
   ],
   "source": [
    "# Fai le predizioni utilizzando il modello caricato\n",
    "predictions = regression.predict(features_df)\n",
    "\n",
    "# Supponendo che `predictions` sia l'array delle predizioni\n",
    "predictions_df = pd.DataFrame(predictions, columns=['Predictions'])\n",
    "\n",
    "# Stampa il DataFrame in modo leggibile\n",
    "print(predictions_df)"
   ]
  },
  {
   "cell_type": "code",
   "execution_count": 39,
   "metadata": {},
   "outputs": [
    {
     "name": "stdout",
     "output_type": "stream",
     "text": [
      "    Predictions\n",
      "0             0\n",
      "1             0\n",
      "2             0\n",
      "3             0\n",
      "4             0\n",
      "5             0\n",
      "6             0\n",
      "7             1\n",
      "8             0\n",
      "9             0\n",
      "10            0\n",
      "11            1\n",
      "12            0\n",
      "13            1\n",
      "14            1\n",
      "15            0\n",
      "16            0\n",
      "17            0\n"
     ]
    }
   ],
   "source": [
    "# Carica il modello salvato\n",
    "forest = load(r\"models/random_forest_model.joblib\")\n",
    "\n",
    "# Fai le predizioni utilizzando il modello caricato\n",
    "predictions = forest.predict(features_df)\n",
    "\n",
    "# Supponendo che `predictions` sia l'array delle predizioni\n",
    "predictions_df = pd.DataFrame(predictions, columns=['Predictions'])\n",
    "\n",
    "# Stampa il DataFrame in modo leggibile\n",
    "print(predictions_df)"
   ]
  }
 ],
 "metadata": {
  "kernelspec": {
   "display_name": "Python 3",
   "language": "python",
   "name": "python3"
  },
  "language_info": {
   "codemirror_mode": {
    "name": "ipython",
    "version": 3
   },
   "file_extension": ".py",
   "mimetype": "text/x-python",
   "name": "python",
   "nbconvert_exporter": "python",
   "pygments_lexer": "ipython3",
   "version": "3.11.9"
  }
 },
 "nbformat": 4,
 "nbformat_minor": 2
}
