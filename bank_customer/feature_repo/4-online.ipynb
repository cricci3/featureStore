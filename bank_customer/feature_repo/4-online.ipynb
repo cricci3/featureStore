{
 "cells": [
  {
   "cell_type": "code",
   "execution_count": 1,
   "metadata": {},
   "outputs": [],
   "source": [
    "from feast import FeatureStore\n",
    "import pandas as pd\n",
    "from joblib import load"
   ]
  },
  {
   "cell_type": "code",
   "execution_count": 5,
   "metadata": {
    "collapsed": false
   },
   "outputs": [],
   "source": [
    "# Getting our FeatureStore\n",
    "store = FeatureStore(repo_path=\".\")"
   ]
  },
  {
   "cell_type": "code",
   "execution_count": 6,
   "metadata": {},
   "outputs": [],
   "source": [
    "feature_service = store.get_feature_service(\"user_activity\")"
   ]
  },
  {
   "cell_type": "code",
   "execution_count": 7,
   "metadata": {
    "collapsed": false
   },
   "outputs": [
    {
     "ename": "ValueError",
     "evalue": "invalid literal for int() with base 10: '//localhost'",
     "output_type": "error",
     "traceback": [
      "\u001B[1;31m---------------------------------------------------------------------------\u001B[0m",
      "\u001B[1;31mIndexError\u001B[0m                                Traceback (most recent call last)",
      "File \u001B[1;32m~\\AppData\\Local\\Programs\\Python\\Python311\\Lib\\site-packages\\redis\\connection.py:1454\u001B[0m, in \u001B[0;36mConnectionPool.get_connection\u001B[1;34m(self, command_name, *keys, **options)\u001B[0m\n\u001B[0;32m   1453\u001B[0m \u001B[38;5;28;01mtry\u001B[39;00m:\n\u001B[1;32m-> 1454\u001B[0m     connection \u001B[38;5;241m=\u001B[39m \u001B[38;5;28;43mself\u001B[39;49m\u001B[38;5;241;43m.\u001B[39;49m\u001B[43m_available_connections\u001B[49m\u001B[38;5;241;43m.\u001B[39;49m\u001B[43mpop\u001B[49m\u001B[43m(\u001B[49m\u001B[43m)\u001B[49m\n\u001B[0;32m   1455\u001B[0m \u001B[38;5;28;01mexcept\u001B[39;00m \u001B[38;5;167;01mIndexError\u001B[39;00m:\n",
      "\u001B[1;31mIndexError\u001B[0m: pop from empty list",
      "\nDuring handling of the above exception, another exception occurred:\n",
      "\u001B[1;31mValueError\u001B[0m                                Traceback (most recent call last)",
      "Cell \u001B[1;32mIn[7], line 2\u001B[0m\n\u001B[0;32m      1\u001B[0m \u001B[38;5;66;03m# Getting the latest features - we request the features data for two rows, 1085 (daily hours) and 1 (night hours)\u001B[39;00m\n\u001B[1;32m----> 2\u001B[0m features \u001B[38;5;241m=\u001B[39m \u001B[43mstore\u001B[49m\u001B[38;5;241;43m.\u001B[39;49m\u001B[43mget_online_features\u001B[49m\u001B[43m(\u001B[49m\n\u001B[0;32m      3\u001B[0m \u001B[43m    \u001B[49m\u001B[43mfeatures\u001B[49m\u001B[38;5;241;43m=\u001B[39;49m\u001B[43mfeature_service\u001B[49m\u001B[43m,\u001B[49m\n\u001B[0;32m      4\u001B[0m \u001B[43m    \u001B[49m\u001B[43mentity_rows\u001B[49m\u001B[38;5;241;43m=\u001B[39;49m\u001B[43m[\u001B[49m\u001B[43m{\u001B[49m\u001B[38;5;124;43m\"\u001B[39;49m\u001B[38;5;124;43mUSER_ID\u001B[39;49m\u001B[38;5;124;43m\"\u001B[39;49m\u001B[43m:\u001B[49m\u001B[43m \u001B[49m\u001B[38;5;241;43m1\u001B[39;49m\u001B[43m}\u001B[49m\u001B[43m,\u001B[49m\u001B[43m \u001B[49m\u001B[43m{\u001B[49m\u001B[38;5;124;43m\"\u001B[39;49m\u001B[38;5;124;43mUSER_ID\u001B[39;49m\u001B[38;5;124;43m\"\u001B[39;49m\u001B[43m:\u001B[49m\u001B[43m \u001B[49m\u001B[38;5;241;43m1085\u001B[39;49m\u001B[43m}\u001B[49m\u001B[43m]\u001B[49m\n\u001B[0;32m      5\u001B[0m \u001B[43m)\u001B[49m\u001B[38;5;241m.\u001B[39mto_dict()\n\u001B[0;32m      6\u001B[0m \u001B[38;5;66;03m# get_online_features returns an OnlineResponse object - use to_dict to convert the feature values to a Python dictionary\u001B[39;00m\n",
      "File \u001B[1;32m~\\AppData\\Local\\Programs\\Python\\Python311\\Lib\\site-packages\\feast\\feature_store.py:1531\u001B[0m, in \u001B[0;36mFeatureStore.get_online_features\u001B[1;34m(self, features, entity_rows, full_feature_names)\u001B[0m\n\u001B[0;32m   1528\u001B[0m         \u001B[38;5;28;01mexcept\u001B[39;00m \u001B[38;5;167;01mKeyError\u001B[39;00m \u001B[38;5;28;01mas\u001B[39;00m e:\n\u001B[0;32m   1529\u001B[0m             \u001B[38;5;28;01mraise\u001B[39;00m \u001B[38;5;167;01mValueError\u001B[39;00m(\u001B[38;5;124m\"\u001B[39m\u001B[38;5;124mAll entity_rows must have the same keys.\u001B[39m\u001B[38;5;124m\"\u001B[39m) \u001B[38;5;28;01mfrom\u001B[39;00m \u001B[38;5;21;01me\u001B[39;00m\n\u001B[1;32m-> 1531\u001B[0m \u001B[38;5;28;01mreturn\u001B[39;00m \u001B[38;5;28;43mself\u001B[39;49m\u001B[38;5;241;43m.\u001B[39;49m\u001B[43m_get_online_features\u001B[49m\u001B[43m(\u001B[49m\n\u001B[0;32m   1532\u001B[0m \u001B[43m    \u001B[49m\u001B[43mfeatures\u001B[49m\u001B[38;5;241;43m=\u001B[39;49m\u001B[43mfeatures\u001B[49m\u001B[43m,\u001B[49m\n\u001B[0;32m   1533\u001B[0m \u001B[43m    \u001B[49m\u001B[43mentity_values\u001B[49m\u001B[38;5;241;43m=\u001B[39;49m\u001B[43mcolumnar\u001B[49m\u001B[43m,\u001B[49m\n\u001B[0;32m   1534\u001B[0m \u001B[43m    \u001B[49m\u001B[43mfull_feature_names\u001B[49m\u001B[38;5;241;43m=\u001B[39;49m\u001B[43mfull_feature_names\u001B[49m\u001B[43m,\u001B[49m\n\u001B[0;32m   1535\u001B[0m \u001B[43m    \u001B[49m\u001B[43mnative_entity_values\u001B[49m\u001B[38;5;241;43m=\u001B[39;49m\u001B[38;5;28;43;01mTrue\u001B[39;49;00m\u001B[43m,\u001B[49m\n\u001B[0;32m   1536\u001B[0m \u001B[43m\u001B[49m\u001B[43m)\u001B[49m\n",
      "File \u001B[1;32m~\\AppData\\Local\\Programs\\Python\\Python311\\Lib\\site-packages\\feast\\feature_store.py:1663\u001B[0m, in \u001B[0;36mFeatureStore._get_online_features\u001B[1;34m(self, features, entity_values, full_feature_names, native_entity_values)\u001B[0m\n\u001B[0;32m   1656\u001B[0m table_entity_values, idxs \u001B[38;5;241m=\u001B[39m \u001B[38;5;28mself\u001B[39m\u001B[38;5;241m.\u001B[39m_get_unique_entities(\n\u001B[0;32m   1657\u001B[0m     table,\n\u001B[0;32m   1658\u001B[0m     join_key_values,\n\u001B[0;32m   1659\u001B[0m     entity_name_to_join_key_map,\n\u001B[0;32m   1660\u001B[0m )\n\u001B[0;32m   1662\u001B[0m \u001B[38;5;66;03m# Fetch feature data for the minimum set of Entities.\u001B[39;00m\n\u001B[1;32m-> 1663\u001B[0m feature_data \u001B[38;5;241m=\u001B[39m \u001B[38;5;28;43mself\u001B[39;49m\u001B[38;5;241;43m.\u001B[39;49m\u001B[43m_read_from_online_store\u001B[49m\u001B[43m(\u001B[49m\n\u001B[0;32m   1664\u001B[0m \u001B[43m    \u001B[49m\u001B[43mtable_entity_values\u001B[49m\u001B[43m,\u001B[49m\n\u001B[0;32m   1665\u001B[0m \u001B[43m    \u001B[49m\u001B[43mprovider\u001B[49m\u001B[43m,\u001B[49m\n\u001B[0;32m   1666\u001B[0m \u001B[43m    \u001B[49m\u001B[43mrequested_features\u001B[49m\u001B[43m,\u001B[49m\n\u001B[0;32m   1667\u001B[0m \u001B[43m    \u001B[49m\u001B[43mtable\u001B[49m\u001B[43m,\u001B[49m\n\u001B[0;32m   1668\u001B[0m \u001B[43m\u001B[49m\u001B[43m)\u001B[49m\n\u001B[0;32m   1670\u001B[0m \u001B[38;5;66;03m# Populate the result_rows with the Features from the OnlineStore inplace.\u001B[39;00m\n\u001B[0;32m   1671\u001B[0m \u001B[38;5;28mself\u001B[39m\u001B[38;5;241m.\u001B[39m_populate_response_from_feature_data(\n\u001B[0;32m   1672\u001B[0m     feature_data,\n\u001B[0;32m   1673\u001B[0m     idxs,\n\u001B[1;32m   (...)\u001B[0m\n\u001B[0;32m   1677\u001B[0m     table,\n\u001B[0;32m   1678\u001B[0m )\n",
      "File \u001B[1;32m~\\AppData\\Local\\Programs\\Python\\Python311\\Lib\\site-packages\\feast\\feature_store.py:1942\u001B[0m, in \u001B[0;36mFeatureStore._read_from_online_store\u001B[1;34m(self, entity_rows, provider, requested_features, table)\u001B[0m\n\u001B[0;32m   1936\u001B[0m entity_key_protos \u001B[38;5;241m=\u001B[39m [\n\u001B[0;32m   1937\u001B[0m     EntityKeyProto(join_keys\u001B[38;5;241m=\u001B[39mrow\u001B[38;5;241m.\u001B[39mkeys(), entity_values\u001B[38;5;241m=\u001B[39mrow\u001B[38;5;241m.\u001B[39mvalues())\n\u001B[0;32m   1938\u001B[0m     \u001B[38;5;28;01mfor\u001B[39;00m row \u001B[38;5;129;01min\u001B[39;00m entity_rows\n\u001B[0;32m   1939\u001B[0m ]\n\u001B[0;32m   1941\u001B[0m \u001B[38;5;66;03m# Fetch data for Entities.\u001B[39;00m\n\u001B[1;32m-> 1942\u001B[0m read_rows \u001B[38;5;241m=\u001B[39m \u001B[43mprovider\u001B[49m\u001B[38;5;241;43m.\u001B[39;49m\u001B[43monline_read\u001B[49m\u001B[43m(\u001B[49m\n\u001B[0;32m   1943\u001B[0m \u001B[43m    \u001B[49m\u001B[43mconfig\u001B[49m\u001B[38;5;241;43m=\u001B[39;49m\u001B[38;5;28;43mself\u001B[39;49m\u001B[38;5;241;43m.\u001B[39;49m\u001B[43mconfig\u001B[49m\u001B[43m,\u001B[49m\n\u001B[0;32m   1944\u001B[0m \u001B[43m    \u001B[49m\u001B[43mtable\u001B[49m\u001B[38;5;241;43m=\u001B[39;49m\u001B[43mtable\u001B[49m\u001B[43m,\u001B[49m\n\u001B[0;32m   1945\u001B[0m \u001B[43m    \u001B[49m\u001B[43mentity_keys\u001B[49m\u001B[38;5;241;43m=\u001B[39;49m\u001B[43mentity_key_protos\u001B[49m\u001B[43m,\u001B[49m\n\u001B[0;32m   1946\u001B[0m \u001B[43m    \u001B[49m\u001B[43mrequested_features\u001B[49m\u001B[38;5;241;43m=\u001B[39;49m\u001B[43mrequested_features\u001B[49m\u001B[43m,\u001B[49m\n\u001B[0;32m   1947\u001B[0m \u001B[43m\u001B[49m\u001B[43m)\u001B[49m\n\u001B[0;32m   1949\u001B[0m \u001B[38;5;66;03m# Each row is a set of features for a given entity key. We only need to convert\u001B[39;00m\n\u001B[0;32m   1950\u001B[0m \u001B[38;5;66;03m# the data to Protobuf once.\u001B[39;00m\n\u001B[0;32m   1951\u001B[0m null_value \u001B[38;5;241m=\u001B[39m Value()\n",
      "File \u001B[1;32m~\\AppData\\Local\\Programs\\Python\\Python311\\Lib\\site-packages\\feast\\infra\\passthrough_provider.py:188\u001B[0m, in \u001B[0;36mPassthroughProvider.online_read\u001B[1;34m(self, config, table, entity_keys, requested_features)\u001B[0m\n\u001B[0;32m    186\u001B[0m result \u001B[38;5;241m=\u001B[39m []\n\u001B[0;32m    187\u001B[0m \u001B[38;5;28;01mif\u001B[39;00m \u001B[38;5;28mself\u001B[39m\u001B[38;5;241m.\u001B[39monline_store:\n\u001B[1;32m--> 188\u001B[0m     result \u001B[38;5;241m=\u001B[39m \u001B[38;5;28;43mself\u001B[39;49m\u001B[38;5;241;43m.\u001B[39;49m\u001B[43monline_store\u001B[49m\u001B[38;5;241;43m.\u001B[39;49m\u001B[43monline_read\u001B[49m\u001B[43m(\u001B[49m\n\u001B[0;32m    189\u001B[0m \u001B[43m        \u001B[49m\u001B[43mconfig\u001B[49m\u001B[43m,\u001B[49m\u001B[43m \u001B[49m\u001B[43mtable\u001B[49m\u001B[43m,\u001B[49m\u001B[43m \u001B[49m\u001B[43mentity_keys\u001B[49m\u001B[43m,\u001B[49m\u001B[43m \u001B[49m\u001B[43mrequested_features\u001B[49m\n\u001B[0;32m    190\u001B[0m \u001B[43m    \u001B[49m\u001B[43m)\u001B[49m\n\u001B[0;32m    191\u001B[0m \u001B[38;5;28;01mreturn\u001B[39;00m result\n",
      "File \u001B[1;32m~\\AppData\\Local\\Programs\\Python\\Python311\\Lib\\site-packages\\feast\\infra\\online_stores\\redis.py:345\u001B[0m, in \u001B[0;36mRedisOnlineStore.online_read\u001B[1;34m(self, config, table, entity_keys, requested_features)\u001B[0m\n\u001B[0;32m    343\u001B[0m         pipe\u001B[38;5;241m.\u001B[39mhmget(redis_key_bin, hset_keys)\n\u001B[0;32m    344\u001B[0m     \u001B[38;5;28;01mwith\u001B[39;00m tracing_span(name\u001B[38;5;241m=\u001B[39m\u001B[38;5;124m\"\u001B[39m\u001B[38;5;124mremote_call\u001B[39m\u001B[38;5;124m\"\u001B[39m):\n\u001B[1;32m--> 345\u001B[0m         redis_values \u001B[38;5;241m=\u001B[39m \u001B[43mpipe\u001B[49m\u001B[38;5;241;43m.\u001B[39;49m\u001B[43mexecute\u001B[49m\u001B[43m(\u001B[49m\u001B[43m)\u001B[49m\n\u001B[0;32m    346\u001B[0m \u001B[38;5;28;01mfor\u001B[39;00m values \u001B[38;5;129;01min\u001B[39;00m redis_values:\n\u001B[0;32m    347\u001B[0m     features \u001B[38;5;241m=\u001B[39m \u001B[38;5;28mself\u001B[39m\u001B[38;5;241m.\u001B[39m_get_features_for_entity(\n\u001B[0;32m    348\u001B[0m         values, feature_view, requested_features\n\u001B[0;32m    349\u001B[0m     )\n",
      "File \u001B[1;32m~\\AppData\\Local\\Programs\\Python\\Python311\\Lib\\site-packages\\redis\\client.py:2114\u001B[0m, in \u001B[0;36mPipeline.execute\u001B[1;34m(self, raise_on_error)\u001B[0m\n\u001B[0;32m   2112\u001B[0m conn \u001B[38;5;241m=\u001B[39m \u001B[38;5;28mself\u001B[39m\u001B[38;5;241m.\u001B[39mconnection\n\u001B[0;32m   2113\u001B[0m \u001B[38;5;28;01mif\u001B[39;00m \u001B[38;5;129;01mnot\u001B[39;00m conn:\n\u001B[1;32m-> 2114\u001B[0m     conn \u001B[38;5;241m=\u001B[39m \u001B[38;5;28;43mself\u001B[39;49m\u001B[38;5;241;43m.\u001B[39;49m\u001B[43mconnection_pool\u001B[49m\u001B[38;5;241;43m.\u001B[39;49m\u001B[43mget_connection\u001B[49m\u001B[43m(\u001B[49m\u001B[38;5;124;43m\"\u001B[39;49m\u001B[38;5;124;43mMULTI\u001B[39;49m\u001B[38;5;124;43m\"\u001B[39;49m\u001B[43m,\u001B[49m\u001B[43m \u001B[49m\u001B[38;5;28;43mself\u001B[39;49m\u001B[38;5;241;43m.\u001B[39;49m\u001B[43mshard_hint\u001B[49m\u001B[43m)\u001B[49m\n\u001B[0;32m   2115\u001B[0m     \u001B[38;5;66;03m# assign to self.connection so reset() releases the connection\u001B[39;00m\n\u001B[0;32m   2116\u001B[0m     \u001B[38;5;66;03m# back to the pool after we're done\u001B[39;00m\n\u001B[0;32m   2117\u001B[0m     \u001B[38;5;28mself\u001B[39m\u001B[38;5;241m.\u001B[39mconnection \u001B[38;5;241m=\u001B[39m conn\n",
      "File \u001B[1;32m~\\AppData\\Local\\Programs\\Python\\Python311\\Lib\\site-packages\\redis\\connection.py:1456\u001B[0m, in \u001B[0;36mConnectionPool.get_connection\u001B[1;34m(self, command_name, *keys, **options)\u001B[0m\n\u001B[0;32m   1454\u001B[0m         connection \u001B[38;5;241m=\u001B[39m \u001B[38;5;28mself\u001B[39m\u001B[38;5;241m.\u001B[39m_available_connections\u001B[38;5;241m.\u001B[39mpop()\n\u001B[0;32m   1455\u001B[0m     \u001B[38;5;28;01mexcept\u001B[39;00m \u001B[38;5;167;01mIndexError\u001B[39;00m:\n\u001B[1;32m-> 1456\u001B[0m         connection \u001B[38;5;241m=\u001B[39m \u001B[38;5;28;43mself\u001B[39;49m\u001B[38;5;241;43m.\u001B[39;49m\u001B[43mmake_connection\u001B[49m\u001B[43m(\u001B[49m\u001B[43m)\u001B[49m\n\u001B[0;32m   1457\u001B[0m     \u001B[38;5;28mself\u001B[39m\u001B[38;5;241m.\u001B[39m_in_use_connections\u001B[38;5;241m.\u001B[39madd(connection)\n\u001B[0;32m   1459\u001B[0m \u001B[38;5;28;01mtry\u001B[39;00m:\n\u001B[0;32m   1460\u001B[0m     \u001B[38;5;66;03m# ensure this connection is connected to Redis\u001B[39;00m\n",
      "File \u001B[1;32m~\\AppData\\Local\\Programs\\Python\\Python311\\Lib\\site-packages\\redis\\connection.py:1496\u001B[0m, in \u001B[0;36mConnectionPool.make_connection\u001B[1;34m(self)\u001B[0m\n\u001B[0;32m   1494\u001B[0m     \u001B[38;5;28;01mraise\u001B[39;00m \u001B[38;5;167;01mConnectionError\u001B[39;00m(\u001B[38;5;124m\"\u001B[39m\u001B[38;5;124mToo many connections\u001B[39m\u001B[38;5;124m\"\u001B[39m)\n\u001B[0;32m   1495\u001B[0m \u001B[38;5;28mself\u001B[39m\u001B[38;5;241m.\u001B[39m_created_connections \u001B[38;5;241m+\u001B[39m\u001B[38;5;241m=\u001B[39m \u001B[38;5;241m1\u001B[39m\n\u001B[1;32m-> 1496\u001B[0m \u001B[38;5;28;01mreturn\u001B[39;00m \u001B[38;5;28;43mself\u001B[39;49m\u001B[38;5;241;43m.\u001B[39;49m\u001B[43mconnection_class\u001B[49m\u001B[43m(\u001B[49m\u001B[38;5;241;43m*\u001B[39;49m\u001B[38;5;241;43m*\u001B[39;49m\u001B[38;5;28;43mself\u001B[39;49m\u001B[38;5;241;43m.\u001B[39;49m\u001B[43mconnection_kwargs\u001B[49m\u001B[43m)\u001B[49m\n",
      "File \u001B[1;32m~\\AppData\\Local\\Programs\\Python\\Python311\\Lib\\site-packages\\redis\\connection.py:956\u001B[0m, in \u001B[0;36mConnection.__init__\u001B[1;34m(self, host, port, socket_keepalive, socket_keepalive_options, socket_type, **kwargs)\u001B[0m\n\u001B[0;32m    946\u001B[0m \u001B[38;5;28;01mdef\u001B[39;00m \u001B[38;5;21m__init__\u001B[39m(\n\u001B[0;32m    947\u001B[0m     \u001B[38;5;28mself\u001B[39m,\n\u001B[0;32m    948\u001B[0m     host\u001B[38;5;241m=\u001B[39m\u001B[38;5;124m\"\u001B[39m\u001B[38;5;124mlocalhost\u001B[39m\u001B[38;5;124m\"\u001B[39m,\n\u001B[1;32m   (...)\u001B[0m\n\u001B[0;32m    953\u001B[0m     \u001B[38;5;241m*\u001B[39m\u001B[38;5;241m*\u001B[39mkwargs,\n\u001B[0;32m    954\u001B[0m ):\n\u001B[0;32m    955\u001B[0m     \u001B[38;5;28mself\u001B[39m\u001B[38;5;241m.\u001B[39mhost \u001B[38;5;241m=\u001B[39m host\n\u001B[1;32m--> 956\u001B[0m     \u001B[38;5;28mself\u001B[39m\u001B[38;5;241m.\u001B[39mport \u001B[38;5;241m=\u001B[39m \u001B[38;5;28;43mint\u001B[39;49m\u001B[43m(\u001B[49m\u001B[43mport\u001B[49m\u001B[43m)\u001B[49m\n\u001B[0;32m    957\u001B[0m     \u001B[38;5;28mself\u001B[39m\u001B[38;5;241m.\u001B[39msocket_keepalive \u001B[38;5;241m=\u001B[39m socket_keepalive\n\u001B[0;32m    958\u001B[0m     \u001B[38;5;28mself\u001B[39m\u001B[38;5;241m.\u001B[39msocket_keepalive_options \u001B[38;5;241m=\u001B[39m socket_keepalive_options \u001B[38;5;129;01mor\u001B[39;00m {}\n",
      "\u001B[1;31mValueError\u001B[0m: invalid literal for int() with base 10: '//localhost'"
     ]
    }
   ],
   "source": [
    "# Getting the latest features - we request the features data for two rows, 1085 (daily hours) and 1 (night hours)\n",
    "features = store.get_online_features(\n",
    "    features=feature_service,\n",
    "    entity_rows=[{\"USER_ID\": 1}, {\"USER_ID\": 1085}]\n",
    ").to_dict()\n",
    "# get_online_features returns an OnlineResponse object - use to_dict to convert the feature values to a Python dictionary"
   ]
  },
  {
   "cell_type": "code",
   "execution_count": 5,
   "metadata": {
    "collapsed": false
   },
   "outputs": [
    {
     "data": {
      "text/plain": "   USER_ID  Gender  Age  CreditScore  EstimatedSalary  Tenure  Balance  \\\n0        1       0   42          619        101348.88       2      0.0   \n1     1085       1   24          796         61349.37       8      0.0   \n\n   HasCrCard  IsActiveMember  NumOfProducts  Geography_Spain  \\\n0          1               1              1            False   \n1          1               0              2            False   \n\n   Geography_Germany  Geography_France  \n0              False              True  \n1              False              True  ",
      "text/html": "<div>\n<style scoped>\n    .dataframe tbody tr th:only-of-type {\n        vertical-align: middle;\n    }\n\n    .dataframe tbody tr th {\n        vertical-align: top;\n    }\n\n    .dataframe thead th {\n        text-align: right;\n    }\n</style>\n<table border=\"1\" class=\"dataframe\">\n  <thead>\n    <tr style=\"text-align: right;\">\n      <th></th>\n      <th>USER_ID</th>\n      <th>Gender</th>\n      <th>Age</th>\n      <th>CreditScore</th>\n      <th>EstimatedSalary</th>\n      <th>Tenure</th>\n      <th>Balance</th>\n      <th>HasCrCard</th>\n      <th>IsActiveMember</th>\n      <th>NumOfProducts</th>\n      <th>Geography_Spain</th>\n      <th>Geography_Germany</th>\n      <th>Geography_France</th>\n    </tr>\n  </thead>\n  <tbody>\n    <tr>\n      <th>0</th>\n      <td>1</td>\n      <td>0</td>\n      <td>42</td>\n      <td>619</td>\n      <td>101348.88</td>\n      <td>2</td>\n      <td>0.0</td>\n      <td>1</td>\n      <td>1</td>\n      <td>1</td>\n      <td>False</td>\n      <td>False</td>\n      <td>True</td>\n    </tr>\n    <tr>\n      <th>1</th>\n      <td>1085</td>\n      <td>1</td>\n      <td>24</td>\n      <td>796</td>\n      <td>61349.37</td>\n      <td>8</td>\n      <td>0.0</td>\n      <td>1</td>\n      <td>0</td>\n      <td>2</td>\n      <td>False</td>\n      <td>False</td>\n      <td>True</td>\n    </tr>\n  </tbody>\n</table>\n</div>"
     },
     "execution_count": 5,
     "metadata": {},
     "output_type": "execute_result"
    }
   ],
   "source": [
    "# Converting the features to a DataFrame\n",
    "features_df = pd.DataFrame.from_dict(data=features)\n",
    "features_df.head()"
   ]
  },
  {
   "cell_type": "code",
   "execution_count": 6,
   "metadata": {
    "collapsed": false
   },
   "outputs": [],
   "source": [
    "# Carica il modello salvato\n",
    "regression = load(r\"models/logistic_regression.joblib\")"
   ]
  },
  {
   "cell_type": "code",
   "execution_count": null,
   "outputs": [],
   "source": [
    "features_df.drop('USER_ID', axis=1)\n",
    "features_df = features_df[sorted(features_df.columns)]"
   ],
   "metadata": {
    "collapsed": false
   }
  },
  {
   "cell_type": "code",
   "execution_count": 7,
   "outputs": [
    {
     "data": {
      "text/plain": "Index(['Gender', 'Tenure', 'Geography_Spain', 'IsActiveMember', 'Age',\n       'CreditScore', 'Balance', 'EstimatedSalary', 'NumOfProducts',\n       'Geography_France', 'Geography_Germany', 'HasCrCard'],\n      dtype='object')"
     },
     "execution_count": 7,
     "metadata": {},
     "output_type": "execute_result"
    }
   ],
   "source": [
    "#columns_order = load(r'data/columns_order.joblib')\n",
    "#columns_order"
   ],
   "metadata": {
    "collapsed": false
   }
  },
  {
   "cell_type": "code",
   "execution_count": 8,
   "metadata": {
    "collapsed": false
   },
   "outputs": [],
   "source": [
    "# Rimuovi la colonna \"USER_ID\" e riordina le colonne secondo \"columns_order\"\n",
    "#features_df.drop('USER_ID', axis=1)\n",
    "#features_df = features_df[columns_order]"
   ]
  },
  {
   "cell_type": "code",
   "execution_count": 9,
   "metadata": {
    "collapsed": false
   },
   "outputs": [
    {
     "data": {
      "text/plain": "Gender               0\nTenure               0\nGeography_Spain      0\nIsActiveMember       0\nAge                  0\nCreditScore          0\nBalance              0\nEstimatedSalary      0\nNumOfProducts        0\nGeography_France     0\nGeography_Germany    0\nHasCrCard            0\ndtype: int64"
     },
     "execution_count": 9,
     "metadata": {},
     "output_type": "execute_result"
    }
   ],
   "source": [
    "# Verifica dei valori nulli\n",
    "null_counts = features_df.isnull().sum()\n",
    "null_counts"
   ]
  },
  {
   "cell_type": "code",
   "execution_count": 10,
   "metadata": {
    "collapsed": false
   },
   "outputs": [
    {
     "data": {
      "text/plain": "array([0, 0], dtype=int64)"
     },
     "execution_count": 10,
     "metadata": {},
     "output_type": "execute_result"
    }
   ],
   "source": [
    "# Fai le predizioni utilizzando il modello caricato\n",
    "predictions = regression.predict(features_df)\n",
    "\n",
    "# Stampa o ritorna le predizioni\n",
    "predictions"
   ]
  },
  {
   "cell_type": "code",
   "execution_count": 11,
   "metadata": {},
   "outputs": [
    {
     "data": {
      "text/plain": "array([1, 0], dtype=int64)"
     },
     "execution_count": 11,
     "metadata": {},
     "output_type": "execute_result"
    }
   ],
   "source": [
    "# Carica il modello salvato\n",
    "forest = load(r\"models/random_forest_model.joblib\")\n",
    "\n",
    "# Fai le predizioni utilizzando il modello caricato\n",
    "predictions = forest.predict(features_df)\n",
    "\n",
    "# Stampa o ritorna le predizioni\n",
    "predictions"
   ]
  }
 ],
 "metadata": {
  "kernelspec": {
   "display_name": "Python 3",
   "language": "python",
   "name": "python3"
  },
  "language_info": {
   "codemirror_mode": {
    "name": "ipython",
    "version": 3
   },
   "file_extension": ".py",
   "mimetype": "text/x-python",
   "name": "python",
   "nbconvert_exporter": "python",
   "pygments_lexer": "ipython3",
   "version": "3.11.9"
  }
 },
 "nbformat": 4,
 "nbformat_minor": 2
}
