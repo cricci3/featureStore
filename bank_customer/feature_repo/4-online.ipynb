{
 "cells": [
  {
   "cell_type": "code",
   "execution_count": null,
   "outputs": [],
   "source": [],
   "metadata": {
    "collapsed": false
   }
  },
  {
   "cell_type": "code",
   "execution_count": 1,
   "metadata": {},
   "outputs": [],
   "source": [
    "from feast import FeatureStore\n",
    "import pandas as pd\n",
    "from joblib import load"
   ]
  },
  {
   "cell_type": "code",
   "execution_count": 2,
   "metadata": {
    "collapsed": false
   },
   "outputs": [],
   "source": [
    "# Getting our FeatureStore\n",
    "store = FeatureStore(repo_path=\".\")"
   ]
  },
  {
   "cell_type": "code",
   "execution_count": 3,
   "metadata": {},
   "outputs": [],
   "source": [
    "feature_service = store.get_feature_service(\"user_activity\")"
   ]
  },
  {
   "cell_type": "code",
   "execution_count": 4,
   "metadata": {
    "collapsed": false
   },
   "outputs": [],
   "source": [
    "# Getting the latest features - we request the features data for two rows, 1085 (daily hours) and 1 (night hours)\n",
    "features = store.get_online_features(\n",
    "    features=feature_service,\n",
    "    entity_rows=[{\"USER_ID\": 1}, {\"USER_ID\": 1085}]\n",
    ").to_dict()\n",
    "# get_online_features returns an OnlineResponse object - use to_dict to convert the feature values to a Python dictionary"
   ]
  },
  {
   "cell_type": "code",
   "execution_count": 5,
   "metadata": {
    "collapsed": false
   },
   "outputs": [
    {
     "data": {
      "text/plain": "   USER_ID  Gender  Age  CreditScore  EstimatedSalary  Tenure  Balance  \\\n0        1       0   42          619        101348.88       2      0.0   \n1     1085       1   24          796         61349.37       8      0.0   \n\n   HasCrCard  IsActiveMember  NumOfProducts  Geography_Spain  \\\n0          1               1              1            False   \n1          1               0              2            False   \n\n   Geography_Germany  Geography_France  \n0              False              True  \n1              False              True  ",
      "text/html": "<div>\n<style scoped>\n    .dataframe tbody tr th:only-of-type {\n        vertical-align: middle;\n    }\n\n    .dataframe tbody tr th {\n        vertical-align: top;\n    }\n\n    .dataframe thead th {\n        text-align: right;\n    }\n</style>\n<table border=\"1\" class=\"dataframe\">\n  <thead>\n    <tr style=\"text-align: right;\">\n      <th></th>\n      <th>USER_ID</th>\n      <th>Gender</th>\n      <th>Age</th>\n      <th>CreditScore</th>\n      <th>EstimatedSalary</th>\n      <th>Tenure</th>\n      <th>Balance</th>\n      <th>HasCrCard</th>\n      <th>IsActiveMember</th>\n      <th>NumOfProducts</th>\n      <th>Geography_Spain</th>\n      <th>Geography_Germany</th>\n      <th>Geography_France</th>\n    </tr>\n  </thead>\n  <tbody>\n    <tr>\n      <th>0</th>\n      <td>1</td>\n      <td>0</td>\n      <td>42</td>\n      <td>619</td>\n      <td>101348.88</td>\n      <td>2</td>\n      <td>0.0</td>\n      <td>1</td>\n      <td>1</td>\n      <td>1</td>\n      <td>False</td>\n      <td>False</td>\n      <td>True</td>\n    </tr>\n    <tr>\n      <th>1</th>\n      <td>1085</td>\n      <td>1</td>\n      <td>24</td>\n      <td>796</td>\n      <td>61349.37</td>\n      <td>8</td>\n      <td>0.0</td>\n      <td>1</td>\n      <td>0</td>\n      <td>2</td>\n      <td>False</td>\n      <td>False</td>\n      <td>True</td>\n    </tr>\n  </tbody>\n</table>\n</div>"
     },
     "execution_count": 5,
     "metadata": {},
     "output_type": "execute_result"
    }
   ],
   "source": [
    "# Converting the features to a DataFrame\n",
    "features_df = pd.DataFrame.from_dict(data=features)\n",
    "\n",
    "features_df.head()"
   ]
  },
  {
   "cell_type": "code",
   "execution_count": 6,
   "metadata": {
    "collapsed": false
   },
   "outputs": [],
   "source": [
    "# Carica il modello salvato\n",
    "regression = load(r\"models/logistic_regression.joblib\")"
   ]
  },
  {
   "cell_type": "code",
   "execution_count": 7,
   "metadata": {
    "collapsed": false
   },
   "outputs": [
    {
     "data": {
      "text/plain": "Index(['Gender', 'Tenure', 'Geography_Spain', 'IsActiveMember', 'Age',\n       'CreditScore', 'Balance', 'EstimatedSalary', 'NumOfProducts',\n       'Geography_France', 'Geography_Germany', 'HasCrCard'],\n      dtype='object')"
     },
     "execution_count": 7,
     "metadata": {},
     "output_type": "execute_result"
    }
   ],
   "source": [
    "columns_order = load(r'data/columns_order.joblib')\n",
    "columns_order"
   ]
  },
  {
   "cell_type": "code",
   "execution_count": 8,
   "metadata": {
    "collapsed": false
   },
   "outputs": [],
   "source": [
    "# Rimuovi la colonna \"USER_ID\" e riordina le colonne secondo \"columns_order\"\n",
    "features_df.drop('USER_ID', axis=1)\n",
    "features_df = features_df[columns_order]"
   ]
  },
  {
   "cell_type": "code",
   "execution_count": 9,
   "metadata": {
    "collapsed": false
   },
   "outputs": [
    {
     "data": {
      "text/plain": "Gender               0\nTenure               0\nGeography_Spain      0\nIsActiveMember       0\nAge                  0\nCreditScore          0\nBalance              0\nEstimatedSalary      0\nNumOfProducts        0\nGeography_France     0\nGeography_Germany    0\nHasCrCard            0\ndtype: int64"
     },
     "execution_count": 9,
     "metadata": {},
     "output_type": "execute_result"
    }
   ],
   "source": [
    "# Verifica dei valori nulli\n",
    "null_counts = features_df.isnull().sum()\n",
    "null_counts"
   ]
  },
  {
   "cell_type": "code",
   "execution_count": 10,
   "metadata": {
    "collapsed": false
   },
   "outputs": [
    {
     "data": {
      "text/plain": "array([0, 0], dtype=int64)"
     },
     "execution_count": 10,
     "metadata": {},
     "output_type": "execute_result"
    }
   ],
   "source": [
    "# Fai le predizioni utilizzando il modello caricato\n",
    "predictions = regression.predict(features_df)\n",
    "\n",
    "# Stampa o ritorna le predizioni\n",
    "predictions"
   ]
  },
  {
   "cell_type": "code",
   "execution_count": 11,
   "metadata": {},
   "outputs": [
    {
     "data": {
      "text/plain": "array([1, 0], dtype=int64)"
     },
     "execution_count": 11,
     "metadata": {},
     "output_type": "execute_result"
    }
   ],
   "source": [
    "# Carica il modello salvato\n",
    "forest = load(r\"models/random_forest_model.joblib\")\n",
    "\n",
    "# Fai le predizioni utilizzando il modello caricato\n",
    "predictions = forest.predict(features_df)\n",
    "\n",
    "# Stampa o ritorna le predizioni\n",
    "predictions"
   ]
  }
 ],
 "metadata": {
  "kernelspec": {
   "display_name": "Python 3",
   "language": "python",
   "name": "python3"
  },
  "language_info": {
   "codemirror_mode": {
    "name": "ipython",
    "version": 3
   },
   "file_extension": ".py",
   "mimetype": "text/x-python",
   "name": "python",
   "nbconvert_exporter": "python",
   "pygments_lexer": "ipython3",
   "version": "3.11.9"
  }
 },
 "nbformat": 4,
 "nbformat_minor": 2
}
