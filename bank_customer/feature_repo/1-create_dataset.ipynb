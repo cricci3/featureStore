{
 "cells": [
  {
   "cell_type": "code",
   "execution_count": 4,
   "metadata": {
    "collapsed": true
   },
   "outputs": [],
   "source": [
    "import pandas as pd\n",
    "from feast import FeatureStore\n",
    "from feast.infra.offline_stores.file_source import SavedDatasetFileStorage"
   ]
  },
  {
   "cell_type": "code",
   "execution_count": 5,
   "metadata": {
    "collapsed": false
   },
   "outputs": [],
   "source": [
    "# Getting the FS\n",
    "store = FeatureStore(repo_path=\".\")"
   ]
  },
  {
   "cell_type": "code",
   "execution_count": 6,
   "metadata": {
    "collapsed": false
   },
   "outputs": [],
   "source": [
    "# Reading the target as an entity DataFrame\n",
    "entity_df = pd.read_parquet(path=r\"data/target_df.parquet\")\n",
    "feature_service = store.get_feature_service(\"user_activity\")\n",
    "training_data = store.get_historical_features(\n",
    "    entity_df=entity_df,\n",
    "    features=feature_service\n",
    ")"
   ]
  },
  {
   "cell_type": "code",
   "execution_count": 7,
   "metadata": {
    "collapsed": false
   },
   "outputs": [
    {
     "name": "stderr",
     "output_type": "stream",
     "text": [
      "C:\\Users\\claud\\AppData\\Local\\Programs\\Python\\Python311\\Lib\\site-packages\\feast\\feature_store.py:1125: RuntimeWarning: Saving dataset is an experimental feature. This API is unstable and it could and most probably will be changed in the future. We do not guarantee that future changes will maintain backward compatibility.\n",
      "  warnings.warn(\n"
     ]
    }
   ],
   "source": [
    "# Storing the dataset as a local file\n",
    "dataset = store.create_saved_dataset(\n",
    "    from_=training_data,\n",
    "    name=\"churn_dataset\",\n",
    "    storage=SavedDatasetFileStorage(r\"data/churn_dataset.parquet\")\n",
    ")"
   ]
  },
  {
   "cell_type": "code",
   "execution_count": 8,
   "metadata": {
    "collapsed": false
   },
   "outputs": [
    {
     "data": {
      "text/plain": "   Tenure    Balance  USER_ID  Age  NumOfProducts  Exited  \\\n0       7       0.00     7670   38              2       0   \n1       7   95984.21     9729   43              1       1   \n2       1  160541.00     5378   72              2       0   \n3       5  108891.70     7693   74              1       0   \n4       5   83348.89     6496   39              3       1   \n\n            event_timestamp  Geography_Germany  Geography_Spain  \\\n0 2023-01-01 00:00:00+00:00              False             True   \n1 2023-01-01 00:00:00+00:00               True            False   \n2 2023-01-01 00:00:00+00:00              False            False   \n3 2023-01-01 00:00:00+00:00               True            False   \n4 2023-01-01 00:00:00+00:00               True            False   \n\n   EstimatedSalary  CreditScore  IsActiveMember  Gender  Geography_France  \\\n0        181605.85          631               0       1             False   \n1        115262.54          616               1       0             False   \n2        142223.94          642               1       1              True   \n3         10078.02          634               0       1             False   \n4          7953.62          617               0       0             False   \n\n   HasCrCard  \n0          1  \n1          0  \n2          1  \n3          1  \n4          1  ",
      "text/html": "<div>\n<style scoped>\n    .dataframe tbody tr th:only-of-type {\n        vertical-align: middle;\n    }\n\n    .dataframe tbody tr th {\n        vertical-align: top;\n    }\n\n    .dataframe thead th {\n        text-align: right;\n    }\n</style>\n<table border=\"1\" class=\"dataframe\">\n  <thead>\n    <tr style=\"text-align: right;\">\n      <th></th>\n      <th>Tenure</th>\n      <th>Balance</th>\n      <th>USER_ID</th>\n      <th>Age</th>\n      <th>NumOfProducts</th>\n      <th>Exited</th>\n      <th>event_timestamp</th>\n      <th>Geography_Germany</th>\n      <th>Geography_Spain</th>\n      <th>EstimatedSalary</th>\n      <th>CreditScore</th>\n      <th>IsActiveMember</th>\n      <th>Gender</th>\n      <th>Geography_France</th>\n      <th>HasCrCard</th>\n    </tr>\n  </thead>\n  <tbody>\n    <tr>\n      <th>0</th>\n      <td>7</td>\n      <td>0.00</td>\n      <td>7670</td>\n      <td>38</td>\n      <td>2</td>\n      <td>0</td>\n      <td>2023-01-01 00:00:00+00:00</td>\n      <td>False</td>\n      <td>True</td>\n      <td>181605.85</td>\n      <td>631</td>\n      <td>0</td>\n      <td>1</td>\n      <td>False</td>\n      <td>1</td>\n    </tr>\n    <tr>\n      <th>1</th>\n      <td>7</td>\n      <td>95984.21</td>\n      <td>9729</td>\n      <td>43</td>\n      <td>1</td>\n      <td>1</td>\n      <td>2023-01-01 00:00:00+00:00</td>\n      <td>True</td>\n      <td>False</td>\n      <td>115262.54</td>\n      <td>616</td>\n      <td>1</td>\n      <td>0</td>\n      <td>False</td>\n      <td>0</td>\n    </tr>\n    <tr>\n      <th>2</th>\n      <td>1</td>\n      <td>160541.00</td>\n      <td>5378</td>\n      <td>72</td>\n      <td>2</td>\n      <td>0</td>\n      <td>2023-01-01 00:00:00+00:00</td>\n      <td>False</td>\n      <td>False</td>\n      <td>142223.94</td>\n      <td>642</td>\n      <td>1</td>\n      <td>1</td>\n      <td>True</td>\n      <td>1</td>\n    </tr>\n    <tr>\n      <th>3</th>\n      <td>5</td>\n      <td>108891.70</td>\n      <td>7693</td>\n      <td>74</td>\n      <td>1</td>\n      <td>0</td>\n      <td>2023-01-01 00:00:00+00:00</td>\n      <td>True</td>\n      <td>False</td>\n      <td>10078.02</td>\n      <td>634</td>\n      <td>0</td>\n      <td>1</td>\n      <td>False</td>\n      <td>1</td>\n    </tr>\n    <tr>\n      <th>4</th>\n      <td>5</td>\n      <td>83348.89</td>\n      <td>6496</td>\n      <td>39</td>\n      <td>3</td>\n      <td>1</td>\n      <td>2023-01-01 00:00:00+00:00</td>\n      <td>True</td>\n      <td>False</td>\n      <td>7953.62</td>\n      <td>617</td>\n      <td>0</td>\n      <td>0</td>\n      <td>False</td>\n      <td>1</td>\n    </tr>\n  </tbody>\n</table>\n</div>"
     },
     "execution_count": 8,
     "metadata": {},
     "output_type": "execute_result"
    }
   ],
   "source": [
    "dataset.to_df().head()"
   ]
  },
  {
   "cell_type": "code",
   "execution_count": 9,
   "metadata": {
    "collapsed": false
   },
   "outputs": [
    {
     "data": {
      "text/plain": "Tenure                             int64\nBalance                          float64\nUSER_ID                            int64\nAge                                int64\nNumOfProducts                      int64\nExited                             int64\nevent_timestamp      datetime64[ns, UTC]\nGeography_Germany                   bool\nGeography_Spain                     bool\nEstimatedSalary                  float64\nCreditScore                        int64\nIsActiveMember                     int64\nGender                             int64\nGeography_France                    bool\nHasCrCard                          int64\ndtype: object"
     },
     "execution_count": 9,
     "metadata": {},
     "output_type": "execute_result"
    }
   ],
   "source": [
    "dataset.to_df().dtypes"
   ]
  },
  {
   "cell_type": "markdown",
   "metadata": {
    "collapsed": false
   },
   "source": [
    "### Data visualization"
   ]
  },
  {
   "cell_type": "code",
   "execution_count": 10,
   "metadata": {
    "collapsed": false
   },
   "outputs": [
    {
     "data": {
      "text/plain": "Tenure               0\nBalance              0\nUSER_ID              0\nAge                  0\nNumOfProducts        0\nExited               0\nevent_timestamp      0\nGeography_Germany    0\nGeography_Spain      0\nEstimatedSalary      0\nCreditScore          0\nIsActiveMember       0\nGender               0\nGeography_France     0\nHasCrCard            0\ndtype: int64"
     },
     "execution_count": 10,
     "metadata": {},
     "output_type": "execute_result"
    }
   ],
   "source": [
    "# Verifica dei valori nulli\n",
    "null_counts = dataset.to_df().isnull().sum()\n",
    "null_counts"
   ]
  }
 ],
 "metadata": {
  "kernelspec": {
   "display_name": "Python 3",
   "language": "python",
   "name": "python3"
  },
  "language_info": {
   "codemirror_mode": {
    "name": "ipython",
    "version": 3
   },
   "file_extension": ".py",
   "mimetype": "text/x-python",
   "name": "python",
   "nbconvert_exporter": "python",
   "pygments_lexer": "ipython3",
   "version": "3.11.9"
  }
 },
 "nbformat": 4,
 "nbformat_minor": 0
}
