{
 "cells": [
  {
   "cell_type": "code",
   "execution_count": 2,
   "metadata": {
    "collapsed": true
   },
   "outputs": [],
   "source": [
    "import pandas as pd\n",
    "from feast import FeatureStore\n",
    "from feast.infra.offline_stores.file_source import SavedDatasetFileStorage"
   ]
  },
  {
   "cell_type": "code",
   "execution_count": 3,
   "metadata": {
    "collapsed": false
   },
   "outputs": [],
   "source": [
    "# Getting the FS\n",
    "store = FeatureStore(repo_path=\".\")"
   ]
  },
  {
   "cell_type": "code",
   "execution_count": 6,
   "outputs": [
    {
     "data": {
      "text/plain": "<FeatureView(name = df1_feature_view, entities = ['USER_ID'], ttl = 2000 days, 0:00:00, stream_source = None, batch_source = {\n  \"type\": \"BATCH_FILE\",\n  \"timestampField\": \"event_timestamp\",\n  \"fileOptions\": {\n    \"uri\": \"data/data_df1.parquet\"\n  },\n  \"name\": \"data/data_df1.parquet\"\n}, entity_columns = [USER_ID-Int64], features = [Gender-Int64, Age-Int64], description = , tags = {}, owner = , projection = FeatureViewProjection(name='df1_feature_view', name_alias=None, desired_features=[], features=[Gender-Int64, Age-Int64], join_key_map={}), created_timestamp = 2024-05-29 15:31:00.582040, last_updated_timestamp = 2024-05-29 15:31:00.582040, online = True, materialization_intervals = [])>"
     },
     "execution_count": 6,
     "metadata": {},
     "output_type": "execute_result"
    }
   ],
   "source": [
    "fs = FeatureStore(\"./\")\n",
    "fs.get_feature_view(\"df1_feature_view\")"
   ],
   "metadata": {
    "collapsed": false
   }
  },
  {
   "cell_type": "code",
   "execution_count": 3,
   "metadata": {
    "collapsed": false
   },
   "outputs": [],
   "source": [
    "# Reading the target as an entity DataFrame\n",
    "entity_df = pd.read_parquet(path=r\"data/target_df.parquet\")\n",
    "feature_service = store.get_feature_service(\"user_activity\")\n",
    "training_data = store.get_historical_features(\n",
    "    entity_df=entity_df,\n",
    "    features=feature_service\n",
    ")"
   ]
  },
  {
   "cell_type": "code",
   "execution_count": 4,
   "metadata": {
    "collapsed": false
   },
   "outputs": [
    {
     "name": "stderr",
     "output_type": "stream",
     "text": [
      "C:\\Users\\claud\\AppData\\Local\\Programs\\Python\\Python311\\Lib\\site-packages\\feast\\feature_store.py:1125: RuntimeWarning: Saving dataset is an experimental feature. This API is unstable and it could and most probably will be changed in the future. We do not guarantee that future changes will maintain backward compatibility.\n",
      "  warnings.warn(\n"
     ]
    }
   ],
   "source": [
    "# Storing the dataset as a local file\n",
    "dataset = store.create_saved_dataset(\n",
    "    from_=training_data,\n",
    "    name=\"churn_dataset\",\n",
    "    storage=SavedDatasetFileStorage(r\"data/churn_dataset.parquet\")\n",
    ")"
   ]
  },
  {
   "cell_type": "code",
   "execution_count": 5,
   "metadata": {
    "collapsed": false
   },
   "outputs": [
    {
     "data": {
      "text/plain": "   NumOfProducts           event_timestamp  HasCrCard  Exited  Age    Balance  \\\n0              1 2023-01-01 00:00:00+00:00          0       0   55   81370.07   \n1              2 2023-01-01 00:00:00+00:00          0       0   23       0.00   \n2              1 2023-01-01 00:00:00+00:00          1       1   49  173434.90   \n3              2 2023-01-01 00:00:00+00:00          1       0   32       0.00   \n4              2 2023-01-01 00:00:00+00:00          1       0   31       0.00   \n\n   Geography_Spain  CreditScore  Geography_France  EstimatedSalary  Gender  \\\n0             True          648             False        181534.04       1   \n1            False          669              True         66088.83       1   \n2            False          625              True        165580.93       1   \n3            False          715              True         60907.49       0   \n4            False          838              True          8222.96       1   \n\n   Geography_Germany  IsActiveMember  Tenure  USER_ID  \n0              False               1       1     3145  \n1              False               0       1      723  \n2              False               0       6     1021  \n3              False               0      10     8860  \n4              False               0       2     9836  ",
      "text/html": "<div>\n<style scoped>\n    .dataframe tbody tr th:only-of-type {\n        vertical-align: middle;\n    }\n\n    .dataframe tbody tr th {\n        vertical-align: top;\n    }\n\n    .dataframe thead th {\n        text-align: right;\n    }\n</style>\n<table border=\"1\" class=\"dataframe\">\n  <thead>\n    <tr style=\"text-align: right;\">\n      <th></th>\n      <th>NumOfProducts</th>\n      <th>event_timestamp</th>\n      <th>HasCrCard</th>\n      <th>Exited</th>\n      <th>Age</th>\n      <th>Balance</th>\n      <th>Geography_Spain</th>\n      <th>CreditScore</th>\n      <th>Geography_France</th>\n      <th>EstimatedSalary</th>\n      <th>Gender</th>\n      <th>Geography_Germany</th>\n      <th>IsActiveMember</th>\n      <th>Tenure</th>\n      <th>USER_ID</th>\n    </tr>\n  </thead>\n  <tbody>\n    <tr>\n      <th>0</th>\n      <td>1</td>\n      <td>2023-01-01 00:00:00+00:00</td>\n      <td>0</td>\n      <td>0</td>\n      <td>55</td>\n      <td>81370.07</td>\n      <td>True</td>\n      <td>648</td>\n      <td>False</td>\n      <td>181534.04</td>\n      <td>1</td>\n      <td>False</td>\n      <td>1</td>\n      <td>1</td>\n      <td>3145</td>\n    </tr>\n    <tr>\n      <th>1</th>\n      <td>2</td>\n      <td>2023-01-01 00:00:00+00:00</td>\n      <td>0</td>\n      <td>0</td>\n      <td>23</td>\n      <td>0.00</td>\n      <td>False</td>\n      <td>669</td>\n      <td>True</td>\n      <td>66088.83</td>\n      <td>1</td>\n      <td>False</td>\n      <td>0</td>\n      <td>1</td>\n      <td>723</td>\n    </tr>\n    <tr>\n      <th>2</th>\n      <td>1</td>\n      <td>2023-01-01 00:00:00+00:00</td>\n      <td>1</td>\n      <td>1</td>\n      <td>49</td>\n      <td>173434.90</td>\n      <td>False</td>\n      <td>625</td>\n      <td>True</td>\n      <td>165580.93</td>\n      <td>1</td>\n      <td>False</td>\n      <td>0</td>\n      <td>6</td>\n      <td>1021</td>\n    </tr>\n    <tr>\n      <th>3</th>\n      <td>2</td>\n      <td>2023-01-01 00:00:00+00:00</td>\n      <td>1</td>\n      <td>0</td>\n      <td>32</td>\n      <td>0.00</td>\n      <td>False</td>\n      <td>715</td>\n      <td>True</td>\n      <td>60907.49</td>\n      <td>0</td>\n      <td>False</td>\n      <td>0</td>\n      <td>10</td>\n      <td>8860</td>\n    </tr>\n    <tr>\n      <th>4</th>\n      <td>2</td>\n      <td>2023-01-01 00:00:00+00:00</td>\n      <td>1</td>\n      <td>0</td>\n      <td>31</td>\n      <td>0.00</td>\n      <td>False</td>\n      <td>838</td>\n      <td>True</td>\n      <td>8222.96</td>\n      <td>1</td>\n      <td>False</td>\n      <td>0</td>\n      <td>2</td>\n      <td>9836</td>\n    </tr>\n  </tbody>\n</table>\n</div>"
     },
     "execution_count": 5,
     "metadata": {},
     "output_type": "execute_result"
    }
   ],
   "source": [
    "dataset.to_df().head()"
   ]
  },
  {
   "cell_type": "code",
   "execution_count": 6,
   "metadata": {
    "collapsed": false
   },
   "outputs": [
    {
     "data": {
      "text/plain": "NumOfProducts                      int64\nevent_timestamp      datetime64[ns, UTC]\nHasCrCard                          int64\nExited                             int64\nAge                                int64\nBalance                          float64\nGeography_Spain                     bool\nCreditScore                        int64\nGeography_France                    bool\nEstimatedSalary                  float64\nGender                             int64\nGeography_Germany                   bool\nIsActiveMember                     int64\nTenure                             int64\nUSER_ID                            int64\ndtype: object"
     },
     "execution_count": 6,
     "metadata": {},
     "output_type": "execute_result"
    }
   ],
   "source": [
    "dataset.to_df().dtypes"
   ]
  },
  {
   "cell_type": "code",
   "execution_count": 7,
   "metadata": {
    "collapsed": false
   },
   "outputs": [
    {
     "data": {
      "text/plain": "NumOfProducts        0\nevent_timestamp      0\nHasCrCard            0\nExited               0\nAge                  0\nBalance              0\nGeography_Spain      0\nCreditScore          0\nGeography_France     0\nEstimatedSalary      0\nGender               0\nGeography_Germany    0\nIsActiveMember       0\nTenure               0\nUSER_ID              0\ndtype: int64"
     },
     "execution_count": 7,
     "metadata": {},
     "output_type": "execute_result"
    }
   ],
   "source": [
    "# Verifica dei valori nulli\n",
    "null_counts = dataset.to_df().isnull().sum()\n",
    "null_counts"
   ]
  },
  {
   "cell_type": "code",
   "execution_count": 8,
   "outputs": [
    {
     "data": {
      "text/plain": "      NumOfProducts           event_timestamp  HasCrCard  Exited  Age  \\\n9995              2 2023-12-31 00:00:00+00:00          1       0   33   \n9996              1 2023-12-31 00:00:00+00:00          1       0   64   \n9997              2 2023-12-31 00:00:00+00:00          1       0   40   \n9998              1 2023-12-31 00:00:00+00:00          0       1   50   \n9999              1 2023-12-31 00:00:00+00:00          1       0   33   \n\n        Balance  Geography_Spain  CreditScore  Geography_France  \\\n9995       0.00            False          630              True   \n9996   62979.93             True          598             False   \n9997       0.00            False          651              True   \n9998   81947.76            False          630              True   \n9999  164385.53            False          845              True   \n\n      EstimatedSalary  Gender  Geography_Germany  IsActiveMember  Tenure  \\\n9995         64804.59       1              False               0       9   \n9996        152273.57       0              False               1       1   \n9997        147715.83       1              False               1       4   \n9998         63606.22       1              False               1       1   \n9999        150664.97       1              False               0       8   \n\n      USER_ID  \n9995     5679  \n9996     7710  \n9997     1094  \n9998     1501  \n9999     2193  ",
      "text/html": "<div>\n<style scoped>\n    .dataframe tbody tr th:only-of-type {\n        vertical-align: middle;\n    }\n\n    .dataframe tbody tr th {\n        vertical-align: top;\n    }\n\n    .dataframe thead th {\n        text-align: right;\n    }\n</style>\n<table border=\"1\" class=\"dataframe\">\n  <thead>\n    <tr style=\"text-align: right;\">\n      <th></th>\n      <th>NumOfProducts</th>\n      <th>event_timestamp</th>\n      <th>HasCrCard</th>\n      <th>Exited</th>\n      <th>Age</th>\n      <th>Balance</th>\n      <th>Geography_Spain</th>\n      <th>CreditScore</th>\n      <th>Geography_France</th>\n      <th>EstimatedSalary</th>\n      <th>Gender</th>\n      <th>Geography_Germany</th>\n      <th>IsActiveMember</th>\n      <th>Tenure</th>\n      <th>USER_ID</th>\n    </tr>\n  </thead>\n  <tbody>\n    <tr>\n      <th>9995</th>\n      <td>2</td>\n      <td>2023-12-31 00:00:00+00:00</td>\n      <td>1</td>\n      <td>0</td>\n      <td>33</td>\n      <td>0.00</td>\n      <td>False</td>\n      <td>630</td>\n      <td>True</td>\n      <td>64804.59</td>\n      <td>1</td>\n      <td>False</td>\n      <td>0</td>\n      <td>9</td>\n      <td>5679</td>\n    </tr>\n    <tr>\n      <th>9996</th>\n      <td>1</td>\n      <td>2023-12-31 00:00:00+00:00</td>\n      <td>1</td>\n      <td>0</td>\n      <td>64</td>\n      <td>62979.93</td>\n      <td>True</td>\n      <td>598</td>\n      <td>False</td>\n      <td>152273.57</td>\n      <td>0</td>\n      <td>False</td>\n      <td>1</td>\n      <td>1</td>\n      <td>7710</td>\n    </tr>\n    <tr>\n      <th>9997</th>\n      <td>2</td>\n      <td>2023-12-31 00:00:00+00:00</td>\n      <td>1</td>\n      <td>0</td>\n      <td>40</td>\n      <td>0.00</td>\n      <td>False</td>\n      <td>651</td>\n      <td>True</td>\n      <td>147715.83</td>\n      <td>1</td>\n      <td>False</td>\n      <td>1</td>\n      <td>4</td>\n      <td>1094</td>\n    </tr>\n    <tr>\n      <th>9998</th>\n      <td>1</td>\n      <td>2023-12-31 00:00:00+00:00</td>\n      <td>0</td>\n      <td>1</td>\n      <td>50</td>\n      <td>81947.76</td>\n      <td>False</td>\n      <td>630</td>\n      <td>True</td>\n      <td>63606.22</td>\n      <td>1</td>\n      <td>False</td>\n      <td>1</td>\n      <td>1</td>\n      <td>1501</td>\n    </tr>\n    <tr>\n      <th>9999</th>\n      <td>1</td>\n      <td>2023-12-31 00:00:00+00:00</td>\n      <td>1</td>\n      <td>0</td>\n      <td>33</td>\n      <td>164385.53</td>\n      <td>False</td>\n      <td>845</td>\n      <td>True</td>\n      <td>150664.97</td>\n      <td>1</td>\n      <td>False</td>\n      <td>0</td>\n      <td>8</td>\n      <td>2193</td>\n    </tr>\n  </tbody>\n</table>\n</div>"
     },
     "execution_count": 8,
     "metadata": {},
     "output_type": "execute_result"
    }
   ],
   "source": [
    "dataset.to_df().tail()"
   ],
   "metadata": {
    "collapsed": false
   }
  }
 ],
 "metadata": {
  "kernelspec": {
   "display_name": "Python 3",
   "language": "python",
   "name": "python3"
  },
  "language_info": {
   "codemirror_mode": {
    "name": "ipython",
    "version": 3
   },
   "file_extension": ".py",
   "mimetype": "text/x-python",
   "name": "python",
   "nbconvert_exporter": "python",
   "pygments_lexer": "ipython3",
   "version": "3.11.9"
  }
 },
 "nbformat": 4,
 "nbformat_minor": 0
}
