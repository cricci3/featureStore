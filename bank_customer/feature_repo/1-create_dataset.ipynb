{
 "cells": [
  {
   "cell_type": "code",
   "execution_count": 11,
   "metadata": {
    "collapsed": true
   },
   "outputs": [],
   "source": [
    "import pandas as pd\n",
    "from feast import FeatureStore\n",
    "from feast.infra.offline_stores.file_source import SavedDatasetFileStorage"
   ]
  },
  {
   "cell_type": "code",
   "execution_count": 12,
   "metadata": {
    "collapsed": false
   },
   "outputs": [],
   "source": [
    "# Getting the FS\n",
    "store = FeatureStore(repo_path=\".\")"
   ]
  },
  {
   "cell_type": "code",
   "execution_count": 13,
   "metadata": {
    "collapsed": false
   },
   "outputs": [],
   "source": [
    "# Reading the target as an entity DataFrame\n",
    "entity_df = pd.read_parquet(path=r\"data/target_df.parquet\")\n",
    "feature_service = store.get_feature_service(\"user_activity\")\n",
    "training_data = store.get_historical_features(\n",
    "    entity_df=entity_df,\n",
    "    features=feature_service\n",
    ")"
   ]
  },
  {
   "cell_type": "code",
   "execution_count": 14,
   "metadata": {
    "collapsed": false
   },
   "outputs": [
    {
     "name": "stderr",
     "output_type": "stream",
     "text": [
      "C:\\Users\\damia\\AppData\\Roaming\\Python\\Python311\\site-packages\\feast\\feature_store.py:1125: RuntimeWarning: Saving dataset is an experimental feature. This API is unstable and it could and most probably will be changed in the future. We do not guarantee that future changes will maintain backward compatibility.\n",
      "  warnings.warn(\n"
     ]
    }
   ],
   "source": [
    "# Storing the dataset as a local file\n",
    "dataset = store.create_saved_dataset(\n",
    "    from_=training_data,\n",
    "    name=\"churn_dataset\",\n",
    "    storage=SavedDatasetFileStorage(r\"data/churn_dataset.parquet\")\n",
    ")"
   ]
  },
  {
   "cell_type": "code",
   "execution_count": 15,
   "metadata": {
    "collapsed": false
   },
   "outputs": [
    {
     "data": {
      "text/html": [
       "<div>\n",
       "<style scoped>\n",
       "    .dataframe tbody tr th:only-of-type {\n",
       "        vertical-align: middle;\n",
       "    }\n",
       "\n",
       "    .dataframe tbody tr th {\n",
       "        vertical-align: top;\n",
       "    }\n",
       "\n",
       "    .dataframe thead th {\n",
       "        text-align: right;\n",
       "    }\n",
       "</style>\n",
       "<table border=\"1\" class=\"dataframe\">\n",
       "  <thead>\n",
       "    <tr style=\"text-align: right;\">\n",
       "      <th></th>\n",
       "      <th>Tenure</th>\n",
       "      <th>Geography_France</th>\n",
       "      <th>event_timestamp</th>\n",
       "      <th>Geography_Germany</th>\n",
       "      <th>Age</th>\n",
       "      <th>CreditScore</th>\n",
       "      <th>USER_ID</th>\n",
       "      <th>EstimatedSalary</th>\n",
       "      <th>Gender</th>\n",
       "      <th>IsActiveMember</th>\n",
       "      <th>Geography_Spain</th>\n",
       "      <th>NumOfProducts</th>\n",
       "      <th>Exited</th>\n",
       "      <th>Balance</th>\n",
       "      <th>HasCrCard</th>\n",
       "    </tr>\n",
       "  </thead>\n",
       "  <tbody>\n",
       "    <tr>\n",
       "      <th>0</th>\n",
       "      <td>4</td>\n",
       "      <td>False</td>\n",
       "      <td>2023-01-01 00:00:00+00:00</td>\n",
       "      <td>True</td>\n",
       "      <td>29</td>\n",
       "      <td>792</td>\n",
       "      <td>3618</td>\n",
       "      <td>18922.18</td>\n",
       "      <td>0</td>\n",
       "      <td>0</td>\n",
       "      <td>False</td>\n",
       "      <td>1</td>\n",
       "      <td>1</td>\n",
       "      <td>107601.79</td>\n",
       "      <td>1</td>\n",
       "    </tr>\n",
       "    <tr>\n",
       "      <th>1</th>\n",
       "      <td>3</td>\n",
       "      <td>True</td>\n",
       "      <td>2023-01-01 00:00:00+00:00</td>\n",
       "      <td>False</td>\n",
       "      <td>39</td>\n",
       "      <td>686</td>\n",
       "      <td>3152</td>\n",
       "      <td>136643.84</td>\n",
       "      <td>0</td>\n",
       "      <td>0</td>\n",
       "      <td>False</td>\n",
       "      <td>1</td>\n",
       "      <td>0</td>\n",
       "      <td>111695.62</td>\n",
       "      <td>0</td>\n",
       "    </tr>\n",
       "    <tr>\n",
       "      <th>2</th>\n",
       "      <td>9</td>\n",
       "      <td>False</td>\n",
       "      <td>2023-01-01 00:00:00+00:00</td>\n",
       "      <td>True</td>\n",
       "      <td>54</td>\n",
       "      <td>572</td>\n",
       "      <td>4195</td>\n",
       "      <td>195771.95</td>\n",
       "      <td>0</td>\n",
       "      <td>1</td>\n",
       "      <td>False</td>\n",
       "      <td>1</td>\n",
       "      <td>0</td>\n",
       "      <td>97382.53</td>\n",
       "      <td>1</td>\n",
       "    </tr>\n",
       "    <tr>\n",
       "      <th>3</th>\n",
       "      <td>6</td>\n",
       "      <td>True</td>\n",
       "      <td>2023-01-01 00:00:00+00:00</td>\n",
       "      <td>False</td>\n",
       "      <td>37</td>\n",
       "      <td>643</td>\n",
       "      <td>8080</td>\n",
       "      <td>142454.77</td>\n",
       "      <td>1</td>\n",
       "      <td>0</td>\n",
       "      <td>False</td>\n",
       "      <td>2</td>\n",
       "      <td>0</td>\n",
       "      <td>0.00</td>\n",
       "      <td>0</td>\n",
       "    </tr>\n",
       "    <tr>\n",
       "      <th>4</th>\n",
       "      <td>1</td>\n",
       "      <td>False</td>\n",
       "      <td>2023-01-01 00:00:00+00:00</td>\n",
       "      <td>False</td>\n",
       "      <td>48</td>\n",
       "      <td>587</td>\n",
       "      <td>2599</td>\n",
       "      <td>8908.00</td>\n",
       "      <td>1</td>\n",
       "      <td>1</td>\n",
       "      <td>True</td>\n",
       "      <td>2</td>\n",
       "      <td>0</td>\n",
       "      <td>0.00</td>\n",
       "      <td>1</td>\n",
       "    </tr>\n",
       "  </tbody>\n",
       "</table>\n",
       "</div>"
      ],
      "text/plain": [
       "   Tenure  Geography_France           event_timestamp  Geography_Germany  Age  \\\n",
       "0       4             False 2023-01-01 00:00:00+00:00               True   29   \n",
       "1       3              True 2023-01-01 00:00:00+00:00              False   39   \n",
       "2       9             False 2023-01-01 00:00:00+00:00               True   54   \n",
       "3       6              True 2023-01-01 00:00:00+00:00              False   37   \n",
       "4       1             False 2023-01-01 00:00:00+00:00              False   48   \n",
       "\n",
       "   CreditScore  USER_ID  EstimatedSalary  Gender  IsActiveMember  \\\n",
       "0          792     3618         18922.18       0               0   \n",
       "1          686     3152        136643.84       0               0   \n",
       "2          572     4195        195771.95       0               1   \n",
       "3          643     8080        142454.77       1               0   \n",
       "4          587     2599          8908.00       1               1   \n",
       "\n",
       "   Geography_Spain  NumOfProducts  Exited    Balance  HasCrCard  \n",
       "0            False              1       1  107601.79          1  \n",
       "1            False              1       0  111695.62          0  \n",
       "2            False              1       0   97382.53          1  \n",
       "3            False              2       0       0.00          0  \n",
       "4             True              2       0       0.00          1  "
      ]
     },
     "execution_count": 15,
     "metadata": {},
     "output_type": "execute_result"
    }
   ],
   "source": [
    "dataset.to_df().head()"
   ]
  },
  {
   "cell_type": "code",
   "execution_count": 16,
   "metadata": {
    "collapsed": false
   },
   "outputs": [
    {
     "data": {
      "text/plain": [
       "Tenure                             int64\n",
       "Geography_France                    bool\n",
       "event_timestamp      datetime64[ns, UTC]\n",
       "Geography_Germany                   bool\n",
       "Age                                int64\n",
       "CreditScore                        int64\n",
       "USER_ID                            int64\n",
       "EstimatedSalary                  float64\n",
       "Gender                             int64\n",
       "IsActiveMember                     int64\n",
       "Geography_Spain                     bool\n",
       "NumOfProducts                      int64\n",
       "Exited                             int64\n",
       "Balance                          float64\n",
       "HasCrCard                          int64\n",
       "dtype: object"
      ]
     },
     "execution_count": 16,
     "metadata": {},
     "output_type": "execute_result"
    }
   ],
   "source": [
    "dataset.to_df().dtypes"
   ]
  },
  {
   "cell_type": "markdown",
   "metadata": {
    "collapsed": false
   },
   "source": [
    "### Data visualization"
   ]
  },
  {
   "cell_type": "code",
   "execution_count": 17,
   "metadata": {
    "collapsed": false
   },
   "outputs": [
    {
     "data": {
      "text/plain": [
       "Tenure               0\n",
       "Geography_France     0\n",
       "event_timestamp      0\n",
       "Geography_Germany    0\n",
       "Age                  0\n",
       "CreditScore          0\n",
       "USER_ID              0\n",
       "EstimatedSalary      0\n",
       "Gender               0\n",
       "IsActiveMember       0\n",
       "Geography_Spain      0\n",
       "NumOfProducts        0\n",
       "Exited               0\n",
       "Balance              0\n",
       "HasCrCard            0\n",
       "dtype: int64"
      ]
     },
     "execution_count": 17,
     "metadata": {},
     "output_type": "execute_result"
    }
   ],
   "source": [
    "# Verifica dei valori nulli\n",
    "null_counts = dataset.to_df().isnull().sum()\n",
    "null_counts"
   ]
  }
 ],
 "metadata": {
  "kernelspec": {
   "display_name": "Python 3",
   "language": "python",
   "name": "python3"
  },
  "language_info": {
   "codemirror_mode": {
    "name": "ipython",
    "version": 3
   },
   "file_extension": ".py",
   "mimetype": "text/x-python",
   "name": "python",
   "nbconvert_exporter": "python",
   "pygments_lexer": "ipython3",
   "version": "3.11.9"
  }
 },
 "nbformat": 4,
 "nbformat_minor": 0
}
