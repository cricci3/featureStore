{
 "cells": [
  {
   "cell_type": "code",
   "execution_count": 1,
   "outputs": [],
   "source": [
    "from feast import FeatureStore\n",
    "from feast.data_source import PushMode\n",
    "import pandas as pd\n",
    "from datetime import datetime"
   ],
   "metadata": {
    "collapsed": false
   }
  },
  {
   "cell_type": "code",
   "execution_count": 2,
   "outputs": [],
   "source": [
    "# Getting our FeatureStore\n",
    "store = FeatureStore(repo_path=\".\")"
   ],
   "metadata": {
    "collapsed": false
   }
  },
  {
   "cell_type": "code",
   "execution_count": 4,
   "metadata": {
    "collapsed": true
   },
   "outputs": [
    {
     "data": {
      "text/plain": "   NumOfProducts  HasCrCard  Exited  Age  Balance  Geography_Spain  \\\n0              4          1       1   56  13000.0             True   \n\n   Geography_France  Geography_Germany  CreditScore  EstimatedSalary  Gender  \\\n0             False              False          630          1500.49       0   \n\n   IsActiveMember  Tenure  USER_ID      event_timestamp  \n0               0       9    10000  2024-05-30 12:51:33  ",
      "text/html": "<div>\n<style scoped>\n    .dataframe tbody tr th:only-of-type {\n        vertical-align: middle;\n    }\n\n    .dataframe tbody tr th {\n        vertical-align: top;\n    }\n\n    .dataframe thead th {\n        text-align: right;\n    }\n</style>\n<table border=\"1\" class=\"dataframe\">\n  <thead>\n    <tr style=\"text-align: right;\">\n      <th></th>\n      <th>NumOfProducts</th>\n      <th>HasCrCard</th>\n      <th>Exited</th>\n      <th>Age</th>\n      <th>Balance</th>\n      <th>Geography_Spain</th>\n      <th>Geography_France</th>\n      <th>Geography_Germany</th>\n      <th>CreditScore</th>\n      <th>EstimatedSalary</th>\n      <th>Gender</th>\n      <th>IsActiveMember</th>\n      <th>Tenure</th>\n      <th>USER_ID</th>\n      <th>event_timestamp</th>\n    </tr>\n  </thead>\n  <tbody>\n    <tr>\n      <th>0</th>\n      <td>4</td>\n      <td>1</td>\n      <td>1</td>\n      <td>56</td>\n      <td>13000.0</td>\n      <td>True</td>\n      <td>False</td>\n      <td>False</td>\n      <td>630</td>\n      <td>1500.49</td>\n      <td>0</td>\n      <td>0</td>\n      <td>9</td>\n      <td>10000</td>\n      <td>2024-05-30 12:51:33</td>\n    </tr>\n  </tbody>\n</table>\n</div>"
     },
     "execution_count": 4,
     "metadata": {},
     "output_type": "execute_result"
    }
   ],
   "source": [
    "event_df = pd.DataFrame.from_dict(\n",
    "        {\n",
    "            \"NumOfProducts\":4,\n",
    "            \"HasCrCard\":1,\n",
    "            \"Exited\":1,\n",
    "            \"Age\":56,\n",
    "            \"Balance\":13000.00,\n",
    "            \"Geography_Spain\":True,\n",
    "            \"Geography_France\":False,\n",
    "            \"Geography_Germany\":False,\n",
    "            \"CreditScore\":630,\n",
    "            \"EstimatedSalary\":1500.49,\n",
    "            \"Gender\":0,\n",
    "            \"IsActiveMember\":0,\n",
    "            \"Tenure\":9,\n",
    "            \"USER_ID\":10000,\n",
    "            \"event_timestamp\": [\n",
    "                datetime.now().strftime('%Y-%m-%d %H:%M:%S%z')\n",
    "            ]\n",
    "        }\n",
    "    )\n",
    "event_df"
   ]
  },
  {
   "cell_type": "code",
   "execution_count": 6,
   "outputs": [
    {
     "ename": "PushSourceNotFoundException",
     "evalue": "Unable to find push source 'feature_repo'.",
     "output_type": "error",
     "traceback": [
      "\u001B[1;31m---------------------------------------------------------------------------\u001B[0m",
      "\u001B[1;31mPushSourceNotFoundException\u001B[0m               Traceback (most recent call last)",
      "Cell \u001B[1;32mIn[6], line 1\u001B[0m\n\u001B[1;32m----> 1\u001B[0m \u001B[43mstore\u001B[49m\u001B[38;5;241;43m.\u001B[39;49m\u001B[43mpush\u001B[49m\u001B[43m(\u001B[49m\u001B[38;5;124;43m\"\u001B[39;49m\u001B[38;5;124;43mfeature_repo\u001B[39;49m\u001B[38;5;124;43m\"\u001B[39;49m\u001B[43m,\u001B[49m\u001B[43m \u001B[49m\u001B[43mevent_df\u001B[49m\u001B[43m,\u001B[49m\u001B[43m \u001B[49m\u001B[43mto\u001B[49m\u001B[38;5;241;43m=\u001B[39;49m\u001B[43mPushMode\u001B[49m\u001B[38;5;241;43m.\u001B[39;49m\u001B[43mONLINE_AND_OFFLINE\u001B[49m\u001B[43m)\u001B[49m\n",
      "File \u001B[1;32m~\\AppData\\Local\\Programs\\Python\\Python311\\Lib\\site-packages\\feast\\feature_store.py:1393\u001B[0m, in \u001B[0;36mFeatureStore.push\u001B[1;34m(self, push_source_name, df, allow_registry_cache, to)\u001B[0m\n\u001B[0;32m   1382\u001B[0m fvs_with_push_sources \u001B[38;5;241m=\u001B[39m {\n\u001B[0;32m   1383\u001B[0m     fv\n\u001B[0;32m   1384\u001B[0m     \u001B[38;5;28;01mfor\u001B[39;00m fv \u001B[38;5;129;01min\u001B[39;00m all_fvs\n\u001B[1;32m   (...)\u001B[0m\n\u001B[0;32m   1389\u001B[0m     )\n\u001B[0;32m   1390\u001B[0m }\n\u001B[0;32m   1392\u001B[0m \u001B[38;5;28;01mif\u001B[39;00m \u001B[38;5;129;01mnot\u001B[39;00m fvs_with_push_sources:\n\u001B[1;32m-> 1393\u001B[0m     \u001B[38;5;28;01mraise\u001B[39;00m PushSourceNotFoundException(push_source_name)\n\u001B[0;32m   1395\u001B[0m \u001B[38;5;28;01mfor\u001B[39;00m fv \u001B[38;5;129;01min\u001B[39;00m fvs_with_push_sources:\n\u001B[0;32m   1396\u001B[0m     \u001B[38;5;28;01mif\u001B[39;00m to \u001B[38;5;241m==\u001B[39m PushMode\u001B[38;5;241m.\u001B[39mONLINE \u001B[38;5;129;01mor\u001B[39;00m to \u001B[38;5;241m==\u001B[39m PushMode\u001B[38;5;241m.\u001B[39mONLINE_AND_OFFLINE:\n",
      "\u001B[1;31mPushSourceNotFoundException\u001B[0m: Unable to find push source 'feature_repo'."
     ]
    }
   ],
   "source": [
    "store.push(\"feature_repo\", event_df, to=PushMode.ONLINE_AND_OFFLINE)"
   ],
   "metadata": {
    "collapsed": false
   }
  }
 ],
 "metadata": {
  "kernelspec": {
   "display_name": "Python 3",
   "language": "python",
   "name": "python3"
  },
  "language_info": {
   "codemirror_mode": {
    "name": "ipython",
    "version": 2
   },
   "file_extension": ".py",
   "mimetype": "text/x-python",
   "name": "python",
   "nbconvert_exporter": "python",
   "pygments_lexer": "ipython2",
   "version": "2.7.6"
  }
 },
 "nbformat": 4,
 "nbformat_minor": 0
}
