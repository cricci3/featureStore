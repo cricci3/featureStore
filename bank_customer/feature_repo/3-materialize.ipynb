{
 "cells": [
  {
   "cell_type": "code",
   "execution_count": 1,
   "metadata": {
    "collapsed": true
   },
   "outputs": [],
   "source": [
    "# Importing dependencies\n",
    "from feast import FeatureStore\n",
    "from datetime import datetime, timedelta"
   ]
  },
  {
   "cell_type": "code",
   "execution_count": 2,
   "metadata": {
    "collapsed": false
   },
   "outputs": [
    {
     "name": "stdout",
     "output_type": "stream",
     "text": [
      "Materializing \u001b[1m\u001b[32m5\u001b[0m feature views to \u001b[1m\u001b[32m2024-05-23 14:36:05+02:00\u001b[0m into the \u001b[1m\u001b[32mredis\u001b[0m online store.\n",
      "\n",
      "\u001b[1m\u001b[32mdf3_feature_view\u001b[0m from \u001b[1m\u001b[32m2024-05-23 16:08:10+02:00\u001b[0m to \u001b[1m\u001b[32m2024-05-23 14:36:05+02:00\u001b[0m:\n"
     ]
    },
    {
     "name": "stderr",
     "output_type": "stream",
     "text": [
      "0it [00:00, ?it/s]\n"
     ]
    },
    {
     "name": "stdout",
     "output_type": "stream",
     "text": [
      "\u001b[1m\u001b[32mdf4_feature_view\u001b[0m from \u001b[1m\u001b[32m2024-05-23 16:08:10+02:00\u001b[0m to \u001b[1m\u001b[32m2024-05-23 16:36:05+02:00\u001b[0m:\n"
     ]
    },
    {
     "name": "stderr",
     "output_type": "stream",
     "text": [
      "0it [00:00, ?it/s]\n"
     ]
    },
    {
     "name": "stdout",
     "output_type": "stream",
     "text": [
      "\u001b[1m\u001b[32mdf1_feature_view\u001b[0m from \u001b[1m\u001b[32m2024-05-23 16:08:10+02:00\u001b[0m to \u001b[1m\u001b[32m2024-05-23 16:36:05+02:00\u001b[0m:\n"
     ]
    },
    {
     "name": "stderr",
     "output_type": "stream",
     "text": [
      "0it [00:00, ?it/s]\n"
     ]
    },
    {
     "name": "stdout",
     "output_type": "stream",
     "text": [
      "\u001b[1m\u001b[32mtarget_feature_view\u001b[0m from \u001b[1m\u001b[32m2024-05-23 16:08:10+02:00\u001b[0m to \u001b[1m\u001b[32m2024-05-23 16:36:05+02:00\u001b[0m:\n"
     ]
    },
    {
     "name": "stderr",
     "output_type": "stream",
     "text": [
      "0it [00:00, ?it/s]"
     ]
    },
    {
     "name": "stdout",
     "output_type": "stream",
     "text": [
      "\u001b[1m\u001b[32mdf2_feature_view\u001b[0m from \u001b[1m\u001b[32m2024-05-23 16:08:10+02:00\u001b[0m to \u001b[1m\u001b[32m2024-05-23 16:36:05+02:00\u001b[0m:\n"
     ]
    },
    {
     "name": "stderr",
     "output_type": "stream",
     "text": [
      "\n",
      "0it [00:00, ?it/s]\n"
     ]
    }
   ],
   "source": [
    "# Getting our FeatureStore\n",
    "store = FeatureStore(repo_path=\".\")\n",
    "\n",
    "# Code for loading features to online store between two dates\n",
    "\"\"\"store.materialize(\n",
    "    end_date=datetime.now() - timedelta(days=421),\n",
    "    start_date=datetime.now() - timedelta(days=501))\"\"\"\n",
    "\n",
    "# Loading the latest features after a previous materialize call or from the beginning of time\n",
    "store.materialize_incremental(end_date=datetime.now())"
   ]
  }
 ],
 "metadata": {
  "kernelspec": {
   "display_name": "Python 3",
   "language": "python",
   "name": "python3"
  },
  "language_info": {
   "codemirror_mode": {
    "name": "ipython",
    "version": 3
   },
   "file_extension": ".py",
   "mimetype": "text/x-python",
   "name": "python",
   "nbconvert_exporter": "python",
   "pygments_lexer": "ipython3",
   "version": "3.11.9"
  }
 },
 "nbformat": 4,
 "nbformat_minor": 0
}
