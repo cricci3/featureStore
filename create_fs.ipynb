{
 "cells": [
  {
   "cell_type": "code",
   "execution_count": 1,
   "metadata": {
    "collapsed": true
   },
   "outputs": [],
   "source": [
    "import pandas as pd"
   ]
  },
  {
   "cell_type": "code",
   "execution_count": 2,
   "metadata": {
    "collapsed": false
   },
   "outputs": [],
   "source": [
    "# Carica il tuo dataset CSV\n",
    "path = 'Plant_1_Generation_Data.csv'\n",
    "df = pd.read_csv(path)"
   ]
  },
  {
   "cell_type": "code",
   "execution_count": 3,
   "metadata": {
    "collapsed": false
   },
   "outputs": [],
   "source": [
    "df['TARGET'] = 0  # initialize the column with 0\n",
    "df.loc[(df['AC_POWER'] != 0) & (df['DC_POWER'] != 0), 'TARGET'] = 1"
   ]
  },
  {
   "cell_type": "code",
   "execution_count": 4,
   "metadata": {},
   "outputs": [],
   "source": [
    "df.rename(columns={'DATE_TIME':'event_timestamp'}, inplace=True)"
   ]
  },
  {
   "cell_type": "code",
   "execution_count": 5,
   "metadata": {
    "collapsed": false
   },
   "outputs": [
    {
     "data": {
      "text/plain": "event_timestamp     object\nPLANT_ID             int64\nSOURCE_KEY          object\nDC_POWER           float64\nAC_POWER           float64\nDAILY_YIELD        float64\nTOTAL_YIELD        float64\nTARGET               int64\ndtype: object"
     },
     "execution_count": 5,
     "metadata": {},
     "output_type": "execute_result"
    }
   ],
   "source": [
    "df.dtypes"
   ]
  },
  {
   "cell_type": "code",
   "execution_count": 6,
   "metadata": {
    "collapsed": false
   },
   "outputs": [
    {
     "data": {
      "text/plain": "    event_timestamp  PLANT_ID       SOURCE_KEY  DC_POWER  AC_POWER  \\\n0  15-05-2020 00:00   4135001  1BY6WEcLGh8j5v7       0.0       0.0   \n1  15-05-2020 00:00   4135001  1IF53ai7Xc0U56Y       0.0       0.0   \n2  15-05-2020 00:00   4135001  3PZuoBAID5Wc2HD       0.0       0.0   \n3  15-05-2020 00:00   4135001  7JYdWkrLSPkdwr4       0.0       0.0   \n4  15-05-2020 00:00   4135001  McdE0feGgRqW7Ca       0.0       0.0   \n\n   DAILY_YIELD  TOTAL_YIELD  TARGET  \n0          0.0    6259559.0       0  \n1          0.0    6183645.0       0  \n2          0.0    6987759.0       0  \n3          0.0    7602960.0       0  \n4          0.0    7158964.0       0  ",
      "text/html": "<div>\n<style scoped>\n    .dataframe tbody tr th:only-of-type {\n        vertical-align: middle;\n    }\n\n    .dataframe tbody tr th {\n        vertical-align: top;\n    }\n\n    .dataframe thead th {\n        text-align: right;\n    }\n</style>\n<table border=\"1\" class=\"dataframe\">\n  <thead>\n    <tr style=\"text-align: right;\">\n      <th></th>\n      <th>event_timestamp</th>\n      <th>PLANT_ID</th>\n      <th>SOURCE_KEY</th>\n      <th>DC_POWER</th>\n      <th>AC_POWER</th>\n      <th>DAILY_YIELD</th>\n      <th>TOTAL_YIELD</th>\n      <th>TARGET</th>\n    </tr>\n  </thead>\n  <tbody>\n    <tr>\n      <th>0</th>\n      <td>15-05-2020 00:00</td>\n      <td>4135001</td>\n      <td>1BY6WEcLGh8j5v7</td>\n      <td>0.0</td>\n      <td>0.0</td>\n      <td>0.0</td>\n      <td>6259559.0</td>\n      <td>0</td>\n    </tr>\n    <tr>\n      <th>1</th>\n      <td>15-05-2020 00:00</td>\n      <td>4135001</td>\n      <td>1IF53ai7Xc0U56Y</td>\n      <td>0.0</td>\n      <td>0.0</td>\n      <td>0.0</td>\n      <td>6183645.0</td>\n      <td>0</td>\n    </tr>\n    <tr>\n      <th>2</th>\n      <td>15-05-2020 00:00</td>\n      <td>4135001</td>\n      <td>3PZuoBAID5Wc2HD</td>\n      <td>0.0</td>\n      <td>0.0</td>\n      <td>0.0</td>\n      <td>6987759.0</td>\n      <td>0</td>\n    </tr>\n    <tr>\n      <th>3</th>\n      <td>15-05-2020 00:00</td>\n      <td>4135001</td>\n      <td>7JYdWkrLSPkdwr4</td>\n      <td>0.0</td>\n      <td>0.0</td>\n      <td>0.0</td>\n      <td>7602960.0</td>\n      <td>0</td>\n    </tr>\n    <tr>\n      <th>4</th>\n      <td>15-05-2020 00:00</td>\n      <td>4135001</td>\n      <td>McdE0feGgRqW7Ca</td>\n      <td>0.0</td>\n      <td>0.0</td>\n      <td>0.0</td>\n      <td>7158964.0</td>\n      <td>0</td>\n    </tr>\n  </tbody>\n</table>\n</div>"
     },
     "execution_count": 6,
     "metadata": {},
     "output_type": "execute_result"
    }
   ],
   "source": [
    "df.head()"
   ]
  },
  {
   "cell_type": "code",
   "execution_count": 7,
   "metadata": {
    "collapsed": false
   },
   "outputs": [
    {
     "data": {
      "text/plain": "event_timestamp    datetime64[ns]\nPLANT_ID                    int64\nSOURCE_KEY                 object\nDC_POWER                  float64\nAC_POWER                  float64\nDAILY_YIELD               float64\nTOTAL_YIELD               float64\nTARGET                      int64\ndtype: object"
     },
     "execution_count": 7,
     "metadata": {},
     "output_type": "execute_result"
    }
   ],
   "source": [
    "df['event_timestamp'] = pd.to_datetime(df['event_timestamp'], format='%d-%m-%Y %H:%M')\n",
    "df.dtypes"
   ]
  },
  {
   "cell_type": "code",
   "execution_count": 8,
   "metadata": {
    "collapsed": false
   },
   "outputs": [],
   "source": [
    "# Splitting the dataset into 3 sets of features\n",
    "data_df0 = df.iloc[:, :1]\n",
    "data_df1 = df.iloc[:, 1:3]  # Columns PLANT_ID and SOURCE_KEY\n",
    "data_df2 = df.iloc[:, 3:5]  # Columns DC_POWER and AC_POWER\n",
    "data_df3 = df.iloc[:, 5:7]  # Columns DAILY_YIELD and TOTAL_YIELD"
   ]
  },
  {
   "cell_type": "code",
   "execution_count": 9,
   "metadata": {
    "collapsed": false
   },
   "outputs": [
    {
     "data": {
      "text/plain": "   DAILY_YIELD  TOTAL_YIELD\n0          0.0    6259559.0\n1          0.0    6183645.0\n2          0.0    6987759.0\n3          0.0    7602960.0\n4          0.0    7158964.0",
      "text/html": "<div>\n<style scoped>\n    .dataframe tbody tr th:only-of-type {\n        vertical-align: middle;\n    }\n\n    .dataframe tbody tr th {\n        vertical-align: top;\n    }\n\n    .dataframe thead th {\n        text-align: right;\n    }\n</style>\n<table border=\"1\" class=\"dataframe\">\n  <thead>\n    <tr style=\"text-align: right;\">\n      <th></th>\n      <th>DAILY_YIELD</th>\n      <th>TOTAL_YIELD</th>\n    </tr>\n  </thead>\n  <tbody>\n    <tr>\n      <th>0</th>\n      <td>0.0</td>\n      <td>6259559.0</td>\n    </tr>\n    <tr>\n      <th>1</th>\n      <td>0.0</td>\n      <td>6183645.0</td>\n    </tr>\n    <tr>\n      <th>2</th>\n      <td>0.0</td>\n      <td>6987759.0</td>\n    </tr>\n    <tr>\n      <th>3</th>\n      <td>0.0</td>\n      <td>7602960.0</td>\n    </tr>\n    <tr>\n      <th>4</th>\n      <td>0.0</td>\n      <td>7158964.0</td>\n    </tr>\n  </tbody>\n</table>\n</div>"
     },
     "execution_count": 9,
     "metadata": {},
     "output_type": "execute_result"
    }
   ],
   "source": [
    "target_df = df[['TARGET']]\n",
    "data_df3.head()"
   ]
  },
  {
   "cell_type": "code",
   "execution_count": 10,
   "metadata": {
    "collapsed": false
   },
   "outputs": [
    {
     "data": {
      "text/plain": "   TARGET event_timestamp\n0       0      2020-05-15\n1       0      2020-05-15\n2       0      2020-05-15\n3       0      2020-05-15\n4       0      2020-05-15",
      "text/html": "<div>\n<style scoped>\n    .dataframe tbody tr th:only-of-type {\n        vertical-align: middle;\n    }\n\n    .dataframe tbody tr th {\n        vertical-align: top;\n    }\n\n    .dataframe thead th {\n        text-align: right;\n    }\n</style>\n<table border=\"1\" class=\"dataframe\">\n  <thead>\n    <tr style=\"text-align: right;\">\n      <th></th>\n      <th>TARGET</th>\n      <th>event_timestamp</th>\n    </tr>\n  </thead>\n  <tbody>\n    <tr>\n      <th>0</th>\n      <td>0</td>\n      <td>2020-05-15</td>\n    </tr>\n    <tr>\n      <th>1</th>\n      <td>0</td>\n      <td>2020-05-15</td>\n    </tr>\n    <tr>\n      <th>2</th>\n      <td>0</td>\n      <td>2020-05-15</td>\n    </tr>\n    <tr>\n      <th>3</th>\n      <td>0</td>\n      <td>2020-05-15</td>\n    </tr>\n    <tr>\n      <th>4</th>\n      <td>0</td>\n      <td>2020-05-15</td>\n    </tr>\n  </tbody>\n</table>\n</div>"
     },
     "execution_count": 10,
     "metadata": {},
     "output_type": "execute_result"
    }
   ],
   "source": [
    "# Adding the timestamp column to each DataFrame\n",
    "data_df1 = pd.concat(objs=[data_df1, data_df0], axis=1)\n",
    "data_df2 = pd.concat(objs=[data_df2, data_df0], axis=1)\n",
    "data_df3 = pd.concat(objs=[data_df3, data_df0], axis=1)\n",
    "target_df = pd.concat(objs=[target_df, data_df0], axis=1)\n",
    "target_df.head()"
   ]
  },
  {
   "cell_type": "code",
   "execution_count": 11,
   "metadata": {
    "collapsed": false
   },
   "outputs": [],
   "source": [
    "# Creating a list of arbitrary IDs for feature rows\n",
    "data_id = pd.DataFrame(data=list(range(len(df))), columns=[\"DATA_ID\"])"
   ]
  },
  {
   "cell_type": "code",
   "execution_count": 12,
   "metadata": {
    "collapsed": false
   },
   "outputs": [
    {
     "data": {
      "text/plain": "   TARGET event_timestamp  DATA_ID\n0       0      2020-05-15        0\n1       0      2020-05-15        1\n2       0      2020-05-15        2\n3       0      2020-05-15        3\n4       0      2020-05-15        4",
      "text/html": "<div>\n<style scoped>\n    .dataframe tbody tr th:only-of-type {\n        vertical-align: middle;\n    }\n\n    .dataframe tbody tr th {\n        vertical-align: top;\n    }\n\n    .dataframe thead th {\n        text-align: right;\n    }\n</style>\n<table border=\"1\" class=\"dataframe\">\n  <thead>\n    <tr style=\"text-align: right;\">\n      <th></th>\n      <th>TARGET</th>\n      <th>event_timestamp</th>\n      <th>DATA_ID</th>\n    </tr>\n  </thead>\n  <tbody>\n    <tr>\n      <th>0</th>\n      <td>0</td>\n      <td>2020-05-15</td>\n      <td>0</td>\n    </tr>\n    <tr>\n      <th>1</th>\n      <td>0</td>\n      <td>2020-05-15</td>\n      <td>1</td>\n    </tr>\n    <tr>\n      <th>2</th>\n      <td>0</td>\n      <td>2020-05-15</td>\n      <td>2</td>\n    </tr>\n    <tr>\n      <th>3</th>\n      <td>0</td>\n      <td>2020-05-15</td>\n      <td>3</td>\n    </tr>\n    <tr>\n      <th>4</th>\n      <td>0</td>\n      <td>2020-05-15</td>\n      <td>4</td>\n    </tr>\n  </tbody>\n</table>\n</div>"
     },
     "execution_count": 12,
     "metadata": {},
     "output_type": "execute_result"
    }
   ],
   "source": [
    "# Adding the ID column to each DataFrame\n",
    "data_df1 = pd.concat(objs=[data_df1, data_id], axis=1)\n",
    "data_df2 = pd.concat(objs=[data_df2, data_id], axis=1)\n",
    "data_df3 = pd.concat(objs=[data_df3, data_id], axis=1)\n",
    "target_df = pd.concat(objs=[target_df, data_id], axis=1)\n",
    "target_df.head()"
   ]
  },
  {
   "cell_type": "code",
   "execution_count": 13,
   "metadata": {
    "collapsed": false
   },
   "outputs": [],
   "source": [
    "data_df1.to_parquet(path='solar_power\\\\feature_repo\\data\\data_df1.parquet')\n",
    "data_df2.to_parquet(path='solar_power\\\\feature_repo\\data\\data_df2.parquet')\n",
    "data_df3.to_parquet(path='solar_power\\\\feature_repo\\data\\data_df3.parquet')\n",
    "target_df.to_parquet(path='solar_power\\\\feature_repo\\data\\\\target_df.parquet')"
   ]
  }
 ],
 "metadata": {
  "kernelspec": {
   "display_name": "Python 3",
   "language": "python",
   "name": "python3"
  },
  "language_info": {
   "codemirror_mode": {
    "name": "ipython",
    "version": 3
   },
   "file_extension": ".py",
   "mimetype": "text/x-python",
   "name": "python",
   "nbconvert_exporter": "python",
   "pygments_lexer": "ipython3",
   "version": "3.9.1"
  }
 },
 "nbformat": 4,
 "nbformat_minor": 0
}
